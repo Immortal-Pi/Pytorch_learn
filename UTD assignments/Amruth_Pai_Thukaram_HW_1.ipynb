{
  "cells": [
    {
      "cell_type": "markdown",
      "id": "Q4vVUgxxDJD0",
      "metadata": {
        "id": "Q4vVUgxxDJD0"
      },
      "source": [
        "# <font color =indianred >**HW1 - 15 Points** </font>\n",
        "- **You have to submit two files for this part of the HW**\n",
        "  >(1) ipynb (colab notebook) and<br>\n",
        "  >(2) pdf file (pdf version of the colab file).**\n",
        "- **Files should be named as follows**:\n",
        ">FirstName_LastName_HW_1**\n"
      ]
    },
    {
      "cell_type": "code",
      "source": [
        "from google.colab import drive\n",
        "drive.mount('/content/drive')"
      ],
      "metadata": {
        "colab": {
          "base_uri": "https://localhost:8080/",
          "height": 0
        },
        "id": "ard9xn_RfnWc",
        "outputId": "0f1ea942-6a6b-47e9-83a5-a11d9739e271"
      },
      "id": "ard9xn_RfnWc",
      "execution_count": 1,
      "outputs": [
        {
          "output_type": "stream",
          "name": "stdout",
          "text": [
            "Mounted at /content/drive\n"
          ]
        }
      ]
    },
    {
      "cell_type": "code",
      "execution_count": 2,
      "id": "IsWkg1CufBwg",
      "metadata": {
        "id": "IsWkg1CufBwg"
      },
      "outputs": [],
      "source": [
        "import torch\n",
        "import time"
      ]
    },
    {
      "cell_type": "markdown",
      "id": "2Voz6l5RUZRh",
      "metadata": {
        "id": "2Voz6l5RUZRh"
      },
      "source": [
        "# <font color = indianred>**Q1 : Create Tensor (1/2 Point)**\n",
        " Create a torch Tensor of shape (5, 3) which is filled with zeros. Modify the tensor to set element (0, 2) to 10 and element (2, 0)  to 100."
      ]
    },
    {
      "cell_type": "code",
      "execution_count": 3,
      "id": "bI9MwTaamhis",
      "metadata": {
        "id": "bI9MwTaamhis"
      },
      "outputs": [],
      "source": [
        "my_tensor = torch.zeros((5,3))"
      ]
    },
    {
      "cell_type": "code",
      "execution_count": 4,
      "id": "7QEV2uq-yqZK",
      "metadata": {
        "colab": {
          "base_uri": "https://localhost:8080/",
          "height": 0
        },
        "id": "7QEV2uq-yqZK",
        "outputId": "c2acc3cb-d74c-4f05-94ff-d70aa1cc73ec"
      },
      "outputs": [
        {
          "output_type": "execute_result",
          "data": {
            "text/plain": [
              "torch.Size([5, 3])"
            ]
          },
          "metadata": {},
          "execution_count": 4
        }
      ],
      "source": [
        "my_tensor.shape"
      ]
    },
    {
      "cell_type": "code",
      "execution_count": 5,
      "id": "yAxzhRVGyr6c",
      "metadata": {
        "colab": {
          "base_uri": "https://localhost:8080/",
          "height": 0
        },
        "id": "yAxzhRVGyr6c",
        "outputId": "fd2ba8e3-148d-49c2-fc9f-78be482c8cb4"
      },
      "outputs": [
        {
          "output_type": "execute_result",
          "data": {
            "text/plain": [
              "tensor([[0., 0., 0.],\n",
              "        [0., 0., 0.],\n",
              "        [0., 0., 0.],\n",
              "        [0., 0., 0.],\n",
              "        [0., 0., 0.]])"
            ]
          },
          "metadata": {},
          "execution_count": 5
        }
      ],
      "source": [
        "my_tensor"
      ]
    },
    {
      "cell_type": "code",
      "execution_count": 6,
      "id": "FCM4GuyWylQV",
      "metadata": {
        "id": "FCM4GuyWylQV"
      },
      "outputs": [],
      "source": [
        "# Manually set the value at the first row and third column to 10,\n",
        "# and the value at the third row and first column to 100 in the tensor named \"my_tensor\".\n",
        "my_tensor[0,2]=10\n",
        "my_tensor[2,0]=100\n",
        "# CODE HERE"
      ]
    },
    {
      "cell_type": "code",
      "execution_count": 7,
      "id": "ZdEftwuPyyx9",
      "metadata": {
        "colab": {
          "base_uri": "https://localhost:8080/",
          "height": 0
        },
        "id": "ZdEftwuPyyx9",
        "outputId": "33111438-4a04-4f2e-c879-5aad03cd111e"
      },
      "outputs": [
        {
          "output_type": "execute_result",
          "data": {
            "text/plain": [
              "tensor([[  0.,   0.,  10.],\n",
              "        [  0.,   0.,   0.],\n",
              "        [100.,   0.,   0.],\n",
              "        [  0.,   0.,   0.],\n",
              "        [  0.,   0.,   0.]])"
            ]
          },
          "metadata": {},
          "execution_count": 7
        }
      ],
      "source": [
        "my_tensor"
      ]
    },
    {
      "cell_type": "markdown",
      "id": "6Eoa6rF80ZTa",
      "metadata": {
        "id": "6Eoa6rF80ZTa"
      },
      "source": [
        "# <font color = indianred>**Q2: Reshape tensor (1/2 Point)**\n",
        "You have following tensor as input:\n",
        "\n",
        "```x=torch.tensor([0, 1, 2, 3, 4, 5, 6, 7, 8, 9, 10, 11, 12, 13, 14, 15, 16, 17, 18, 19, 20, 21, 22, 23])```\n",
        "\n",
        "Using only reshaping functions (like view, reshape, transpose, permute), you need to get at the following tensor as output:\n",
        "\n",
        "```\n",
        "tensor([[ 0,  4,  8, 12, 16, 20],\n",
        "        [ 1,  5,  9, 13, 17, 21],\n",
        "        [ 2,  6, 10, 14, 18, 22],\n",
        "        [ 3,  7, 11, 15, 19, 23]])\n",
        "```\n",
        "\n"
      ]
    },
    {
      "cell_type": "code",
      "execution_count": 8,
      "id": "LDBQ6kYZ-JRV",
      "metadata": {
        "id": "LDBQ6kYZ-JRV"
      },
      "outputs": [],
      "source": [
        "x=torch.tensor([0, 1, 2, 3, 4, 5, 6, 7, 8, 9, 10, 11, 12, 13, 14, 15, 16, 17, 18, 19, 20, 21, 22, 23])"
      ]
    },
    {
      "cell_type": "code",
      "execution_count": 9,
      "id": "b6_SdFS-ke_x",
      "metadata": {
        "colab": {
          "base_uri": "https://localhost:8080/",
          "height": 0
        },
        "id": "b6_SdFS-ke_x",
        "outputId": "fcbea6d7-9a05-4de7-d1f1-6d0cdcf9c356"
      },
      "outputs": [
        {
          "output_type": "execute_result",
          "data": {
            "text/plain": [
              "tensor([[ 0,  4,  8, 12, 16, 20],\n",
              "        [ 1,  5,  9, 13, 17, 21],\n",
              "        [ 2,  6, 10, 14, 18, 22],\n",
              "        [ 3,  7, 11, 15, 19, 23]])"
            ]
          },
          "metadata": {},
          "execution_count": 9
        }
      ],
      "source": [
        "x = x.reshape(6,4).t()\n",
        "x"
      ]
    },
    {
      "cell_type": "markdown",
      "id": "dnw5qi7A4ysc",
      "metadata": {
        "id": "dnw5qi7A4ysc"
      },
      "source": [
        "# <font color = indianred>**Q3: Slice tensor (1Point)**\n",
        "\n",
        "- Slice the tensor x to get the following\n",
        ">- last row of x\n",
        ">- fourth column of x\n",
        ">- first three rows and first two columns - the shape of subtensor should be (3,2)\n",
        ">- odd valued rows and columns"
      ]
    },
    {
      "cell_type": "code",
      "execution_count": 10,
      "id": "STbUdF0J5IBD",
      "metadata": {
        "colab": {
          "base_uri": "https://localhost:8080/",
          "height": 0
        },
        "id": "STbUdF0J5IBD",
        "outputId": "0d32617d-f51c-4359-a2c8-edbf23cb6281"
      },
      "outputs": [
        {
          "output_type": "execute_result",
          "data": {
            "text/plain": [
              "tensor([[ 1,  2,  3,  4,  5],\n",
              "        [ 6,  7,  8,  8, 10],\n",
              "        [11, 12, 13, 14, 15]])"
            ]
          },
          "metadata": {},
          "execution_count": 10
        }
      ],
      "source": [
        "x = torch.tensor([[1, 2, 3, 4, 5], [6, 7, 8, 8, 10], [11, 12, 13, 14, 15]])\n",
        "x"
      ]
    },
    {
      "cell_type": "code",
      "execution_count": 11,
      "id": "mgHPm0qP5ZU3",
      "metadata": {
        "colab": {
          "base_uri": "https://localhost:8080/",
          "height": 0
        },
        "id": "mgHPm0qP5ZU3",
        "outputId": "cbb0257e-73a3-4c80-9bbf-f669c39974c3"
      },
      "outputs": [
        {
          "output_type": "execute_result",
          "data": {
            "text/plain": [
              "torch.Size([3, 5])"
            ]
          },
          "metadata": {},
          "execution_count": 11
        }
      ],
      "source": [
        "x.shape"
      ]
    },
    {
      "cell_type": "code",
      "execution_count": 12,
      "id": "hzQRs79A5JGd",
      "metadata": {
        "colab": {
          "base_uri": "https://localhost:8080/",
          "height": 0
        },
        "id": "hzQRs79A5JGd",
        "outputId": "cf8bd45b-cfed-40b9-cef3-3c0437daaf7d"
      },
      "outputs": [
        {
          "output_type": "execute_result",
          "data": {
            "text/plain": [
              "tensor([[11, 12, 13, 14, 15]])"
            ]
          },
          "metadata": {},
          "execution_count": 12
        }
      ],
      "source": [
        "# Student Task: Retrieve the last row of the tensor 'x'\n",
        "# Hint: Negative indexing can help you select rows or columns counting from the end of the tensor.\n",
        "# Think about how you can select all columns for the desiindianred row.\n",
        "last_row = x[-1:,:]\n",
        "last_row"
      ]
    },
    {
      "cell_type": "code",
      "execution_count": 13,
      "id": "-mb_Et866ZEW",
      "metadata": {
        "colab": {
          "base_uri": "https://localhost:8080/",
          "height": 0
        },
        "id": "-mb_Et866ZEW",
        "outputId": "d9f0213d-d639-43f4-df59-d577c3cd62f8"
      },
      "outputs": [
        {
          "output_type": "execute_result",
          "data": {
            "text/plain": [
              "tensor([ 4,  8, 14])"
            ]
          },
          "metadata": {},
          "execution_count": 13
        }
      ],
      "source": [
        "# Student Task: Retrieve the fourth column of the tensor 'x'\n",
        "# Hint: Pay attention to the indexing for both rows and columns.\n",
        "# Remember that indexing in Python starts from zero.\n",
        "fourth_column = x[:,3]\n",
        "fourth_column"
      ]
    },
    {
      "cell_type": "code",
      "execution_count": 14,
      "id": "c2VaG6Y16jsA",
      "metadata": {
        "colab": {
          "base_uri": "https://localhost:8080/",
          "height": 0
        },
        "id": "c2VaG6Y16jsA",
        "outputId": "e2cba4bf-888c-42fb-8c74-a12a817e4209"
      },
      "outputs": [
        {
          "output_type": "execute_result",
          "data": {
            "text/plain": [
              "tensor([[ 1,  2],\n",
              "        [ 6,  7],\n",
              "        [11, 12]])"
            ]
          },
          "metadata": {},
          "execution_count": 14
        }
      ],
      "source": [
        "# Student Task: Retrieve the first 3 rows and first 2 columns from the tensor 'x'.\n",
        "# Hint: Use slicing to extract the requiindianred subset of rows and columns.\n",
        "first_3_rows_2_columns = x[:3,:2]\n",
        "first_3_rows_2_columns"
      ]
    },
    {
      "cell_type": "code",
      "execution_count": 15,
      "id": "RHnSUpxs7O82",
      "metadata": {
        "colab": {
          "base_uri": "https://localhost:8080/",
          "height": 0
        },
        "id": "RHnSUpxs7O82",
        "outputId": "8fcfc1d7-8dd3-4c5a-ced3-23016e165a0a"
      },
      "outputs": [
        {
          "output_type": "execute_result",
          "data": {
            "text/plain": [
              "tensor([[ 1,  3,  5],\n",
              "        [11, 13, 15]])"
            ]
          },
          "metadata": {},
          "execution_count": 15
        }
      ],
      "source": [
        "# Student Task: Retrieve the rows and columns with odd-indexed positions from the tensor 'x'.\n",
        "# Hint: Use stride slicing to extract the requiindianred subset of rows and columns with odd indices.\n",
        "odd_valued_rows_columns = x[::2,::2]\n",
        "odd_valued_rows_columns"
      ]
    },
    {
      "cell_type": "markdown",
      "id": "uSj20OEuf6bf",
      "metadata": {
        "id": "uSj20OEuf6bf"
      },
      "source": [
        "#  <font color = indianred>**Q4 -Normalize Function (1/2 Points)**<font>\n",
        "\n",
        "Write the function that normalizes the columns of a matrix. You have to compute the mean and standard deviation of each column. Then for each element of the column, you subtract the mean and divide by the standard deviation."
      ]
    },
    {
      "cell_type": "code",
      "execution_count": 16,
      "id": "8L9JBFNilkWt",
      "metadata": {
        "id": "8L9JBFNilkWt"
      },
      "outputs": [],
      "source": [
        "# Given Data\n",
        "x = [[ 3,  60,  100, -100],\n",
        "     [ 2,  20,  600, -600],\n",
        "     [-5,  50,  900, -900]]"
      ]
    },
    {
      "cell_type": "code",
      "execution_count": 17,
      "id": "iRrhopVBl-0q",
      "metadata": {
        "id": "iRrhopVBl-0q"
      },
      "outputs": [],
      "source": [
        "# Convert to PyTorch Tensor and set to float\n",
        "X = torch.tensor(x)\n",
        "X= X.float()"
      ]
    },
    {
      "cell_type": "code",
      "execution_count": 18,
      "id": "S2MaocHxmEQJ",
      "metadata": {
        "colab": {
          "base_uri": "https://localhost:8080/",
          "height": 0
        },
        "id": "S2MaocHxmEQJ",
        "outputId": "57cfe26d-c127-4ecb-9a97-1a94a2129245"
      },
      "outputs": [
        {
          "output_type": "stream",
          "name": "stdout",
          "text": [
            "torch.Size([3, 4])\n",
            "torch.float32\n"
          ]
        }
      ],
      "source": [
        "# Print shape and data type for verification\n",
        "print(X.shape)\n",
        "print(X.dtype)"
      ]
    },
    {
      "cell_type": "code",
      "execution_count": 19,
      "id": "rPgb1L9RmQAU",
      "metadata": {
        "colab": {
          "base_uri": "https://localhost:8080/",
          "height": 0
        },
        "id": "rPgb1L9RmQAU",
        "outputId": "4443c127-800c-43b2-cf5a-bc09ac4e43fd"
      },
      "outputs": [
        {
          "output_type": "execute_result",
          "data": {
            "text/plain": [
              "tensor([  4.3589,  20.8167, 404.1452, 404.1452])"
            ]
          },
          "metadata": {},
          "execution_count": 19
        }
      ],
      "source": [
        "# Compute and display the mean and standard deviation of each column for reference\n",
        "X.mean(axis = 0)\n",
        "X.std(axis = 0)"
      ]
    },
    {
      "cell_type": "code",
      "execution_count": 20,
      "id": "qnM87Db1mqFH",
      "metadata": {
        "colab": {
          "base_uri": "https://localhost:8080/",
          "height": 0
        },
        "id": "qnM87Db1mqFH",
        "outputId": "ea5e0030-9e5d-46d4-b677-04b74dd782f5"
      },
      "outputs": [
        {
          "output_type": "execute_result",
          "data": {
            "text/plain": [
              "tensor([  4.3589,  20.8167, 404.1452, 404.1452])"
            ]
          },
          "metadata": {},
          "execution_count": 20
        }
      ],
      "source": [
        "X.std(axis = 0)"
      ]
    },
    {
      "cell_type": "markdown",
      "source": [
        "- Your task starts here\n",
        "- Your normalize_matrix function should take a PyTorch tensor x as input.\n",
        "- It should return a tensor where the columns are normalized.\n",
        "- After implementing your function, use the code provided to verify if the mean for each column in Z is close to zero and the standard deviation is 1."
      ],
      "metadata": {
        "id": "Yy2hehDnJHOq"
      },
      "id": "Yy2hehDnJHOq"
    },
    {
      "cell_type": "code",
      "execution_count": 21,
      "id": "mwq8qnqFlu9V",
      "metadata": {
        "id": "mwq8qnqFlu9V"
      },
      "outputs": [],
      "source": [
        "def normalize_matrix(x):\n",
        "  # Calculate the mean along each column (think carefully , you will take mean along axis = 0 or 1)\n",
        "  mean = x.mean(axis=0)\n",
        "\n",
        "  # Calculate the standard deviation along each column\n",
        "  std = x.std(axis=0)\n",
        "\n",
        "  # Normalize each element in the columns by subtracting the mean and dividing by the standard deviation\n",
        "  y = (x-mean)/std\n",
        "\n",
        "  return y  # Return the normalized matrix\n",
        "\n"
      ]
    },
    {
      "cell_type": "code",
      "execution_count": 22,
      "id": "m027Qcgwm9OL",
      "metadata": {
        "colab": {
          "base_uri": "https://localhost:8080/",
          "height": 0
        },
        "id": "m027Qcgwm9OL",
        "outputId": "970a9b23-f5f3-4b28-b4cf-e210744b5d02"
      },
      "outputs": [
        {
          "output_type": "execute_result",
          "data": {
            "text/plain": [
              "tensor([[ 0.6882,  0.8006, -1.0722,  1.0722],\n",
              "        [ 0.4588, -1.1209,  0.1650, -0.1650],\n",
              "        [-1.1471,  0.3203,  0.9073, -0.9073]])"
            ]
          },
          "metadata": {},
          "execution_count": 22
        }
      ],
      "source": [
        "Z = normalize_matrix(X)\n",
        "Z"
      ]
    },
    {
      "cell_type": "code",
      "execution_count": 23,
      "id": "78-0D3KfnHel",
      "metadata": {
        "colab": {
          "base_uri": "https://localhost:8080/",
          "height": 0
        },
        "id": "78-0D3KfnHel",
        "outputId": "4b05f3fc-2a48-45ce-a288-b4947cd23ec8"
      },
      "outputs": [
        {
          "output_type": "execute_result",
          "data": {
            "text/plain": [
              "tensor([ 0.0000e+00,  4.9671e-08,  3.9736e-08, -3.9736e-08])"
            ]
          },
          "metadata": {},
          "execution_count": 23
        }
      ],
      "source": [
        "Z.mean(axis = 0) # mean is close to 0"
      ]
    },
    {
      "cell_type": "code",
      "source": [
        "Z.std(axis=0) # std is close to 1"
      ],
      "metadata": {
        "colab": {
          "base_uri": "https://localhost:8080/",
          "height": 0
        },
        "id": "ihpn1vI3ulsG",
        "outputId": "728afd63-e439-43f6-bed3-e9a168397fc0"
      },
      "id": "ihpn1vI3ulsG",
      "execution_count": 24,
      "outputs": [
        {
          "output_type": "execute_result",
          "data": {
            "text/plain": [
              "tensor([1., 1., 1., 1.])"
            ]
          },
          "metadata": {},
          "execution_count": 24
        }
      ]
    },
    {
      "cell_type": "markdown",
      "metadata": {
        "id": "cc32848b"
      },
      "source": [
        "# <font color = 'indianred'>**Q5: In-place vs. Out-of-place Operations (1 Point)**\n",
        "\n",
        "1. Create a tensor `A` with values `[1, 2, 3]`.\n",
        "2. Perform an in-place addition (use `add_` method) of `5` to tensor `A`.\n",
        "3. Then, create another tensor `B` with values `[4, 5, 6]` and perform an out-of-place addition of `5`.\n",
        "\n",
        "**Print the memory addresses of `A` and `B` before and after the operations to demonstrate the difference in memory usage. Provide explanation**\n"
      ],
      "id": "cc32848b"
    },
    {
      "cell_type": "code",
      "execution_count": 25,
      "metadata": {
        "id": "19b3aaa5",
        "colab": {
          "base_uri": "https://localhost:8080/",
          "height": 0
        },
        "outputId": "95cd869f-430a-4427-a5e2-95b89d3886f0"
      },
      "outputs": [
        {
          "output_type": "stream",
          "name": "stdout",
          "text": [
            "Original memory address of A: 626786752\n",
            "Memory address of A after in-place addition: 626786752\n",
            "A after in-place addition: tensor([6, 7, 8])\n",
            "Original memory address of B: 553317760\n",
            "Memory address of B after out-of-place addition: 626782464\n",
            "B after out-of-place addition: tensor([ 9, 10, 11])\n"
          ]
        }
      ],
      "source": [
        "A = torch.tensor([1, 2, 3])\n",
        "print('Original memory address of A:', A.data_ptr())\n",
        "A.add_(5)\n",
        "print('Memory address of A after in-place addition:',  A.data_ptr())\n",
        "print('A after in-place addition:', A)\n",
        "\n",
        "B = torch.tensor([4, 5, 6])\n",
        "print('Original memory address of B:', B.data_ptr())\n",
        "B=B+5\n",
        "print('Memory address of B after out-of-place addition:',B.data_ptr())\n",
        "print('B after out-of-place addition:', B)\n"
      ],
      "id": "19b3aaa5"
    },
    {
      "cell_type": "markdown",
      "source": [
        "**Provide Explanation for above question here :**\n",
        "- in-place operations like .add_(),.mul_(), etc save memory but can overwrite values, the memory address remains the same before and after the operation\n",
        "- out-of-place operations +, .add() they are allocated new tensors in memory and do not alter the original tensor. this is a safer for operations but in place is more memory efficient\n"
      ],
      "metadata": {
        "id": "aXi2TsYVElqy"
      },
      "id": "aXi2TsYVElqy"
    },
    {
      "cell_type": "markdown",
      "metadata": {
        "id": "f57bb1a4"
      },
      "source": [
        "# <font color = 'indianred'>**Q6: Tensor Broadcasting (1 Point)**\n",
        "\n",
        "1. Create two tensors `X` with shape `(3, 1)` and `Y` with shape `(1, 3)`. Perform an addition operation on `X` and `Y`.\n",
        "2. Explain how broadcasting is applied in this operation by describing the shape changes that occur internally."
      ],
      "id": "f57bb1a4"
    },
    {
      "cell_type": "code",
      "execution_count": 26,
      "metadata": {
        "id": "699f9bd9",
        "colab": {
          "base_uri": "https://localhost:8080/",
          "height": 0
        },
        "outputId": "41f05466-3004-4638-ab0b-ccf985c151a6"
      },
      "outputs": [
        {
          "output_type": "stream",
          "name": "stdout",
          "text": [
            "Original shapes: torch.Size([3, 1]) torch.Size([1, 3])\n",
            "Result: tensor([[5, 6, 7],\n",
            "        [6, 7, 8],\n",
            "        [7, 8, 9]])\n",
            "Result shape: torch.Size([3, 3])\n"
          ]
        }
      ],
      "source": [
        "X = torch.tensor([[1],[2],[3]])\n",
        "Y = torch.tensor([[4,5,6]])\n",
        "print('Original shapes:', X.shape, Y.shape)\n",
        "result = X+Y\n",
        "print('Result:', result)\n",
        "print('Result shape:', result.shape)\n"
      ],
      "id": "699f9bd9"
    },
    {
      "cell_type": "markdown",
      "source": [
        "**Provide Explanation for above question here :**\n",
        "- Broadcasting is the process that allows operations (like addition, multiplication) on tensors of different shapes without explicitly replicating data\n",
        "- based on the above examples it X columns  is expanded to shape (3X3) and Y is expanded row wise to shape (3X3). Follwing this expansion, element-wise addition is carried out\n",
        "\n"
      ],
      "metadata": {
        "id": "IblSVvPhE4-E"
      },
      "id": "IblSVvPhE4-E"
    },
    {
      "cell_type": "markdown",
      "metadata": {
        "id": "e1f2667e"
      },
      "source": [
        "# <font color = 'indianred'>**Q7: Linear Algebra Operations (1 Point)**\n",
        "\n",
        "1. Create two matrices `M1` and `M2` of compatible shapes for matrix multiplication. Perform the multiplication and print the result.\n",
        "2. Then, create two vectors `V1` and `V2` and compute their dot product.\n"
      ],
      "id": "e1f2667e"
    },
    {
      "cell_type": "code",
      "execution_count": 27,
      "metadata": {
        "colab": {
          "base_uri": "https://localhost:8080/",
          "height": 0
        },
        "id": "d45aed18",
        "outputId": "4c83506b-f26d-44af-b169-ebd3b563deda"
      },
      "outputs": [
        {
          "output_type": "stream",
          "name": "stdout",
          "text": [
            "Matrix multiplication result: tensor([[ 5, 12],\n",
            "        [21, 32]])\n",
            "Dot product: tensor(20)\n"
          ]
        }
      ],
      "source": [
        "M1 = torch.tensor([[1,2],[3,4]])\n",
        "M2 = torch.tensor([[5,6],[7,8]])\n",
        "mat_multiplication =  M1*M2\n",
        "print('Matrix multiplication result:', mat_multiplication)\n",
        "\n",
        "V1 = torch.tensor([1,2,3])\n",
        "V2 =  torch.tensor([2,3,4])\n",
        "dot_product = torch.dot(V1,V2)\n",
        "print('Dot product:', dot_product)\n"
      ],
      "id": "d45aed18"
    },
    {
      "cell_type": "markdown",
      "metadata": {
        "id": "fe24a961"
      },
      "source": [
        "# <font color = 'indianred'>**Q8: Manipulating Tensor Shapes (1 Point)**\n",
        "\n",
        "Given a tensor `T` with shape `(2, 3, 4)`, demonstrate how to\n",
        "1. reshape it to `(3, 8)` using view,\n",
        "2. reshape it to `(4, 2, 3` using reshape,\n",
        "3. transpose the first and last dimensions using permute.\n",
        "4. explain what is the difference between reshape and view"
      ],
      "id": "fe24a961"
    },
    {
      "cell_type": "code",
      "execution_count": 29,
      "metadata": {
        "id": "0644b861",
        "colab": {
          "base_uri": "https://localhost:8080/",
          "height": 0
        },
        "outputId": "69b5f0ea-3de6-4a2e-d540-4b045e920b53"
      },
      "outputs": [
        {
          "output_type": "stream",
          "name": "stdout",
          "text": [
            "T_view shape: torch.Size([3, 8])\n",
            "T_reshape shape: torch.Size([4, 2, 3])\n",
            "T_permute shape: torch.Size([4, 3, 2])\n"
          ]
        }
      ],
      "source": [
        "T = torch.rand(2, 3, 4)\n",
        "T_view =  T.view(3,8)\n",
        "print('T_view shape:', T_view.shape)\n",
        "\n",
        "T_reshape = T.reshape(4,2,3)\n",
        "print('T_reshape shape:', T_reshape.shape)\n",
        "\n",
        "T_permute =  T.permute(2,1,0)\n",
        "print('T_permute shape:', T_permute.shape)"
      ],
      "id": "0644b861"
    },
    {
      "cell_type": "markdown",
      "source": [
        "**Provide Explanation for above question here :**\n",
        "- view vs reshape: view only works when the tensor is stored in a contiguous block of memory and creates a new voew of the same data without copying\n",
        "- reshape is more flexible - it will return a view if possible, but if not it creates a copy of the data with the new shape\n",
        "- permute: reorders dimensions by chainging strides only (no data movement)\n",
        "in this case the first and last was swapped\n",
        "\n"
      ],
      "metadata": {
        "id": "Lb-861xsFXHN"
      },
      "id": "Lb-861xsFXHN"
    },
    {
      "cell_type": "markdown",
      "metadata": {
        "id": "1d5c7b62"
      },
      "source": [
        "# <font color = 'indianred'>**Q9: Tensor Concatenation and Stacking (1 Point)**\n",
        "\n",
        "Create tensors `C1` and `C2` both with shape (2, 3).\n",
        "1. Concatenate them along dimension 0 and then along dimension 1. Print the shape of the resulting tensor.\n",
        "2. Afterwards, stack the same tensors alomng dimension 0  and print the shape of the resulting tensor.\n",
        "3. What is the difference between stacking and concatinating."
      ],
      "id": "1d5c7b62"
    },
    {
      "cell_type": "code",
      "execution_count": 30,
      "metadata": {
        "id": "69e2f7e0",
        "colab": {
          "base_uri": "https://localhost:8080/",
          "height": 0
        },
        "outputId": "883a235a-c6c9-4692-9b5f-c4b85b4de8bc"
      },
      "outputs": [
        {
          "output_type": "stream",
          "name": "stdout",
          "text": [
            "Concatenated along dimension 0: torch.Size([4, 3])\n",
            "Concatenated along dimension 1: torch.Size([2, 6])\n",
            "Stacked tensor shape: torch.Size([2, 2, 3])\n"
          ]
        }
      ],
      "source": [
        "C1 = torch.rand(2, 3)\n",
        "C2 = torch.rand(2, 3)\n",
        "concatenated_dim0 = torch.cat((C1,C2),dim=0)\n",
        "print('Concatenated along dimension 0:', concatenated_dim0.shape)\n",
        "\n",
        "concatenated_dim1 =  torch.cat((C1,C2),dim=1)\n",
        "print('Concatenated along dimension 1:', concatenated_dim1.shape)\n",
        "\n",
        "stacked =  torch.stack((C1,C2),dim=0)\n",
        "print('Stacked tensor shape:', stacked.shape)\n"
      ],
      "id": "69e2f7e0"
    },
    {
      "cell_type": "markdown",
      "source": [
        "**Explain the diffrence between concatinating and stacking here**\n",
        "- concatenation: joins tensors along an existing dimension, the number of dimenstion dont change, from the above examples shape (2,3) along dim=0 produces a (4,3) tensor by adding rows, while concatenating along dim=1 produces a (2,6) tensor by adding columns.\n",
        "\n",
        "- stacking: creates a new dimension and puts the input tensors along it, the number of dumenstions increses by 1. All the tensors must have the same shape\n",
        "\n"
      ],
      "metadata": {
        "id": "kmKpP5xBCCgt"
      },
      "id": "kmKpP5xBCCgt"
    },
    {
      "cell_type": "markdown",
      "metadata": {
        "id": "0d0ed971"
      },
      "source": [
        "# <font color = 'indianred'>**Q10: Advanced Indexing and Slicing (1 Point)**\n",
        "\n",
        "1. Given a tensor `D` with shape (6, 6), extract elements that are greater than 0.5.\n",
        "2. Then, extract the second and fourth rows from `D`.\n",
        "3. Finally, extract a sub-tensor from the top-left 3x3 block."
      ],
      "id": "0d0ed971"
    },
    {
      "cell_type": "code",
      "execution_count": 39,
      "metadata": {
        "id": "df969523",
        "colab": {
          "base_uri": "https://localhost:8080/",
          "height": 0
        },
        "outputId": "90c8f2a5-0485-43cd-94d4-a5ede277e83c"
      },
      "outputs": [
        {
          "output_type": "stream",
          "name": "stdout",
          "text": [
            "tensor([[0.7825, 0.0062, 0.6790, 0.2412, 0.3765, 0.8734],\n",
            "        [0.0292, 0.7236, 0.7633, 0.3242, 0.4825, 0.9024],\n",
            "        [0.9684, 0.2931, 0.8377, 0.0136, 0.2148, 0.4112],\n",
            "        [0.4864, 0.6531, 0.8119, 0.7262, 0.5340, 0.5329],\n",
            "        [0.2394, 0.6133, 0.7810, 0.9976, 0.1765, 0.5893],\n",
            "        [0.0147, 0.3923, 0.4603, 0.7624, 0.7665, 0.0825]])\n",
            "Elements greater than 0.5:\n",
            " tensor([0.7825, 0.6790, 0.8734, 0.7236, 0.7633, 0.9024, 0.9684, 0.8377, 0.6531,\n",
            "        0.8119, 0.7262, 0.5340, 0.5329, 0.6133, 0.7810, 0.9976, 0.5893, 0.7624,\n",
            "        0.7665])\n",
            "\n",
            "Second and fourth rows:\n",
            " tensor([[0.0292, 0.7236, 0.7633, 0.3242, 0.4825, 0.9024],\n",
            "        [0.4864, 0.6531, 0.8119, 0.7262, 0.5340, 0.5329]])\n",
            "\n",
            "Top-left 3x3 block:\n",
            "  tensor([[0.7825, 0.0062, 0.6790],\n",
            "        [0.0292, 0.7236, 0.7633],\n",
            "        [0.9684, 0.2931, 0.8377]])\n"
          ]
        }
      ],
      "source": [
        "D = torch.rand(6, 6)\n",
        "print(D)\n",
        "print('Elements greater than 0.5:\\n',  D[D>0.5])\n",
        "\n",
        "second_fourth_rows =  D[[1,3],:]\n",
        "print('\\nSecond and fourth rows:\\n', second_fourth_rows)\n",
        "\n",
        "top_left_3x3 = D[:3,:3]\n",
        "print('\\nTop-left 3x3 block:\\n ', top_left_3x3)\n"
      ],
      "id": "df969523"
    },
    {
      "cell_type": "markdown",
      "metadata": {
        "id": "c081cf3b"
      },
      "source": [
        "# <font color = 'indianred'>**Q11: Tensor Mathematical Operations (1 Point)**\n",
        "\n",
        "1. Create a tensor `G` with values from 0 to π in steps of π/4.\n",
        "2. Compute and print the sine, cosine, and tangent logarithm and the exponential of `G`."
      ],
      "id": "c081cf3b"
    },
    {
      "cell_type": "code",
      "execution_count": 46,
      "metadata": {
        "id": "4c22b354",
        "colab": {
          "base_uri": "https://localhost:8080/",
          "height": 0
        },
        "outputId": "095c82b7-7099-45e0-9ad2-9d05fe463a56"
      },
      "outputs": [
        {
          "output_type": "stream",
          "name": "stdout",
          "text": [
            "G: tensor([0.0000, 0.7854, 1.5708, 2.3562, 3.1416])\n",
            "Sine of G: tensor([ 0.0000e+00,  7.0711e-01,  1.0000e+00,  7.0711e-01, -8.7423e-08])\n",
            "Cosine of G: tensor([ 1.0000e+00,  7.0711e-01, -4.3711e-08, -7.0711e-01, -1.0000e+00])\n",
            "Tangent of G: tensor([ 0.0000e+00,  1.0000e+00, -2.2877e+07, -1.0000e+00,  8.7423e-08])\n",
            "Natural logarithm of G: tensor([   -inf, -0.2416,  0.4516,  0.8570,  1.1447])\n",
            "Exponential of G: tensor([ 1.0000,  2.1933,  4.8105, 10.5507, 23.1407])\n"
          ]
        }
      ],
      "source": [
        "import math\n",
        "G = torch.arange(0,math.pi+0.0001, math.pi/4)\n",
        "print('G:', G)\n",
        "print('Sine of G:',  torch.sin(G))\n",
        "print('Cosine of G:',  torch.cos(G))\n",
        "print('Tangent of G:', torch.tan(G))\n",
        "print('Natural logarithm of G:',  torch.log(G))\n",
        "print('Exponential of G:', torch.exp(G))\n"
      ],
      "id": "4c22b354"
    },
    {
      "cell_type": "markdown",
      "metadata": {
        "id": "629eb94b"
      },
      "source": [
        "# <font color = 'indianred'>Q12: **Tensor reduction Operations (1 Point)**\n",
        "\n",
        "1. Create a 3x2 tensor `H`.\n",
        "2. Compute the sum of `H`. Print the result and shape after taking sun.\n",
        "3. Then, perform the same operations along dimension 0 and dimension 1, printing the results and shapes.\n",
        "4. What do you observe? How the shape changes?"
      ],
      "id": "629eb94b"
    },
    {
      "cell_type": "code",
      "execution_count": 52,
      "metadata": {
        "id": "729d7275",
        "colab": {
          "base_uri": "https://localhost:8080/",
          "height": 0
        },
        "outputId": "e0cdc813-53a4-41c3-d73e-eacbb0fd266d"
      },
      "outputs": [
        {
          "output_type": "stream",
          "name": "stdout",
          "text": [
            "H: tensor([[0.3021, 0.9761],\n",
            "        [0.5550, 0.4309],\n",
            "        [0.2430, 0.5745]])\n",
            "\n",
            "Shape of original Tensor H torch.Size([3, 2])\n",
            "\n",
            "Sum of H: tensor(3.0816)\n",
            "Shape after Sum of H: torch.Size([])\n",
            "\n",
            "Sum of H along dimension 0: tensor([1.1001, 1.9815])\n",
            "Shape after sum of H along dimension 0: torch.Size([2])\n",
            "\n",
            "Sum of H along dimension 1: tensor([1.2782, 0.9859, 0.8175])\n",
            "Shape after sum of H along dimension 1: torch.Size([3])\n"
          ]
        }
      ],
      "source": [
        "H = torch.rand(3, 2)\n",
        "print('H:', H, end = \"\\n\\n\")\n",
        "print('Shape of original Tensor H', H.shape, end = \"\\n\\n\")\n",
        "\n",
        "print('Sum of H:',  torch.sum(H))\n",
        "print('Shape after Sum of H:',  torch.sum(H).shape,  end = \"\\n\\n\")\n",
        "\n",
        "print('Sum of H along dimension 0:', torch.sum(H,dim=0))\n",
        "print('Shape after sum of H along dimension 0:',  torch.sum(H,dim=0).shape,  end = \"\\n\\n\")\n",
        "\n",
        "print('Sum of H along dimension 1:', torch.sum(H,dim=1))\n",
        "print('Shape after sum of H along dimension 1:',  torch.sum(H,dim=1).shape)\n"
      ],
      "id": "729d7275"
    },
    {
      "cell_type": "markdown",
      "source": [
        "**Provide your observations on shape changes here**\n",
        "- torch.sum(H) :- reduced all dimensions and return a scaler torch.Size([])\n",
        "- torch.sum(H,dim=0):- it adds all the values in the columns\n",
        "- torch.sum(H,dim=1):- adds all the values in the rows\n"
      ],
      "metadata": {
        "id": "hfmDz2OLb8M2"
      },
      "id": "hfmDz2OLb8M2"
    },
    {
      "cell_type": "markdown",
      "metadata": {
        "id": "4a156a3a"
      },
      "source": [
        "# <font color = 'indianred'>**Q13: Working with Tensor Data Types (1 Point)**\n",
        "\n",
        "1. Create a tensor `I` of data type float with values `[1.0, 2.0, 3.0]`.\n",
        "2. Convert `I` to data type int and print the result.\n",
        "3. Explain in which scenarios it's necessary to be cautious about the data type of tensors."
      ],
      "id": "4a156a3a"
    },
    {
      "cell_type": "code",
      "execution_count": 53,
      "metadata": {
        "colab": {
          "base_uri": "https://localhost:8080/",
          "height": 0
        },
        "id": "af427555",
        "outputId": "ac996587-ad3b-48b5-ce15-3e1713f90e3c"
      },
      "outputs": [
        {
          "output_type": "stream",
          "name": "stdout",
          "text": [
            "I: tensor([1., 2., 3.])\n",
            "I converted to int: tensor([1, 2, 3], dtype=torch.int32)\n"
          ]
        }
      ],
      "source": [
        "# Solution for Q16\n",
        "I =  torch.tensor([1,2,3],dtype=torch.float32)\n",
        "print('I:', I)\n",
        "I_int =  I.to(torch.int32)\n",
        "print('I converted to int:', I_int)"
      ],
      "id": "af427555"
    },
    {
      "cell_type": "markdown",
      "source": [
        "**Your explanations here**\n",
        "- Tensor data types determine both precision and memory usage\n",
        "floating-point types () are essential for mathematical operations such as divion, trignometric functions and gradient computations in deep learning.\n",
        "- integer types are more appropriate for tasks like categorical indices, counters or labels\n",
        "- when converting between data types, converting floats to integers truncates decimal values, which may lead to information loss\n",
        "- using lower-precision floats like float16 can reduce memory consumption but risks rounding errors\n"
      ],
      "metadata": {
        "id": "9yyx5WtweGNP"
      },
      "id": "9yyx5WtweGNP"
    },
    {
      "cell_type": "markdown",
      "metadata": {
        "id": "2TU6l0nC3EfW"
      },
      "source": [
        "# <font color = 'indianred'>**Q14. Speedtest for vectorization 1.5 Points** </font>\n",
        "\n",
        "Your goal is to measure the speed of linear algebra operations for different levels of vectorization.\n",
        "\n",
        "1. Construct two matrices $A$ and $B$ with Gaussian random entries of size $1024 \\times 1024$.\n",
        "1. Compute $C = A B$ using matrix-matrix operations and report the time. (Hint: Use torch.mm)\n",
        "1. Compute $C = A B$, treating $A$ as a matrix but computing the result for each column of $B$ one at a time. Report the time. (hint use torch.mv inside a for loop)\n",
        "1. Compute $C = A B$, treating $A$ and $B$ as collections of vectors. Report the time. (Hint: use torch.dot inside nested for loop)"
      ],
      "id": "2TU6l0nC3EfW"
    },
    {
      "cell_type": "code",
      "execution_count": 58,
      "metadata": {
        "id": "wkKjtX0HH2wz"
      },
      "outputs": [],
      "source": [
        "## Solution 1\n",
        "torch.manual_seed(42) # dod not chnage this\n",
        "A = torch.randn(1024,1024)\n",
        "B = torch.randn(1024,1024)"
      ],
      "id": "wkKjtX0HH2wz"
    },
    {
      "cell_type": "code",
      "execution_count": 55,
      "metadata": {
        "id": "kSMH_j5OD2ZB",
        "colab": {
          "base_uri": "https://localhost:8080/",
          "height": 0
        },
        "outputId": "7f757538-f7e3-4325-aa55-a55a7ebf4d56"
      },
      "outputs": [
        {
          "output_type": "stream",
          "name": "stdout",
          "text": [
            "Matrix by matrix: 0.04089665412902832 seconds\n"
          ]
        }
      ],
      "source": [
        "## Solution 2\n",
        "start=time.time()\n",
        "\n",
        "C = torch.mm(A,B)\n",
        "\n",
        "print(\"Matrix by matrix: \" + str(time.time()-start) + \" seconds\")"
      ],
      "id": "kSMH_j5OD2ZB"
    },
    {
      "cell_type": "code",
      "execution_count": 56,
      "metadata": {
        "id": "-tU8yGBP-Crk",
        "colab": {
          "base_uri": "https://localhost:8080/",
          "height": 0
        },
        "outputId": "09bead72-6175-4317-ee35-8285f9111eed"
      },
      "outputs": [
        {
          "output_type": "stream",
          "name": "stdout",
          "text": [
            "Matrix by vector: 1.4014976024627686 seconds\n"
          ]
        }
      ],
      "source": [
        "## Solution 3\n",
        "C= torch.empty(1024,1024)\n",
        "start = time.time()\n",
        "\n",
        "for i in range(B.shape[1]):\n",
        "  C[:,i]=torch.mv(A,B[:,i])\n",
        "\n",
        "print(\"Matrix by vector: \" + str(time.time()-start) + \" seconds\")"
      ],
      "id": "-tU8yGBP-Crk"
    },
    {
      "cell_type": "code",
      "execution_count": 59,
      "metadata": {
        "id": "MFgJCFf6DUFK",
        "colab": {
          "base_uri": "https://localhost:8080/",
          "height": 0
        },
        "outputId": "6a891197-06f7-43f5-9308-15e9026b96b3"
      },
      "outputs": [
        {
          "output_type": "stream",
          "name": "stdout",
          "text": [
            "vector by vector: 18.01245355606079 seconds\n"
          ]
        }
      ],
      "source": [
        "## Solution 4\n",
        "C= torch.empty(1024,1024)\n",
        "start = time.time()\n",
        "\n",
        "for i in range(A.shape[0]):\n",
        "  for j in range(B.shape[1]):\n",
        "    C[i,j]=torch.dot(A[i,:],B[:,j])\n",
        "\n",
        "print(\"vector by vector: \" + str(time.time()-start) + \" seconds\")"
      ],
      "id": "MFgJCFf6DUFK"
    },
    {
      "cell_type": "markdown",
      "metadata": {
        "id": "TtYsJM4mJNdE"
      },
      "source": [
        "# <font color = 'indianred'>**Q15 : Redo Question 14 by using GPU - 1.5 Points**"
      ],
      "id": "TtYsJM4mJNdE"
    },
    {
      "cell_type": "markdown",
      "metadata": {
        "id": "fxJ1UlTf3Efb"
      },
      "source": [
        "<font size = 4, color = 'indianred'> **Using GPUs**\n",
        "\n",
        "How to use GPUs in Google Colab<br>\n",
        "In Google Colab -- Go to Runtime Tab at top -- select change runtime type -- for hardware accelartor choose GPU"
      ],
      "id": "fxJ1UlTf3Efb"
    },
    {
      "cell_type": "code",
      "execution_count": 3,
      "metadata": {
        "id": "_6ilpofMIe1e",
        "colab": {
          "base_uri": "https://localhost:8080/",
          "height": 0
        },
        "outputId": "256cbfe0-48a3-41b4-c77a-c69bca82a29a"
      },
      "outputs": [
        {
          "output_type": "stream",
          "name": "stdout",
          "text": [
            "cuda:0\n"
          ]
        }
      ],
      "source": [
        "# Check if GPU is availaible\n",
        "device = torch.device('cuda:0' if torch.cuda.is_available() else 'cpu')\n",
        "print(device)"
      ],
      "id": "_6ilpofMIe1e"
    },
    {
      "cell_type": "code",
      "execution_count": 4,
      "metadata": {
        "id": "4XMhjifbJcu0"
      },
      "outputs": [],
      "source": [
        "## Solution 1\n",
        "torch.manual_seed(42)\n",
        "A= torch.randn((1024, 1024),device=device)\n",
        "B= torch.randn((1024, 1024),device=device)"
      ],
      "id": "4XMhjifbJcu0"
    },
    {
      "cell_type": "code",
      "execution_count": 5,
      "metadata": {
        "id": "pn-ZKI7sK9Oh",
        "colab": {
          "base_uri": "https://localhost:8080/",
          "height": 0
        },
        "outputId": "7deb114d-7af1-4ac9-a065-9361a6b4a8d2"
      },
      "outputs": [
        {
          "output_type": "stream",
          "name": "stdout",
          "text": [
            "Matrix by matrix: 0.20945501327514648 seconds\n"
          ]
        }
      ],
      "source": [
        "## Solution 2\n",
        "start=time.time()\n",
        "\n",
        "C = torch.mm(A,B)\n",
        "\n",
        "print(\"Matrix by matrix: \" + str(time.time()-start) + \" seconds\")"
      ],
      "id": "pn-ZKI7sK9Oh"
    },
    {
      "cell_type": "code",
      "execution_count": 6,
      "metadata": {
        "id": "GcHPGEitLL8i",
        "colab": {
          "base_uri": "https://localhost:8080/",
          "height": 0
        },
        "outputId": "a8cd09f1-c691-4047-fda8-484ab9aa4729"
      },
      "outputs": [
        {
          "output_type": "stream",
          "name": "stdout",
          "text": [
            "Matrix by vector: 0.14329242706298828 seconds\n"
          ]
        }
      ],
      "source": [
        "## Solution 3\n",
        "C= torch.empty(1024,1024, device = device)\n",
        "start = time.time()\n",
        "\n",
        "for i in range(B.shape[1]):\n",
        "  C[:,i]=torch.mv(A,B[:,i])\n",
        "\n",
        "print(\"Matrix by vector: \" + str(time.time()-start) + \" seconds\")"
      ],
      "id": "GcHPGEitLL8i"
    },
    {
      "cell_type": "code",
      "execution_count": 7,
      "metadata": {
        "id": "wZ5LWSa2Lrdw",
        "colab": {
          "base_uri": "https://localhost:8080/",
          "height": 0
        },
        "outputId": "dda29dd6-1015-4f7b-ac17-7ae1608caf54"
      },
      "outputs": [
        {
          "output_type": "stream",
          "name": "stdout",
          "text": [
            "vector by vector: 45.72378897666931 seconds\n"
          ]
        }
      ],
      "source": [
        "## Solution 4\n",
        "C= torch.empty(1024,1024, device = device)\n",
        "start = time.time()\n",
        "\n",
        "for i in range(A.shape[0]):\n",
        "  for j in range(B.shape[1]):\n",
        "    C[i,j]=torch.dot(A[i,:],B[:,j])\n",
        "\n",
        "print(\"vector by vector: \" + str(time.time()-start) + \" seconds\")"
      ],
      "id": "wZ5LWSa2Lrdw"
    },
    {
      "cell_type": "code",
      "source": [],
      "metadata": {
        "id": "8uaYQncYhPcm"
      },
      "id": "8uaYQncYhPcm",
      "execution_count": null,
      "outputs": []
    }
  ],
  "metadata": {
    "accelerator": "GPU",
    "colab": {
      "provenance": [],
      "machine_shape": "hm",
      "gpuType": "A100"
    },
    "kernelspec": {
      "display_name": "Python 3",
      "name": "python3"
    },
    "language_info": {
      "codemirror_mode": {
        "name": "ipython",
        "version": 3
      },
      "file_extension": ".py",
      "mimetype": "text/x-python",
      "name": "python",
      "nbconvert_exporter": "python",
      "pygments_lexer": "ipython3",
      "version": "3.9.13"
    }
  },
  "nbformat": 4,
  "nbformat_minor": 5
}