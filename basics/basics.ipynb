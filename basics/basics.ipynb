{
 "cells": [
  {
   "cell_type": "code",
   "execution_count": 2,
   "id": "f79cc606",
   "metadata": {},
   "outputs": [],
   "source": [
    "import torch \n",
    "import numpy as np \n"
   ]
  },
  {
   "cell_type": "code",
   "execution_count": 3,
   "id": "fca5d447",
   "metadata": {},
   "outputs": [
    {
     "data": {
      "text/plain": [
       "dtype('int32')"
      ]
     },
     "execution_count": 3,
     "metadata": {},
     "output_type": "execute_result"
    }
   ],
   "source": [
    "lst=[3,4,5,6]\n",
    "arr=np.array(lst)\n",
    "arr.dtype"
   ]
  },
  {
   "cell_type": "markdown",
   "id": "2575911f",
   "metadata": {},
   "source": [
    "# convert numpy to pytorch tensors"
   ]
  },
  {
   "cell_type": "code",
   "execution_count": 4,
   "id": "c5a12895",
   "metadata": {},
   "outputs": [
    {
     "data": {
      "text/plain": [
       "tensor([3, 4, 5, 6], dtype=torch.int32)"
      ]
     },
     "execution_count": 4,
     "metadata": {},
     "output_type": "execute_result"
    }
   ],
   "source": [
    "tensors=torch.from_numpy(arr)\n",
    "tensors"
   ]
  },
  {
   "cell_type": "code",
   "execution_count": 5,
   "id": "19caa6c9",
   "metadata": {},
   "outputs": [
    {
     "name": "stdout",
     "output_type": "stream",
     "text": [
      "tensor([3, 4], dtype=torch.int32)\n"
     ]
    },
    {
     "data": {
      "text/plain": [
       "(tensor([ 3,  4, 10,  6], dtype=torch.int32), array([ 3,  4, 10,  6]))"
      ]
     },
     "execution_count": 5,
     "metadata": {},
     "output_type": "execute_result"
    }
   ],
   "source": [
    "# indexing similar to numpy \n",
    "print(tensors[:2])\n",
    "tensors[2]=10\n",
    "tensors,arr "
   ]
  },
  {
   "cell_type": "code",
   "execution_count": 6,
   "id": "44356d8e",
   "metadata": {},
   "outputs": [
    {
     "data": {
      "text/plain": [
       "(tensor([ 3,  4, 12,  6], dtype=torch.int32), array([ 3,  4, 10,  6]))"
      ]
     },
     "execution_count": 6,
     "metadata": {},
     "output_type": "execute_result"
    }
   ],
   "source": [
    "# copy of the array torch.tensor()\n",
    "tensors2=torch.tensor(arr)\n",
    "tensors2[2]=12\n",
    "tensors2,arr "
   ]
  },
  {
   "cell_type": "markdown",
   "id": "700d18dc",
   "metadata": {},
   "source": [
    "# in built functions in pytorch"
   ]
  },
  {
   "cell_type": "code",
   "execution_count": 7,
   "id": "780561f4",
   "metadata": {},
   "outputs": [
    {
     "data": {
      "text/plain": [
       "tensor([[0., 0., 0.],\n",
       "        [0., 0., 0.]], dtype=torch.float64)"
      ]
     },
     "execution_count": 7,
     "metadata": {},
     "output_type": "execute_result"
    }
   ],
   "source": [
    "# zeros \n",
    "torch.zeros(2,3,dtype=torch.float64)"
   ]
  },
  {
   "cell_type": "code",
   "execution_count": 8,
   "id": "81adb550",
   "metadata": {},
   "outputs": [
    {
     "data": {
      "text/plain": [
       "tensor([[1., 1., 1., 1.],\n",
       "        [1., 1., 1., 1.],\n",
       "        [1., 1., 1., 1.]], dtype=torch.float64)"
      ]
     },
     "execution_count": 8,
     "metadata": {},
     "output_type": "execute_result"
    }
   ],
   "source": [
    "torch.ones(3,4,dtype=torch.float64)"
   ]
  },
  {
   "cell_type": "markdown",
   "id": "4fc04af9",
   "metadata": {},
   "source": [
    "# Arithmetic operations"
   ]
  },
  {
   "cell_type": "code",
   "execution_count": 9,
   "id": "3e05132a",
   "metadata": {},
   "outputs": [
    {
     "name": "stdout",
     "output_type": "stream",
     "text": [
      "tensor([ 8., 10., 12.], dtype=torch.float64)\n"
     ]
    }
   ],
   "source": [
    "a=torch.tensor([3,4,5],dtype=torch.float32)\n",
    "b=torch.tensor([5,6,7],dtype=torch.float64)\n",
    "print(a+b)"
   ]
  },
  {
   "cell_type": "code",
   "execution_count": 10,
   "id": "a161764e",
   "metadata": {},
   "outputs": [
    {
     "name": "stdout",
     "output_type": "stream",
     "text": [
      "tensor([ 8., 10., 12.])\n"
     ]
    }
   ],
   "source": [
    "c=torch.zeros(3)\n",
    "c=torch.add(a,b,out=c)\n",
    "print(c)"
   ]
  },
  {
   "cell_type": "code",
   "execution_count": 11,
   "id": "6caf3b68",
   "metadata": {},
   "outputs": [
    {
     "data": {
      "text/plain": [
       "tensor(30.)"
      ]
     },
     "execution_count": 11,
     "metadata": {},
     "output_type": "execute_result"
    }
   ],
   "source": [
    "torch.add(a,b,out=c).sum() "
   ]
  },
  {
   "cell_type": "code",
   "execution_count": 12,
   "id": "ae269000",
   "metadata": {},
   "outputs": [],
   "source": [
    "a=torch.tensor(np.arange(0,15).reshape(5,3))\n",
    "b=torch.tensor(np.arange(15,30).reshape(5,3))"
   ]
  },
  {
   "cell_type": "code",
   "execution_count": 13,
   "id": "fd1a6140",
   "metadata": {},
   "outputs": [
    {
     "data": {
      "text/plain": [
       "tensor(435)"
      ]
     },
     "execution_count": 13,
     "metadata": {},
     "output_type": "execute_result"
    }
   ],
   "source": [
    "c=a+b \n",
    "c.sum()"
   ]
  },
  {
   "cell_type": "code",
   "execution_count": 14,
   "id": "3c2d1efc",
   "metadata": {},
   "outputs": [
    {
     "data": {
      "text/plain": [
       "tensor([33, 37], dtype=torch.int32)"
      ]
     },
     "execution_count": 14,
     "metadata": {},
     "output_type": "execute_result"
    }
   ],
   "source": [
    "c[3,[0,2]]"
   ]
  },
  {
   "cell_type": "markdown",
   "id": "48d15402",
   "metadata": {},
   "source": [
    "# dot product and multi operation"
   ]
  },
  {
   "cell_type": "code",
   "execution_count": 15,
   "id": "2d8496d2",
   "metadata": {},
   "outputs": [
    {
     "data": {
      "text/plain": [
       "tensor([21., 32., 45., 60.])"
      ]
     },
     "execution_count": 15,
     "metadata": {},
     "output_type": "execute_result"
    }
   ],
   "source": [
    "x=torch.tensor([3,4,5,6],dtype=torch.float32)\n",
    "y=torch.tensor([7,8,9,10],dtype=torch.float32)\n",
    "x.mul(y)"
   ]
  },
  {
   "cell_type": "code",
   "execution_count": 16,
   "id": "433ffb28",
   "metadata": {},
   "outputs": [
    {
     "data": {
      "text/plain": [
       "tensor(158.)"
      ]
     },
     "execution_count": 16,
     "metadata": {},
     "output_type": "execute_result"
    }
   ],
   "source": [
    "#3*7+4*8+5*9+6*10\n",
    "x.dot(y)"
   ]
  },
  {
   "cell_type": "code",
   "execution_count": 17,
   "id": "5d6f215c",
   "metadata": {},
   "outputs": [],
   "source": [
    "# matrix multiplocation \n",
    "x=torch.tensor([[1,4,2],[1,5,5]],dtype=torch.float64)\n",
    "y=torch.tensor([[5,7],[8,6],[9,11]],dtype=torch.float64)"
   ]
  },
  {
   "cell_type": "code",
   "execution_count": 18,
   "id": "21f95c63",
   "metadata": {},
   "outputs": [
    {
     "data": {
      "text/plain": [
       "tensor([[55., 53.],\n",
       "        [90., 92.]], dtype=torch.float64)"
      ]
     },
     "execution_count": 18,
     "metadata": {},
     "output_type": "execute_result"
    }
   ],
   "source": [
    "x.matmul(y)"
   ]
  },
  {
   "cell_type": "code",
   "execution_count": 19,
   "id": "2158004d",
   "metadata": {},
   "outputs": [
    {
     "data": {
      "text/plain": [
       "tensor([[55., 53.],\n",
       "        [90., 92.]], dtype=torch.float64)"
      ]
     },
     "execution_count": 19,
     "metadata": {},
     "output_type": "execute_result"
    }
   ],
   "source": [
    "torch.mm(x,y)"
   ]
  },
  {
   "cell_type": "code",
   "execution_count": 20,
   "id": "effd67f1",
   "metadata": {},
   "outputs": [
    {
     "data": {
      "text/plain": [
       "tensor([[55., 53.],\n",
       "        [90., 92.]], dtype=torch.float64)"
      ]
     },
     "execution_count": 20,
     "metadata": {},
     "output_type": "execute_result"
    }
   ],
   "source": [
    "x@y "
   ]
  },
  {
   "cell_type": "markdown",
   "id": "a6508a08",
   "metadata": {},
   "source": [
    "# to device"
   ]
  },
  {
   "cell_type": "code",
   "execution_count": 23,
   "id": "16c2cd68",
   "metadata": {},
   "outputs": [
    {
     "data": {
      "text/plain": [
       "True"
      ]
     },
     "execution_count": 23,
     "metadata": {},
     "output_type": "execute_result"
    }
   ],
   "source": [
    "# check if gpu is available \n",
    "torch.cuda.is_available()"
   ]
  },
  {
   "cell_type": "code",
   "execution_count": 24,
   "id": "03d2ca1c",
   "metadata": {},
   "outputs": [
    {
     "name": "stdout",
     "output_type": "stream",
     "text": [
      "cuda:0\n"
     ]
    }
   ],
   "source": [
    "device=torch.device(\"cuda:0\"  if torch.cuda.is_available() else \"cpu\")\n",
    "print(device)"
   ]
  },
  {
   "cell_type": "code",
   "execution_count": 30,
   "id": "b287a2cf",
   "metadata": {},
   "outputs": [
    {
     "data": {
      "text/plain": [
       "device(type='cpu')"
      ]
     },
     "execution_count": 30,
     "metadata": {},
     "output_type": "execute_result"
    }
   ],
   "source": [
    "x=torch.tensor([1,2,3,4])\n",
    "x.device"
   ]
  },
  {
   "cell_type": "code",
   "execution_count": 31,
   "id": "ad2ecf9c",
   "metadata": {},
   "outputs": [
    {
     "data": {
      "text/plain": [
       "device(type='cuda', index=0)"
      ]
     },
     "execution_count": 31,
     "metadata": {},
     "output_type": "execute_result"
    }
   ],
   "source": [
    "# move tensors to GPU \n",
    "x=x.to(device=0)\n",
    "x.device"
   ]
  },
  {
   "cell_type": "code",
   "execution_count": 32,
   "id": "14606dc5",
   "metadata": {},
   "outputs": [
    {
     "data": {
      "text/plain": [
       "device(type='cuda', index=0)"
      ]
     },
     "execution_count": 32,
     "metadata": {},
     "output_type": "execute_result"
    }
   ],
   "source": [
    "y=torch.tensor([1,2,3,4],device=device)\n",
    "y.device"
   ]
  },
  {
   "cell_type": "markdown",
   "id": "d476bfe5",
   "metadata": {},
   "source": [
    "# in place memory operation GPU"
   ]
  },
  {
   "cell_type": "code",
   "execution_count": 44,
   "id": "62c4e43f",
   "metadata": {},
   "outputs": [
    {
     "name": "stdout",
     "output_type": "stream",
     "text": [
      "cuda:0\n",
      "initial memory location of t1 2800186939088\n",
      "initial memory location of x 2800186939088\n",
      "tensor([[True, True, True,  ..., True, True, True],\n",
      "        [True, True, True,  ..., True, True, True],\n",
      "        [True, True, True,  ..., True, True, True],\n",
      "        ...,\n",
      "        [True, True, True,  ..., True, True, True],\n",
      "        [True, True, True,  ..., True, True, True],\n",
      "        [True, True, True,  ..., True, True, True]], device='cuda:0')\n",
      "final memory location of tensor t1 is :2800186939088\n",
      "final memory location of tensor x is :2800186939088\n",
      "382.00048828125\n"
     ]
    }
   ],
   "source": [
    "t1=torch.randn(10000,10000,device=\"cpu\")\n",
    "\n",
    "# move tensor to gpu \n",
    "t1=t1.to(device)\n",
    "print(t1.device)\n",
    "\n",
    "# id() function to get memory address of tensor\n",
    "print(f\"initial memory location of t1 {id(t1)}\")\n",
    "x=t1 \n",
    "print(f\"initial memory location of x {id(x)}\")\n",
    "\n",
    "torch.cuda.synchronize()\n",
    "\n",
    "# initial memory allocated\n",
    "start_memory=torch.cuda.memory_allocated()\n",
    "\n",
    "# inplace operation \n",
    "t1+=0.1 \n",
    "t1.add_(0.1)\n",
    "\n",
    "# inplace operation therefore the same \n",
    "print(x==t1)\n",
    "\n",
    "print(f\"final memory location of tensor t1 is :{id(t1)}\")\n",
    "print(f\"final memory location of tensor x is :{id(x)}\")\n",
    "\n",
    "# total memory allocated after function call \n",
    "end_memory=torch.cuda.memory_allocated()\n",
    "\n",
    "# memory allocated because of function call \n",
    "memory_allocated=end_memory=start_memory \n",
    "print(memory_allocated/1024**2)"
   ]
  },
  {
   "cell_type": "markdown",
   "id": "1bd3fce3",
   "metadata": {},
   "source": [
    "# memory out of place operation"
   ]
  },
  {
   "cell_type": "code",
   "execution_count": 46,
   "id": "4287a75f",
   "metadata": {},
   "outputs": [
    {
     "name": "stdout",
     "output_type": "stream",
     "text": [
      "cuda:0\n",
      "initial memory location of tensor t2 2800230228992\n",
      "final memory location of y is : 2800230228992\n",
      "tensor([[False, False, False,  ..., False, False, False],\n",
      "        [False, False, False,  ..., False, False, False],\n",
      "        [False, False, False,  ..., False, False, False],\n",
      "        ...,\n",
      "        [False, False, False,  ..., False, False, False],\n",
      "        [False, False, False,  ..., False, False, False],\n",
      "        [False, False, False,  ..., False, False, False]], device='cuda:0')\n",
      "final memory location of tensor t2 2800249332336\n",
      "final memory location of y is : 2800230228992\n",
      "382.0\n"
     ]
    }
   ],
   "source": [
    "# create tensor\n",
    "t2 = torch.randn(10000, 10000, device=\"cpu\")\n",
    "\n",
    "# move tensor to gpu\n",
    "t2 = t2.to(device)\n",
    "print(t2.device)\n",
    "\n",
    "# we can use id() function to get memory location of tensor\n",
    "print(f\"initial memory location of tensor t2 {id(t2)}\")\n",
    "\n",
    "y = t2\n",
    "print(f\"final memory location of y is : {id(y)}\")\n",
    "\n",
    "# Waits for everything to finish running\n",
    "torch.cuda.synchronize()\n",
    "\n",
    "# initial memory allocated\n",
    "start_memory = torch.cuda.memory_allocated()\n",
    "\n",
    "# out-place opertaions\n",
    "t2 = t2 + 0.1\n",
    "\n",
    "# since the operation was not inplace when we update t2 it will not update y\n",
    "print(y == t2)\n",
    "\n",
    "# we can use id() function to get memory location of tensor\n",
    "print(f\"final memory location of tensor t2 {id(t2)}\")\n",
    "print(f\"final memory location of y is : {id(y)}\")\n",
    "\n",
    "# totall memory allocated after function call\n",
    "end_memory = torch.cuda.memory_allocated()\n",
    "\n",
    "# memory allocated because of function call\n",
    "memory_allocated = end_memory - start_memory\n",
    "print(memory_allocated / 1024**2)"
   ]
  },
  {
   "cell_type": "code",
   "execution_count": null,
   "id": "07cf986e",
   "metadata": {},
   "outputs": [],
   "source": []
  }
 ],
 "metadata": {
  "kernelspec": {
   "display_name": "pytorch",
   "language": "python",
   "name": "python3"
  },
  "language_info": {
   "codemirror_mode": {
    "name": "ipython",
    "version": 3
   },
   "file_extension": ".py",
   "mimetype": "text/x-python",
   "name": "python",
   "nbconvert_exporter": "python",
   "pygments_lexer": "ipython3",
   "version": "3.9.23"
  }
 },
 "nbformat": 4,
 "nbformat_minor": 5
}
