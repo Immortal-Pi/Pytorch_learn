{
 "cells": [
  {
   "cell_type": "markdown",
   "id": "d24f77da",
   "metadata": {},
   "source": [
    "# house price prediction"
   ]
  },
  {
   "cell_type": "code",
   "execution_count": 1,
   "id": "bb404d06",
   "metadata": {},
   "outputs": [],
   "source": [
    "import pandas as pd \n",
    "import torch \n",
    "import numpy as np "
   ]
  },
  {
   "cell_type": "code",
   "execution_count": 2,
   "id": "38bbb6ed",
   "metadata": {},
   "outputs": [
    {
     "data": {
      "text/html": [
       "<div>\n",
       "<style scoped>\n",
       "    .dataframe tbody tr th:only-of-type {\n",
       "        vertical-align: middle;\n",
       "    }\n",
       "\n",
       "    .dataframe tbody tr th {\n",
       "        vertical-align: top;\n",
       "    }\n",
       "\n",
       "    .dataframe thead th {\n",
       "        text-align: right;\n",
       "    }\n",
       "</style>\n",
       "<table border=\"1\" class=\"dataframe\">\n",
       "  <thead>\n",
       "    <tr style=\"text-align: right;\">\n",
       "      <th></th>\n",
       "      <th>MSSubClass</th>\n",
       "      <th>MSZoning</th>\n",
       "      <th>LotFrontage</th>\n",
       "      <th>LotArea</th>\n",
       "      <th>Street</th>\n",
       "      <th>LotShape</th>\n",
       "      <th>YearBuilt</th>\n",
       "      <th>1stFlrSF</th>\n",
       "      <th>2ndFlrSF</th>\n",
       "      <th>SalePrice</th>\n",
       "    </tr>\n",
       "  </thead>\n",
       "  <tbody>\n",
       "    <tr>\n",
       "      <th>0</th>\n",
       "      <td>60</td>\n",
       "      <td>RL</td>\n",
       "      <td>65.0</td>\n",
       "      <td>8450</td>\n",
       "      <td>Pave</td>\n",
       "      <td>Reg</td>\n",
       "      <td>2003</td>\n",
       "      <td>856</td>\n",
       "      <td>854</td>\n",
       "      <td>208500</td>\n",
       "    </tr>\n",
       "    <tr>\n",
       "      <th>1</th>\n",
       "      <td>20</td>\n",
       "      <td>RL</td>\n",
       "      <td>80.0</td>\n",
       "      <td>9600</td>\n",
       "      <td>Pave</td>\n",
       "      <td>Reg</td>\n",
       "      <td>1976</td>\n",
       "      <td>1262</td>\n",
       "      <td>0</td>\n",
       "      <td>181500</td>\n",
       "    </tr>\n",
       "    <tr>\n",
       "      <th>2</th>\n",
       "      <td>60</td>\n",
       "      <td>RL</td>\n",
       "      <td>68.0</td>\n",
       "      <td>11250</td>\n",
       "      <td>Pave</td>\n",
       "      <td>IR1</td>\n",
       "      <td>2001</td>\n",
       "      <td>920</td>\n",
       "      <td>866</td>\n",
       "      <td>223500</td>\n",
       "    </tr>\n",
       "    <tr>\n",
       "      <th>3</th>\n",
       "      <td>70</td>\n",
       "      <td>RL</td>\n",
       "      <td>60.0</td>\n",
       "      <td>9550</td>\n",
       "      <td>Pave</td>\n",
       "      <td>IR1</td>\n",
       "      <td>1915</td>\n",
       "      <td>961</td>\n",
       "      <td>756</td>\n",
       "      <td>140000</td>\n",
       "    </tr>\n",
       "    <tr>\n",
       "      <th>4</th>\n",
       "      <td>60</td>\n",
       "      <td>RL</td>\n",
       "      <td>84.0</td>\n",
       "      <td>14260</td>\n",
       "      <td>Pave</td>\n",
       "      <td>IR1</td>\n",
       "      <td>2000</td>\n",
       "      <td>1145</td>\n",
       "      <td>1053</td>\n",
       "      <td>250000</td>\n",
       "    </tr>\n",
       "  </tbody>\n",
       "</table>\n",
       "</div>"
      ],
      "text/plain": [
       "   MSSubClass MSZoning  LotFrontage  LotArea Street LotShape  YearBuilt  \\\n",
       "0          60       RL         65.0     8450   Pave      Reg       2003   \n",
       "1          20       RL         80.0     9600   Pave      Reg       1976   \n",
       "2          60       RL         68.0    11250   Pave      IR1       2001   \n",
       "3          70       RL         60.0     9550   Pave      IR1       1915   \n",
       "4          60       RL         84.0    14260   Pave      IR1       2000   \n",
       "\n",
       "   1stFlrSF  2ndFlrSF  SalePrice  \n",
       "0       856       854     208500  \n",
       "1      1262         0     181500  \n",
       "2       920       866     223500  \n",
       "3       961       756     140000  \n",
       "4      1145      1053     250000  "
      ]
     },
     "execution_count": 2,
     "metadata": {},
     "output_type": "execute_result"
    }
   ],
   "source": [
    "df=pd.read_csv('datasets/houseprice.csv',usecols=['SalePrice','MSSubClass','MSZoning','LotFrontage','LotArea','Street','YearBuilt','LotShape','1stFlrSF','2ndFlrSF']).dropna()\n",
    "df.head()"
   ]
  },
  {
   "cell_type": "code",
   "execution_count": 3,
   "id": "727f63ef",
   "metadata": {},
   "outputs": [
    {
     "data": {
      "text/plain": [
       "MSSubClass     0\n",
       "MSZoning       0\n",
       "LotFrontage    0\n",
       "LotArea        0\n",
       "Street         0\n",
       "LotShape       0\n",
       "YearBuilt      0\n",
       "1stFlrSF       0\n",
       "2ndFlrSF       0\n",
       "SalePrice      0\n",
       "dtype: int64"
      ]
     },
     "execution_count": 3,
     "metadata": {},
     "output_type": "execute_result"
    }
   ],
   "source": [
    "df.isna().sum()"
   ]
  },
  {
   "cell_type": "code",
   "execution_count": 4,
   "id": "7a2c6b44",
   "metadata": {},
   "outputs": [
    {
     "name": "stdout",
     "output_type": "stream",
     "text": [
      "<class 'pandas.core.frame.DataFrame'>\n",
      "Index: 1201 entries, 0 to 1459\n",
      "Data columns (total 10 columns):\n",
      " #   Column       Non-Null Count  Dtype  \n",
      "---  ------       --------------  -----  \n",
      " 0   MSSubClass   1201 non-null   int64  \n",
      " 1   MSZoning     1201 non-null   object \n",
      " 2   LotFrontage  1201 non-null   float64\n",
      " 3   LotArea      1201 non-null   int64  \n",
      " 4   Street       1201 non-null   object \n",
      " 5   LotShape     1201 non-null   object \n",
      " 6   YearBuilt    1201 non-null   int64  \n",
      " 7   1stFlrSF     1201 non-null   int64  \n",
      " 8   2ndFlrSF     1201 non-null   int64  \n",
      " 9   SalePrice    1201 non-null   int64  \n",
      "dtypes: float64(1), int64(6), object(3)\n",
      "memory usage: 103.2+ KB\n"
     ]
    }
   ],
   "source": [
    "df.info()"
   ]
  },
  {
   "cell_type": "code",
   "execution_count": 5,
   "id": "371dcaeb",
   "metadata": {},
   "outputs": [
    {
     "name": "stdout",
     "output_type": "stream",
     "text": [
      "column name MSSubClass are unique values are 15\n",
      "column name MSZoning are unique values are 5\n",
      "column name LotFrontage are unique values are 110\n",
      "column name LotArea are unique values are 869\n",
      "column name Street are unique values are 2\n",
      "column name LotShape are unique values are 4\n",
      "column name YearBuilt are unique values are 112\n",
      "column name 1stFlrSF are unique values are 678\n",
      "column name 2ndFlrSF are unique values are 368\n",
      "column name SalePrice are unique values are 597\n"
     ]
    }
   ],
   "source": [
    "# choose categorical features \n",
    "for i in df.columns:\n",
    "    print(f'column name {i} are unique values are {len(df[i].unique())}')"
   ]
  },
  {
   "cell_type": "code",
   "execution_count": 6,
   "id": "e5248976",
   "metadata": {},
   "outputs": [
    {
     "data": {
      "text/plain": [
       "2025"
      ]
     },
     "execution_count": 6,
     "metadata": {},
     "output_type": "execute_result"
    }
   ],
   "source": [
    "import datetime\n",
    "datetime.datetime.now().year"
   ]
  },
  {
   "cell_type": "code",
   "execution_count": 7,
   "id": "4857fa66",
   "metadata": {},
   "outputs": [
    {
     "data": {
      "text/html": [
       "<div>\n",
       "<style scoped>\n",
       "    .dataframe tbody tr th:only-of-type {\n",
       "        vertical-align: middle;\n",
       "    }\n",
       "\n",
       "    .dataframe tbody tr th {\n",
       "        vertical-align: top;\n",
       "    }\n",
       "\n",
       "    .dataframe thead th {\n",
       "        text-align: right;\n",
       "    }\n",
       "</style>\n",
       "<table border=\"1\" class=\"dataframe\">\n",
       "  <thead>\n",
       "    <tr style=\"text-align: right;\">\n",
       "      <th></th>\n",
       "      <th>MSSubClass</th>\n",
       "      <th>MSZoning</th>\n",
       "      <th>LotFrontage</th>\n",
       "      <th>LotArea</th>\n",
       "      <th>Street</th>\n",
       "      <th>LotShape</th>\n",
       "      <th>1stFlrSF</th>\n",
       "      <th>2ndFlrSF</th>\n",
       "      <th>SalePrice</th>\n",
       "      <th>today year</th>\n",
       "    </tr>\n",
       "  </thead>\n",
       "  <tbody>\n",
       "    <tr>\n",
       "      <th>0</th>\n",
       "      <td>60</td>\n",
       "      <td>RL</td>\n",
       "      <td>65.0</td>\n",
       "      <td>8450</td>\n",
       "      <td>Pave</td>\n",
       "      <td>Reg</td>\n",
       "      <td>856</td>\n",
       "      <td>854</td>\n",
       "      <td>208500</td>\n",
       "      <td>22</td>\n",
       "    </tr>\n",
       "    <tr>\n",
       "      <th>1</th>\n",
       "      <td>20</td>\n",
       "      <td>RL</td>\n",
       "      <td>80.0</td>\n",
       "      <td>9600</td>\n",
       "      <td>Pave</td>\n",
       "      <td>Reg</td>\n",
       "      <td>1262</td>\n",
       "      <td>0</td>\n",
       "      <td>181500</td>\n",
       "      <td>49</td>\n",
       "    </tr>\n",
       "    <tr>\n",
       "      <th>2</th>\n",
       "      <td>60</td>\n",
       "      <td>RL</td>\n",
       "      <td>68.0</td>\n",
       "      <td>11250</td>\n",
       "      <td>Pave</td>\n",
       "      <td>IR1</td>\n",
       "      <td>920</td>\n",
       "      <td>866</td>\n",
       "      <td>223500</td>\n",
       "      <td>24</td>\n",
       "    </tr>\n",
       "    <tr>\n",
       "      <th>3</th>\n",
       "      <td>70</td>\n",
       "      <td>RL</td>\n",
       "      <td>60.0</td>\n",
       "      <td>9550</td>\n",
       "      <td>Pave</td>\n",
       "      <td>IR1</td>\n",
       "      <td>961</td>\n",
       "      <td>756</td>\n",
       "      <td>140000</td>\n",
       "      <td>110</td>\n",
       "    </tr>\n",
       "    <tr>\n",
       "      <th>4</th>\n",
       "      <td>60</td>\n",
       "      <td>RL</td>\n",
       "      <td>84.0</td>\n",
       "      <td>14260</td>\n",
       "      <td>Pave</td>\n",
       "      <td>IR1</td>\n",
       "      <td>1145</td>\n",
       "      <td>1053</td>\n",
       "      <td>250000</td>\n",
       "      <td>25</td>\n",
       "    </tr>\n",
       "  </tbody>\n",
       "</table>\n",
       "</div>"
      ],
      "text/plain": [
       "   MSSubClass MSZoning  LotFrontage  LotArea Street LotShape  1stFlrSF  \\\n",
       "0          60       RL         65.0     8450   Pave      Reg       856   \n",
       "1          20       RL         80.0     9600   Pave      Reg      1262   \n",
       "2          60       RL         68.0    11250   Pave      IR1       920   \n",
       "3          70       RL         60.0     9550   Pave      IR1       961   \n",
       "4          60       RL         84.0    14260   Pave      IR1      1145   \n",
       "\n",
       "   2ndFlrSF  SalePrice  today year  \n",
       "0       854     208500          22  \n",
       "1         0     181500          49  \n",
       "2       866     223500          24  \n",
       "3       756     140000         110  \n",
       "4      1053     250000          25  "
      ]
     },
     "execution_count": 7,
     "metadata": {},
     "output_type": "execute_result"
    }
   ],
   "source": [
    "df['today year']=datetime.datetime.now().year-df['YearBuilt']\n",
    "df.drop('YearBuilt',axis=1,inplace=True)\n",
    "df.head()"
   ]
  },
  {
   "cell_type": "code",
   "execution_count": 8,
   "id": "daf98275",
   "metadata": {},
   "outputs": [],
   "source": [
    "# split between categorical and contineous features\n",
    "cat_features=['MSSubClass','MSZoning','Street','LotShape']\n",
    "out_feature='SalePrice' "
   ]
  },
  {
   "cell_type": "code",
   "execution_count": 9,
   "id": "98d93e19",
   "metadata": {},
   "outputs": [
    {
     "data": {
      "text/plain": [
       "array([ 60,  20,  70,  50, 190,  45,  90, 120,  30,  80, 160,  75, 180,\n",
       "        40,  85], dtype=int64)"
      ]
     },
     "execution_count": 9,
     "metadata": {},
     "output_type": "execute_result"
    }
   ],
   "source": [
    "df['MSSubClass'].unique()"
   ]
  },
  {
   "cell_type": "code",
   "execution_count": 10,
   "id": "176e0c9c",
   "metadata": {},
   "outputs": [
    {
     "data": {
      "text/plain": [
       "array([5, 0, 5, ..., 6, 0, 0], dtype=int64)"
      ]
     },
     "execution_count": 10,
     "metadata": {},
     "output_type": "execute_result"
    }
   ],
   "source": [
    "from sklearn.preprocessing import LabelEncoder\n",
    "lbl_encoders={}\n",
    "lbl_encoders['MSSubClass']=LabelEncoder()\n",
    "lbl_encoders['MSSubClass'].fit_transform(df['MSSubClass'])"
   ]
  },
  {
   "cell_type": "code",
   "execution_count": 11,
   "id": "f1b8a95e",
   "metadata": {},
   "outputs": [],
   "source": [
    "# create a fucction for label encoding \n",
    "for feature in cat_features:\n",
    "    lbl_encoders[feature]=LabelEncoder()\n",
    "    df[feature]=lbl_encoders[feature].fit_transform(df[feature])"
   ]
  },
  {
   "cell_type": "code",
   "execution_count": 12,
   "id": "8352f5f8",
   "metadata": {},
   "outputs": [
    {
     "data": {
      "text/html": [
       "<div>\n",
       "<style scoped>\n",
       "    .dataframe tbody tr th:only-of-type {\n",
       "        vertical-align: middle;\n",
       "    }\n",
       "\n",
       "    .dataframe tbody tr th {\n",
       "        vertical-align: top;\n",
       "    }\n",
       "\n",
       "    .dataframe thead th {\n",
       "        text-align: right;\n",
       "    }\n",
       "</style>\n",
       "<table border=\"1\" class=\"dataframe\">\n",
       "  <thead>\n",
       "    <tr style=\"text-align: right;\">\n",
       "      <th></th>\n",
       "      <th>MSSubClass</th>\n",
       "      <th>MSZoning</th>\n",
       "      <th>LotFrontage</th>\n",
       "      <th>LotArea</th>\n",
       "      <th>Street</th>\n",
       "      <th>LotShape</th>\n",
       "      <th>1stFlrSF</th>\n",
       "      <th>2ndFlrSF</th>\n",
       "      <th>SalePrice</th>\n",
       "      <th>today year</th>\n",
       "    </tr>\n",
       "  </thead>\n",
       "  <tbody>\n",
       "    <tr>\n",
       "      <th>0</th>\n",
       "      <td>5</td>\n",
       "      <td>3</td>\n",
       "      <td>65.0</td>\n",
       "      <td>8450</td>\n",
       "      <td>1</td>\n",
       "      <td>3</td>\n",
       "      <td>856</td>\n",
       "      <td>854</td>\n",
       "      <td>208500</td>\n",
       "      <td>22</td>\n",
       "    </tr>\n",
       "    <tr>\n",
       "      <th>1</th>\n",
       "      <td>0</td>\n",
       "      <td>3</td>\n",
       "      <td>80.0</td>\n",
       "      <td>9600</td>\n",
       "      <td>1</td>\n",
       "      <td>3</td>\n",
       "      <td>1262</td>\n",
       "      <td>0</td>\n",
       "      <td>181500</td>\n",
       "      <td>49</td>\n",
       "    </tr>\n",
       "    <tr>\n",
       "      <th>2</th>\n",
       "      <td>5</td>\n",
       "      <td>3</td>\n",
       "      <td>68.0</td>\n",
       "      <td>11250</td>\n",
       "      <td>1</td>\n",
       "      <td>0</td>\n",
       "      <td>920</td>\n",
       "      <td>866</td>\n",
       "      <td>223500</td>\n",
       "      <td>24</td>\n",
       "    </tr>\n",
       "    <tr>\n",
       "      <th>3</th>\n",
       "      <td>6</td>\n",
       "      <td>3</td>\n",
       "      <td>60.0</td>\n",
       "      <td>9550</td>\n",
       "      <td>1</td>\n",
       "      <td>0</td>\n",
       "      <td>961</td>\n",
       "      <td>756</td>\n",
       "      <td>140000</td>\n",
       "      <td>110</td>\n",
       "    </tr>\n",
       "    <tr>\n",
       "      <th>4</th>\n",
       "      <td>5</td>\n",
       "      <td>3</td>\n",
       "      <td>84.0</td>\n",
       "      <td>14260</td>\n",
       "      <td>1</td>\n",
       "      <td>0</td>\n",
       "      <td>1145</td>\n",
       "      <td>1053</td>\n",
       "      <td>250000</td>\n",
       "      <td>25</td>\n",
       "    </tr>\n",
       "  </tbody>\n",
       "</table>\n",
       "</div>"
      ],
      "text/plain": [
       "   MSSubClass  MSZoning  LotFrontage  LotArea  Street  LotShape  1stFlrSF  \\\n",
       "0           5         3         65.0     8450       1         3       856   \n",
       "1           0         3         80.0     9600       1         3      1262   \n",
       "2           5         3         68.0    11250       1         0       920   \n",
       "3           6         3         60.0     9550       1         0       961   \n",
       "4           5         3         84.0    14260       1         0      1145   \n",
       "\n",
       "   2ndFlrSF  SalePrice  today year  \n",
       "0       854     208500          22  \n",
       "1         0     181500          49  \n",
       "2       866     223500          24  \n",
       "3       756     140000         110  \n",
       "4      1053     250000          25  "
      ]
     },
     "execution_count": 12,
     "metadata": {},
     "output_type": "execute_result"
    }
   ],
   "source": [
    "df.head()"
   ]
  },
  {
   "cell_type": "code",
   "execution_count": 13,
   "id": "b528f010",
   "metadata": {},
   "outputs": [
    {
     "data": {
      "text/plain": [
       "array([[5, 3, 1, 3],\n",
       "       [0, 3, 1, 3],\n",
       "       [5, 3, 1, 0],\n",
       "       ...,\n",
       "       [6, 3, 1, 3],\n",
       "       [0, 3, 1, 3],\n",
       "       [0, 3, 1, 3]], dtype=int64)"
      ]
     },
     "execution_count": 13,
     "metadata": {},
     "output_type": "execute_result"
    }
   ],
   "source": [
    "# stackinh and coverting into tensors \n",
    "cat_features=np.stack([df['MSSubClass'],df['MSZoning'],df['Street'],df['LotShape']],1)\n",
    "cat_features"
   ]
  },
  {
   "cell_type": "code",
   "execution_count": 14,
   "id": "8be8d728",
   "metadata": {},
   "outputs": [
    {
     "data": {
      "text/plain": [
       "tensor([[5, 3, 1, 3],\n",
       "        [0, 3, 1, 3],\n",
       "        [5, 3, 1, 0],\n",
       "        ...,\n",
       "        [6, 3, 1, 3],\n",
       "        [0, 3, 1, 3],\n",
       "        [0, 3, 1, 3]])"
      ]
     },
     "execution_count": 14,
     "metadata": {},
     "output_type": "execute_result"
    }
   ],
   "source": [
    "# convert numpy to tensors \n",
    "import torch\n",
    "cat_features=torch.tensor(cat_features,dtype=torch.int64)\n",
    "cat_features"
   ]
  },
  {
   "cell_type": "code",
   "execution_count": 15,
   "id": "28b11b83",
   "metadata": {},
   "outputs": [
    {
     "data": {
      "text/plain": [
       "['LotFrontage', 'LotArea', '1stFlrSF', '2ndFlrSF', 'today year']"
      ]
     },
     "execution_count": 15,
     "metadata": {},
     "output_type": "execute_result"
    }
   ],
   "source": [
    "# continous variables \n",
    "cont_features=[]\n",
    "for i in df.columns:\n",
    "    if i in ['MSSubClass','MSZoning','Street','LotShape','SalePrice']:\n",
    "        pass \n",
    "    else:\n",
    "        cont_features.append(i)\n",
    "cont_features"
   ]
  },
  {
   "cell_type": "code",
   "execution_count": 16,
   "id": "0f5bc899",
   "metadata": {},
   "outputs": [
    {
     "data": {
      "text/plain": [
       "tensor([[   65.,  8450.,   856.,   854.,    22.],\n",
       "        [   80.,  9600.,  1262.,     0.,    49.],\n",
       "        [   68., 11250.,   920.,   866.,    24.],\n",
       "        ...,\n",
       "        [   66.,  9042.,  1188.,  1152.,    84.],\n",
       "        [   68.,  9717.,  1078.,     0.,    75.],\n",
       "        [   75.,  9937.,  1256.,     0.,    60.]])"
      ]
     },
     "execution_count": 16,
     "metadata": {},
     "output_type": "execute_result"
    }
   ],
   "source": [
    "# stacking continuous varaibles to a tensor \n",
    "cont_values=np.stack([df[i].values for i in cont_features],axis=1)\n",
    "cont_values=torch.tensor(cont_values,dtype=torch.float)\n",
    "cont_values"
   ]
  },
  {
   "cell_type": "code",
   "execution_count": 17,
   "id": "bff43ee0",
   "metadata": {},
   "outputs": [
    {
     "data": {
      "text/plain": [
       "tensor([[208500.],\n",
       "        [181500.],\n",
       "        [223500.],\n",
       "        ...,\n",
       "        [266500.],\n",
       "        [142125.],\n",
       "        [147500.]])"
      ]
     },
     "execution_count": 17,
     "metadata": {},
     "output_type": "execute_result"
    }
   ],
   "source": [
    "# dependent features \n",
    "y=torch.tensor(df['SalePrice'].values,dtype=torch.float).reshape(-1,1)\n",
    "y"
   ]
  },
  {
   "cell_type": "code",
   "execution_count": 18,
   "id": "8ffdc6b6",
   "metadata": {},
   "outputs": [
    {
     "data": {
      "text/plain": [
       "(torch.Size([1201, 4]), torch.Size([1201, 5]), torch.Size([1201, 1]))"
      ]
     },
     "execution_count": 18,
     "metadata": {},
     "output_type": "execute_result"
    }
   ],
   "source": [
    "cat_features.shape,cont_values.shape,y.shape"
   ]
  },
  {
   "cell_type": "markdown",
   "id": "c37292b2",
   "metadata": {},
   "source": [
    "# embeddings size for categorical columns "
   ]
  },
  {
   "cell_type": "code",
   "execution_count": 19,
   "id": "7cba4954",
   "metadata": {},
   "outputs": [
    {
     "data": {
      "text/plain": [
       "[15, 5, 2, 4]"
      ]
     },
     "execution_count": 19,
     "metadata": {},
     "output_type": "execute_result"
    }
   ],
   "source": [
    "# embeddings layers to decide output based on input \n",
    "cat_dim=[len(df[col].unique()) for col in ['MSSubClass','MSZoning','Street','LotShape']]\n",
    "cat_dim"
   ]
  },
  {
   "cell_type": "code",
   "execution_count": 20,
   "id": "0135abf7",
   "metadata": {},
   "outputs": [
    {
     "data": {
      "text/plain": [
       "[(15, 8), (5, 3), (2, 1), (4, 2)]"
      ]
     },
     "execution_count": 20,
     "metadata": {},
     "output_type": "execute_result"
    }
   ],
   "source": [
    "### thunb rule what dimension output shoud be set based on the input dimension \n",
    "embedding_dim=[(x,min(50,(x+1)//2)) for x in cat_dim]\n",
    "embedding_dim"
   ]
  },
  {
   "cell_type": "code",
   "execution_count": 21,
   "id": "1c0893db",
   "metadata": {},
   "outputs": [
    {
     "data": {
      "text/plain": [
       "ModuleList(\n",
       "  (0): Embedding(15, 8)\n",
       "  (1): Embedding(5, 3)\n",
       "  (2): Embedding(2, 1)\n",
       "  (3): Embedding(4, 2)\n",
       ")"
      ]
     },
     "execution_count": 21,
     "metadata": {},
     "output_type": "execute_result"
    }
   ],
   "source": [
    "# embedding layers to pytorch \n",
    "import torch \n",
    "import torch.nn as nn \n",
    "import torch.nn.functional as F \n",
    "\n",
    "embed_representation=nn.ModuleList([nn.Embedding(inp,out) for inp,out in embedding_dim])\n",
    "embed_representation"
   ]
  },
  {
   "cell_type": "code",
   "execution_count": 22,
   "id": "ef29fd36",
   "metadata": {},
   "outputs": [
    {
     "data": {
      "text/plain": [
       "tensor([[5, 3, 1, 3],\n",
       "        [0, 3, 1, 3],\n",
       "        [5, 3, 1, 0],\n",
       "        ...,\n",
       "        [6, 3, 1, 3],\n",
       "        [0, 3, 1, 3],\n",
       "        [0, 3, 1, 3]])"
      ]
     },
     "execution_count": 22,
     "metadata": {},
     "output_type": "execute_result"
    }
   ],
   "source": [
    "cat_features"
   ]
  },
  {
   "cell_type": "code",
   "execution_count": 23,
   "id": "d9e09b3a",
   "metadata": {},
   "outputs": [
    {
     "data": {
      "text/plain": [
       "[tensor([[-0.1450,  1.9652, -0.8435,  ..., -0.8175,  1.9491,  0.4325],\n",
       "         [-2.8154,  0.7935, -0.3415,  ..., -1.3223,  0.6610, -1.1573],\n",
       "         [-0.1450,  1.9652, -0.8435,  ..., -0.8175,  1.9491,  0.4325],\n",
       "         ...,\n",
       "         [-0.5147, -1.2756, -0.7045,  ..., -1.3899,  0.8247,  0.5438],\n",
       "         [-2.8154,  0.7935, -0.3415,  ..., -1.3223,  0.6610, -1.1573],\n",
       "         [-2.8154,  0.7935, -0.3415,  ..., -1.3223,  0.6610, -1.1573]],\n",
       "        grad_fn=<EmbeddingBackward0>),\n",
       " tensor([[-0.4949,  1.3916, -0.7723],\n",
       "         [-0.4949,  1.3916, -0.7723],\n",
       "         [-0.4949,  1.3916, -0.7723],\n",
       "         ...,\n",
       "         [-0.4949,  1.3916, -0.7723],\n",
       "         [-0.4949,  1.3916, -0.7723],\n",
       "         [-0.4949,  1.3916, -0.7723]], grad_fn=<EmbeddingBackward0>),\n",
       " tensor([[-1.1665],\n",
       "         [-1.1665],\n",
       "         [-1.1665],\n",
       "         ...,\n",
       "         [-1.1665],\n",
       "         [-1.1665],\n",
       "         [-1.1665]], grad_fn=<EmbeddingBackward0>),\n",
       " tensor([[ 1.2755, -1.1338],\n",
       "         [ 1.2755, -1.1338],\n",
       "         [ 0.1123,  0.1324],\n",
       "         ...,\n",
       "         [ 1.2755, -1.1338],\n",
       "         [ 1.2755, -1.1338],\n",
       "         [ 1.2755, -1.1338]], grad_fn=<EmbeddingBackward0>)]"
      ]
     },
     "execution_count": 23,
     "metadata": {},
     "output_type": "execute_result"
    }
   ],
   "source": [
    "embedding_val=[]\n",
    "for i,e, in enumerate(embed_representation):\n",
    "    embedding_val.append(e(cat_features[:,i]))\n",
    "embedding_val"
   ]
  },
  {
   "cell_type": "code",
   "execution_count": 24,
   "id": "865f1e04",
   "metadata": {},
   "outputs": [
    {
     "data": {
      "text/plain": [
       "tensor([[-0.1450,  1.9652, -0.8435,  ..., -1.1665,  1.2755, -1.1338],\n",
       "        [-2.8154,  0.7935, -0.3415,  ..., -1.1665,  1.2755, -1.1338],\n",
       "        [-0.1450,  1.9652, -0.8435,  ..., -1.1665,  0.1123,  0.1324],\n",
       "        ...,\n",
       "        [-0.5147, -1.2756, -0.7045,  ..., -1.1665,  1.2755, -1.1338],\n",
       "        [-2.8154,  0.7935, -0.3415,  ..., -1.1665,  1.2755, -1.1338],\n",
       "        [-2.8154,  0.7935, -0.3415,  ..., -1.1665,  1.2755, -1.1338]],\n",
       "       grad_fn=<CatBackward0>)"
      ]
     },
     "execution_count": 24,
     "metadata": {},
     "output_type": "execute_result"
    }
   ],
   "source": [
    "z=torch.cat(embedding_val,1)\n",
    "z "
   ]
  },
  {
   "cell_type": "code",
   "execution_count": 25,
   "id": "a1c273f2",
   "metadata": {},
   "outputs": [
    {
     "data": {
      "text/plain": [
       "tensor([[-0.0000,  0.0000, -1.4058,  ..., -1.9442,  2.1259, -0.0000],\n",
       "        [-0.0000,  1.3226, -0.5692,  ..., -1.9442,  0.0000, -1.8897],\n",
       "        [-0.2417,  3.2753, -1.4058,  ..., -0.0000,  0.1872,  0.2207],\n",
       "        ...,\n",
       "        [-0.0000, -0.0000, -0.0000,  ..., -1.9442,  0.0000, -0.0000],\n",
       "        [-4.6924,  0.0000, -0.5692,  ..., -0.0000,  2.1259, -1.8897],\n",
       "        [-4.6924,  1.3226, -0.0000,  ..., -0.0000,  0.0000, -1.8897]],\n",
       "       grad_fn=<MulBackward0>)"
      ]
     },
     "execution_count": 25,
     "metadata": {},
     "output_type": "execute_result"
    }
   ],
   "source": [
    "# implement dropout \n",
    "dropout=nn.Dropout(0.4)\n",
    "final_embed=dropout(z)\n",
    "final_embed"
   ]
  },
  {
   "cell_type": "code",
   "execution_count": 26,
   "id": "ba3b1f64",
   "metadata": {},
   "outputs": [],
   "source": [
    "## create a neural network \n",
    "import torch\n",
    "import torch.nn as nn \n",
    "import torch.nn.functional as F \n",
    "\n",
    "class FeedForwardNN(nn.Module):\n",
    "\n",
    "    def __init__(self,embedding_dim,n_cont,out_sz,layers,p=0.5):\n",
    "        super().__init__()\n",
    "        self.embeds=nn.ModuleList([nn.Embedding(inp,out) for inp,out in embedding_dim])\n",
    "        self.emb_drop=nn.Dropout(p)\n",
    "        self.bn_cont=nn.BatchNorm1d(n_cont)\n",
    "\n",
    "        layerlist=[]\n",
    "        n_emb=sum((out for inp,out in embedding_dim))\n",
    "        n_in=n_emb+n_cont \n",
    "\n",
    "        for i in layers:\n",
    "            layerlist.append(nn.Linear(n_in,i))\n",
    "            layerlist.append(nn.ReLU(inplace=True))\n",
    "            layerlist.append(nn.BatchNorm1d(i))\n",
    "            layerlist.append(nn.Dropout(p))\n",
    "            n_in=i \n",
    "        layerlist.append(nn.Linear(layers[-1],out_sz))\n",
    "        self.layers=nn.Sequential(*layerlist)\n",
    "    \n",
    "    def forward(self,x_cat,x_cont):\n",
    "        embeddings=[]\n",
    "        for i,e in enumerate(self.embeds):\n",
    "            embeddings.append(e(x_cat[:,i]))\n",
    "        x=torch.cat(embeddings,1)\n",
    "        x=self.emb_drop(x)\n",
    "        x_cont=self.bn_cont(x_cont)\n",
    "        x=torch.cat([x,x_cont],1)\n",
    "        x=self.layers(x)\n",
    "        return x "
   ]
  },
  {
   "cell_type": "code",
   "execution_count": 27,
   "id": "97403977",
   "metadata": {},
   "outputs": [
    {
     "data": {
      "text/plain": [
       "5"
      ]
     },
     "execution_count": 27,
     "metadata": {},
     "output_type": "execute_result"
    }
   ],
   "source": [
    "len(cont_features)"
   ]
  },
  {
   "cell_type": "code",
   "execution_count": 28,
   "id": "7fdef704",
   "metadata": {},
   "outputs": [
    {
     "data": {
      "text/plain": [
       "FeedForwardNN(\n",
       "  (embeds): ModuleList(\n",
       "    (0): Embedding(15, 8)\n",
       "    (1): Embedding(5, 3)\n",
       "    (2): Embedding(2, 1)\n",
       "    (3): Embedding(4, 2)\n",
       "  )\n",
       "  (emb_drop): Dropout(p=0.4, inplace=False)\n",
       "  (bn_cont): BatchNorm1d(5, eps=1e-05, momentum=0.1, affine=True, track_running_stats=True)\n",
       "  (layers): Sequential(\n",
       "    (0): Linear(in_features=19, out_features=100, bias=True)\n",
       "    (1): ReLU(inplace=True)\n",
       "    (2): BatchNorm1d(100, eps=1e-05, momentum=0.1, affine=True, track_running_stats=True)\n",
       "    (3): Dropout(p=0.4, inplace=False)\n",
       "    (4): Linear(in_features=100, out_features=50, bias=True)\n",
       "    (5): ReLU(inplace=True)\n",
       "    (6): BatchNorm1d(50, eps=1e-05, momentum=0.1, affine=True, track_running_stats=True)\n",
       "    (7): Dropout(p=0.4, inplace=False)\n",
       "    (8): Linear(in_features=50, out_features=1, bias=True)\n",
       "  )\n",
       ")"
      ]
     },
     "execution_count": 28,
     "metadata": {},
     "output_type": "execute_result"
    }
   ],
   "source": [
    "torch.manual_seed(100)\n",
    "model=FeedForwardNN(embedding_dim,len(cont_features),1,[100,50],p=0.4)\n",
    "model.cuda()"
   ]
  },
  {
   "cell_type": "code",
   "execution_count": 29,
   "id": "b40337d3",
   "metadata": {},
   "outputs": [],
   "source": [
    "# define loss and optimizer\n",
    "loss_function=nn.MSELoss()\n",
    "optimizer=torch.optim.Adam(model.parameters(),lr=0.01)"
   ]
  },
  {
   "cell_type": "code",
   "execution_count": 30,
   "id": "7b5f900c",
   "metadata": {},
   "outputs": [
    {
     "data": {
      "text/plain": [
       "(1201, 10)"
      ]
     },
     "execution_count": 30,
     "metadata": {},
     "output_type": "execute_result"
    }
   ],
   "source": [
    "df.shape"
   ]
  },
  {
   "cell_type": "code",
   "execution_count": 31,
   "id": "607a43e6",
   "metadata": {},
   "outputs": [
    {
     "data": {
      "text/plain": [
       "(tensor([[   65.,  8450.,   856.,   854.,    22.],\n",
       "         [   80.,  9600.,  1262.,     0.,    49.],\n",
       "         [   68., 11250.,   920.,   866.,    24.],\n",
       "         ...,\n",
       "         [   66.,  9042.,  1188.,  1152.,    84.],\n",
       "         [   68.,  9717.,  1078.,     0.,    75.],\n",
       "         [   75.,  9937.,  1256.,     0.,    60.]]),\n",
       " torch.Size([1201, 5]))"
      ]
     },
     "execution_count": 31,
     "metadata": {},
     "output_type": "execute_result"
    }
   ],
   "source": [
    "cont_values, cont_values.shape"
   ]
  },
  {
   "cell_type": "code",
   "execution_count": 32,
   "id": "127092aa",
   "metadata": {},
   "outputs": [],
   "source": [
    "# train test split \n",
    "batch_size=1200\n",
    "test_size=int(batch_size*0.15)\n",
    "train_categorical=cat_features[:batch_size-test_size].cuda()\n",
    "test_categorical=cat_features[batch_size-test_size:batch_size].cuda()\n",
    "train_cont=cont_values[:batch_size-test_size].cuda()\n",
    "test_cont=cont_values[batch_size-test_size:batch_size].cuda()\n",
    "ytrain=y[:batch_size-test_size].cuda()\n",
    "y_test=y[batch_size-test_size:batch_size].cuda()"
   ]
  },
  {
   "cell_type": "code",
   "execution_count": 33,
   "id": "d9330908",
   "metadata": {},
   "outputs": [
    {
     "data": {
      "text/plain": [
       "(1020, 180, 1020, 180, 1020, 180)"
      ]
     },
     "execution_count": 33,
     "metadata": {},
     "output_type": "execute_result"
    }
   ],
   "source": [
    "len(train_categorical),len(test_categorical),len(train_cont),len(test_cont),len(ytrain),len(y_test)"
   ]
  },
  {
   "cell_type": "code",
   "execution_count": 34,
   "id": "d8b5be95",
   "metadata": {},
   "outputs": [
    {
     "name": "stdout",
     "output_type": "stream",
     "text": [
      "Epoch number: 1 and loss 200496.40625\n",
      "Epoch number: 11 and loss 200493.109375\n",
      "Epoch number: 21 and loss 200488.453125\n",
      "Epoch number: 31 and loss 200481.8125\n",
      "Epoch number: 41 and loss 200472.265625\n",
      "Epoch number: 51 and loss 200460.0\n",
      "Epoch number: 61 and loss 200444.5625\n",
      "Epoch number: 71 and loss 200426.84375\n",
      "Epoch number: 81 and loss 200406.875\n",
      "Epoch number: 91 and loss 200380.71875\n",
      "Epoch number: 101 and loss 200351.75\n",
      "Epoch number: 111 and loss 200318.6875\n",
      "Epoch number: 121 and loss 200284.046875\n",
      "Epoch number: 131 and loss 200243.140625\n",
      "Epoch number: 141 and loss 200205.5\n",
      "Epoch number: 151 and loss 200160.90625\n",
      "Epoch number: 161 and loss 200102.84375\n",
      "Epoch number: 171 and loss 200060.390625\n",
      "Epoch number: 181 and loss 199999.171875\n",
      "Epoch number: 191 and loss 199934.875\n",
      "Epoch number: 201 and loss 199874.5625\n",
      "Epoch number: 211 and loss 199808.15625\n",
      "Epoch number: 221 and loss 199730.40625\n",
      "Epoch number: 231 and loss 199659.53125\n",
      "Epoch number: 241 and loss 199584.1875\n",
      "Epoch number: 251 and loss 199491.015625\n",
      "Epoch number: 261 and loss 199414.546875\n",
      "Epoch number: 271 and loss 199308.125\n",
      "Epoch number: 281 and loss 199224.40625\n",
      "Epoch number: 291 and loss 199141.984375\n",
      "Epoch number: 301 and loss 199012.734375\n",
      "Epoch number: 311 and loss 198936.703125\n",
      "Epoch number: 321 and loss 198796.203125\n",
      "Epoch number: 331 and loss 198721.734375\n",
      "Epoch number: 341 and loss 198607.5625\n",
      "Epoch number: 351 and loss 198472.125\n",
      "Epoch number: 361 and loss 198352.890625\n",
      "Epoch number: 371 and loss 198254.578125\n",
      "Epoch number: 381 and loss 198075.671875\n",
      "Epoch number: 391 and loss 197972.140625\n",
      "Epoch number: 401 and loss 197838.4375\n",
      "Epoch number: 411 and loss 197699.28125\n",
      "Epoch number: 421 and loss 197576.0\n",
      "Epoch number: 431 and loss 197437.0625\n",
      "Epoch number: 441 and loss 197266.875\n",
      "Epoch number: 451 and loss 197102.9375\n",
      "Epoch number: 461 and loss 196976.125\n",
      "Epoch number: 471 and loss 196762.328125\n",
      "Epoch number: 481 and loss 196669.265625\n",
      "Epoch number: 491 and loss 196504.734375\n",
      "Epoch number: 501 and loss 196324.0\n",
      "Epoch number: 511 and loss 196162.46875\n",
      "Epoch number: 521 and loss 196010.65625\n",
      "Epoch number: 531 and loss 195736.890625\n",
      "Epoch number: 541 and loss 195567.25\n",
      "Epoch number: 551 and loss 195449.5625\n",
      "Epoch number: 561 and loss 195276.1875\n",
      "Epoch number: 571 and loss 195122.65625\n",
      "Epoch number: 581 and loss 194829.015625\n",
      "Epoch number: 591 and loss 194673.296875\n",
      "Epoch number: 601 and loss 194525.484375\n",
      "Epoch number: 611 and loss 194322.734375\n",
      "Epoch number: 621 and loss 194070.1875\n",
      "Epoch number: 631 and loss 193911.78125\n",
      "Epoch number: 641 and loss 193697.203125\n",
      "Epoch number: 651 and loss 193511.484375\n",
      "Epoch number: 661 and loss 193321.53125\n",
      "Epoch number: 671 and loss 193106.28125\n",
      "Epoch number: 681 and loss 192818.703125\n",
      "Epoch number: 691 and loss 192521.8125\n",
      "Epoch number: 701 and loss 192530.65625\n",
      "Epoch number: 711 and loss 192286.828125\n",
      "Epoch number: 721 and loss 191930.453125\n",
      "Epoch number: 731 and loss 191657.78125\n",
      "Epoch number: 741 and loss 191425.265625\n",
      "Epoch number: 751 and loss 191115.78125\n",
      "Epoch number: 761 and loss 190986.984375\n",
      "Epoch number: 771 and loss 190831.984375\n",
      "Epoch number: 781 and loss 190556.390625\n",
      "Epoch number: 791 and loss 190180.96875\n",
      "Epoch number: 801 and loss 190146.921875\n",
      "Epoch number: 811 and loss 189747.203125\n",
      "Epoch number: 821 and loss 189544.0625\n",
      "Epoch number: 831 and loss 189316.65625\n",
      "Epoch number: 841 and loss 188971.125\n",
      "Epoch number: 851 and loss 188646.53125\n",
      "Epoch number: 861 and loss 188521.640625\n",
      "Epoch number: 871 and loss 188103.703125\n",
      "Epoch number: 881 and loss 187909.25\n",
      "Epoch number: 891 and loss 187593.234375\n",
      "Epoch number: 901 and loss 187324.40625\n",
      "Epoch number: 911 and loss 186994.65625\n",
      "Epoch number: 921 and loss 186829.65625\n",
      "Epoch number: 931 and loss 186528.796875\n",
      "Epoch number: 941 and loss 186188.953125\n",
      "Epoch number: 951 and loss 185763.375\n",
      "Epoch number: 961 and loss 185527.8125\n",
      "Epoch number: 971 and loss 185218.90625\n",
      "Epoch number: 981 and loss 184924.734375\n",
      "Epoch number: 991 and loss 184686.453125\n",
      "Epoch number: 1001 and loss 184302.8125\n",
      "Epoch number: 1011 and loss 184006.84375\n",
      "Epoch number: 1021 and loss 183741.546875\n",
      "Epoch number: 1031 and loss 183275.5\n",
      "Epoch number: 1041 and loss 183200.671875\n",
      "Epoch number: 1051 and loss 182937.09375\n",
      "Epoch number: 1061 and loss 182250.921875\n",
      "Epoch number: 1071 and loss 182161.484375\n",
      "Epoch number: 1081 and loss 181974.578125\n",
      "Epoch number: 1091 and loss 181363.078125\n",
      "Epoch number: 1101 and loss 181182.671875\n",
      "Epoch number: 1111 and loss 181148.515625\n",
      "Epoch number: 1121 and loss 180400.15625\n",
      "Epoch number: 1131 and loss 180146.140625\n",
      "Epoch number: 1141 and loss 179926.25\n",
      "Epoch number: 1151 and loss 179232.375\n",
      "Epoch number: 1161 and loss 179117.078125\n",
      "Epoch number: 1171 and loss 178925.34375\n",
      "Epoch number: 1181 and loss 178617.0625\n",
      "Epoch number: 1191 and loss 178062.625\n",
      "Epoch number: 1201 and loss 177804.078125\n",
      "Epoch number: 1211 and loss 177428.484375\n",
      "Epoch number: 1221 and loss 177403.1875\n",
      "Epoch number: 1231 and loss 176640.515625\n",
      "Epoch number: 1241 and loss 176215.796875\n",
      "Epoch number: 1251 and loss 175860.34375\n",
      "Epoch number: 1261 and loss 175829.765625\n",
      "Epoch number: 1271 and loss 175286.25\n",
      "Epoch number: 1281 and loss 174914.875\n",
      "Epoch number: 1291 and loss 174638.265625\n",
      "Epoch number: 1301 and loss 174171.546875\n",
      "Epoch number: 1311 and loss 173638.15625\n",
      "Epoch number: 1321 and loss 173367.34375\n",
      "Epoch number: 1331 and loss 173189.375\n",
      "Epoch number: 1341 and loss 172688.0625\n",
      "Epoch number: 1351 and loss 172493.5625\n",
      "Epoch number: 1361 and loss 171753.265625\n",
      "Epoch number: 1371 and loss 171770.453125\n",
      "Epoch number: 1381 and loss 170898.640625\n",
      "Epoch number: 1391 and loss 170261.59375\n",
      "Epoch number: 1401 and loss 170041.25\n",
      "Epoch number: 1411 and loss 170030.28125\n",
      "Epoch number: 1421 and loss 169583.84375\n",
      "Epoch number: 1431 and loss 169577.484375\n",
      "Epoch number: 1441 and loss 168634.234375\n",
      "Epoch number: 1451 and loss 168633.921875\n",
      "Epoch number: 1461 and loss 167501.328125\n",
      "Epoch number: 1471 and loss 167054.453125\n",
      "Epoch number: 1481 and loss 167301.84375\n",
      "Epoch number: 1491 and loss 166856.953125\n",
      "Epoch number: 1501 and loss 166223.734375\n",
      "Epoch number: 1511 and loss 165849.578125\n",
      "Epoch number: 1521 and loss 165897.90625\n",
      "Epoch number: 1531 and loss 164621.140625\n",
      "Epoch number: 1541 and loss 164828.390625\n",
      "Epoch number: 1551 and loss 164113.5625\n",
      "Epoch number: 1561 and loss 164261.59375\n",
      "Epoch number: 1571 and loss 163236.078125\n",
      "Epoch number: 1581 and loss 162547.921875\n",
      "Epoch number: 1591 and loss 162474.15625\n",
      "Epoch number: 1601 and loss 162487.71875\n",
      "Epoch number: 1611 and loss 161612.5625\n",
      "Epoch number: 1621 and loss 160992.4375\n",
      "Epoch number: 1631 and loss 160630.328125\n",
      "Epoch number: 1641 and loss 160508.796875\n",
      "Epoch number: 1651 and loss 160063.390625\n",
      "Epoch number: 1661 and loss 159810.609375\n",
      "Epoch number: 1671 and loss 159071.0625\n",
      "Epoch number: 1681 and loss 159114.859375\n",
      "Epoch number: 1691 and loss 158194.640625\n",
      "Epoch number: 1701 and loss 157882.1875\n",
      "Epoch number: 1711 and loss 157927.421875\n",
      "Epoch number: 1721 and loss 156985.515625\n",
      "Epoch number: 1731 and loss 156664.015625\n",
      "Epoch number: 1741 and loss 155980.078125\n",
      "Epoch number: 1751 and loss 155761.8125\n",
      "Epoch number: 1761 and loss 155080.953125\n",
      "Epoch number: 1771 and loss 154243.09375\n",
      "Epoch number: 1781 and loss 153648.28125\n",
      "Epoch number: 1791 and loss 153831.046875\n",
      "Epoch number: 1801 and loss 153493.65625\n",
      "Epoch number: 1811 and loss 152643.1875\n",
      "Epoch number: 1821 and loss 152429.65625\n",
      "Epoch number: 1831 and loss 152249.671875\n",
      "Epoch number: 1841 and loss 151275.984375\n",
      "Epoch number: 1851 and loss 150907.90625\n",
      "Epoch number: 1861 and loss 150327.515625\n",
      "Epoch number: 1871 and loss 150859.90625\n",
      "Epoch number: 1881 and loss 150090.59375\n",
      "Epoch number: 1891 and loss 148797.734375\n",
      "Epoch number: 1901 and loss 148575.015625\n",
      "Epoch number: 1911 and loss 147941.359375\n",
      "Epoch number: 1921 and loss 148495.921875\n",
      "Epoch number: 1931 and loss 146885.953125\n",
      "Epoch number: 1941 and loss 146719.953125\n",
      "Epoch number: 1951 and loss 146472.5625\n",
      "Epoch number: 1961 and loss 145476.546875\n",
      "Epoch number: 1971 and loss 145595.6875\n",
      "Epoch number: 1981 and loss 145229.8125\n",
      "Epoch number: 1991 and loss 144730.609375\n",
      "Epoch number: 2001 and loss 143918.34375\n",
      "Epoch number: 2011 and loss 142945.34375\n",
      "Epoch number: 2021 and loss 142802.546875\n",
      "Epoch number: 2031 and loss 142685.234375\n",
      "Epoch number: 2041 and loss 142089.90625\n",
      "Epoch number: 2051 and loss 141075.921875\n",
      "Epoch number: 2061 and loss 140655.03125\n",
      "Epoch number: 2071 and loss 141348.828125\n",
      "Epoch number: 2081 and loss 139987.90625\n",
      "Epoch number: 2091 and loss 139168.484375\n",
      "Epoch number: 2101 and loss 139645.046875\n",
      "Epoch number: 2111 and loss 138414.03125\n",
      "Epoch number: 2121 and loss 137776.9375\n",
      "Epoch number: 2131 and loss 137511.078125\n",
      "Epoch number: 2141 and loss 137530.75\n",
      "Epoch number: 2151 and loss 136595.0625\n",
      "Epoch number: 2161 and loss 136075.296875\n",
      "Epoch number: 2171 and loss 135329.21875\n",
      "Epoch number: 2181 and loss 135828.328125\n",
      "Epoch number: 2191 and loss 134434.734375\n",
      "Epoch number: 2201 and loss 134941.296875\n",
      "Epoch number: 2211 and loss 134265.734375\n",
      "Epoch number: 2221 and loss 133744.296875\n",
      "Epoch number: 2231 and loss 133554.234375\n",
      "Epoch number: 2241 and loss 131905.59375\n",
      "Epoch number: 2251 and loss 132414.734375\n",
      "Epoch number: 2261 and loss 130829.046875\n",
      "Epoch number: 2271 and loss 132047.234375\n",
      "Epoch number: 2281 and loss 130553.84375\n",
      "Epoch number: 2291 and loss 130027.359375\n",
      "Epoch number: 2301 and loss 128843.34375\n",
      "Epoch number: 2311 and loss 128570.625\n",
      "Epoch number: 2321 and loss 128765.3515625\n",
      "Epoch number: 2331 and loss 128827.921875\n",
      "Epoch number: 2341 and loss 127329.4609375\n",
      "Epoch number: 2351 and loss 127125.2578125\n",
      "Epoch number: 2361 and loss 126495.609375\n",
      "Epoch number: 2371 and loss 125618.7890625\n",
      "Epoch number: 2381 and loss 125145.609375\n",
      "Epoch number: 2391 and loss 125046.9296875\n",
      "Epoch number: 2401 and loss 124332.984375\n",
      "Epoch number: 2411 and loss 123455.25\n",
      "Epoch number: 2421 and loss 122622.625\n",
      "Epoch number: 2431 and loss 122633.5390625\n",
      "Epoch number: 2441 and loss 122160.6171875\n",
      "Epoch number: 2451 and loss 121295.09375\n",
      "Epoch number: 2461 and loss 121542.796875\n",
      "Epoch number: 2471 and loss 121062.328125\n",
      "Epoch number: 2481 and loss 120869.8203125\n",
      "Epoch number: 2491 and loss 120260.8046875\n",
      "Epoch number: 2501 and loss 119967.796875\n",
      "Epoch number: 2511 and loss 118805.03125\n",
      "Epoch number: 2521 and loss 117753.8125\n",
      "Epoch number: 2531 and loss 118449.140625\n",
      "Epoch number: 2541 and loss 117522.3125\n",
      "Epoch number: 2551 and loss 115863.0546875\n",
      "Epoch number: 2561 and loss 116428.8984375\n",
      "Epoch number: 2571 and loss 117614.5078125\n",
      "Epoch number: 2581 and loss 114977.046875\n",
      "Epoch number: 2591 and loss 114769.34375\n",
      "Epoch number: 2601 and loss 113434.6640625\n",
      "Epoch number: 2611 and loss 113576.6796875\n",
      "Epoch number: 2621 and loss 113461.375\n",
      "Epoch number: 2631 and loss 111684.6953125\n",
      "Epoch number: 2641 and loss 111475.8046875\n",
      "Epoch number: 2651 and loss 111253.359375\n",
      "Epoch number: 2661 and loss 112421.6484375\n",
      "Epoch number: 2671 and loss 110959.3046875\n",
      "Epoch number: 2681 and loss 112159.6328125\n",
      "Epoch number: 2691 and loss 109303.4765625\n",
      "Epoch number: 2701 and loss 109501.453125\n",
      "Epoch number: 2711 and loss 108969.953125\n",
      "Epoch number: 2721 and loss 108782.25\n",
      "Epoch number: 2731 and loss 107785.375\n",
      "Epoch number: 2741 and loss 107531.34375\n",
      "Epoch number: 2751 and loss 105853.203125\n",
      "Epoch number: 2761 and loss 106466.59375\n",
      "Epoch number: 2771 and loss 105372.7734375\n",
      "Epoch number: 2781 and loss 105052.2109375\n",
      "Epoch number: 2791 and loss 104769.8828125\n",
      "Epoch number: 2801 and loss 104834.1171875\n",
      "Epoch number: 2811 and loss 103107.265625\n",
      "Epoch number: 2821 and loss 102696.5078125\n",
      "Epoch number: 2831 and loss 102459.125\n",
      "Epoch number: 2841 and loss 103300.953125\n",
      "Epoch number: 2851 and loss 101709.59375\n",
      "Epoch number: 2861 and loss 101445.9921875\n",
      "Epoch number: 2871 and loss 101629.6640625\n",
      "Epoch number: 2881 and loss 100509.1328125\n",
      "Epoch number: 2891 and loss 100271.6796875\n",
      "Epoch number: 2901 and loss 99627.171875\n",
      "Epoch number: 2911 and loss 100022.859375\n",
      "Epoch number: 2921 and loss 98935.0078125\n",
      "Epoch number: 2931 and loss 97141.7265625\n",
      "Epoch number: 2941 and loss 97459.984375\n",
      "Epoch number: 2951 and loss 96273.40625\n",
      "Epoch number: 2961 and loss 96075.53125\n",
      "Epoch number: 2971 and loss 96435.578125\n",
      "Epoch number: 2981 and loss 95371.7109375\n",
      "Epoch number: 2991 and loss 96190.2578125\n",
      "Epoch number: 3001 and loss 95644.328125\n",
      "Epoch number: 3011 and loss 96288.1953125\n",
      "Epoch number: 3021 and loss 93776.234375\n",
      "Epoch number: 3031 and loss 92815.125\n",
      "Epoch number: 3041 and loss 92179.140625\n",
      "Epoch number: 3051 and loss 91480.34375\n",
      "Epoch number: 3061 and loss 91956.296875\n",
      "Epoch number: 3071 and loss 90719.5859375\n",
      "Epoch number: 3081 and loss 90528.65625\n",
      "Epoch number: 3091 and loss 89970.6953125\n",
      "Epoch number: 3101 and loss 89691.1015625\n",
      "Epoch number: 3111 and loss 87987.75\n",
      "Epoch number: 3121 and loss 89028.4140625\n",
      "Epoch number: 3131 and loss 88355.0703125\n",
      "Epoch number: 3141 and loss 85323.8671875\n",
      "Epoch number: 3151 and loss 87322.046875\n",
      "Epoch number: 3161 and loss 86948.0078125\n",
      "Epoch number: 3171 and loss 86077.671875\n",
      "Epoch number: 3181 and loss 85493.71875\n",
      "Epoch number: 3191 and loss 87271.171875\n",
      "Epoch number: 3201 and loss 83479.6015625\n",
      "Epoch number: 3211 and loss 84235.0078125\n",
      "Epoch number: 3221 and loss 83737.359375\n",
      "Epoch number: 3231 and loss 82465.9140625\n",
      "Epoch number: 3241 and loss 82560.953125\n",
      "Epoch number: 3251 and loss 81449.390625\n",
      "Epoch number: 3261 and loss 82115.140625\n",
      "Epoch number: 3271 and loss 80628.21875\n",
      "Epoch number: 3281 and loss 80170.3203125\n",
      "Epoch number: 3291 and loss 80449.3671875\n",
      "Epoch number: 3301 and loss 80666.7734375\n",
      "Epoch number: 3311 and loss 79420.71875\n",
      "Epoch number: 3321 and loss 78006.1875\n",
      "Epoch number: 3331 and loss 78024.1015625\n",
      "Epoch number: 3341 and loss 78585.625\n",
      "Epoch number: 3351 and loss 76512.3515625\n",
      "Epoch number: 3361 and loss 76778.234375\n",
      "Epoch number: 3371 and loss 75783.5703125\n",
      "Epoch number: 3381 and loss 76200.2578125\n",
      "Epoch number: 3391 and loss 75534.1171875\n",
      "Epoch number: 3401 and loss 73653.6953125\n",
      "Epoch number: 3411 and loss 73275.359375\n",
      "Epoch number: 3421 and loss 73973.8046875\n",
      "Epoch number: 3431 and loss 73603.296875\n",
      "Epoch number: 3441 and loss 72536.421875\n",
      "Epoch number: 3451 and loss 72702.9921875\n",
      "Epoch number: 3461 and loss 74619.9765625\n",
      "Epoch number: 3471 and loss 71469.234375\n",
      "Epoch number: 3481 and loss 71394.21875\n",
      "Epoch number: 3491 and loss 70397.1015625\n",
      "Epoch number: 3501 and loss 69376.7578125\n",
      "Epoch number: 3511 and loss 69531.4296875\n",
      "Epoch number: 3521 and loss 68563.53125\n",
      "Epoch number: 3531 and loss 69446.921875\n",
      "Epoch number: 3541 and loss 68121.765625\n",
      "Epoch number: 3551 and loss 67769.703125\n",
      "Epoch number: 3561 and loss 66385.4140625\n",
      "Epoch number: 3571 and loss 66971.8125\n",
      "Epoch number: 3581 and loss 65896.828125\n",
      "Epoch number: 3591 and loss 64462.453125\n",
      "Epoch number: 3601 and loss 65851.546875\n",
      "Epoch number: 3611 and loss 63609.15625\n",
      "Epoch number: 3621 and loss 65315.94921875\n",
      "Epoch number: 3631 and loss 63965.3671875\n",
      "Epoch number: 3641 and loss 63295.890625\n",
      "Epoch number: 3651 and loss 63189.1484375\n",
      "Epoch number: 3661 and loss 64016.671875\n",
      "Epoch number: 3671 and loss 60491.3046875\n",
      "Epoch number: 3681 and loss 62643.91015625\n",
      "Epoch number: 3691 and loss 60907.0546875\n",
      "Epoch number: 3701 and loss 60039.85546875\n",
      "Epoch number: 3711 and loss 60454.26171875\n",
      "Epoch number: 3721 and loss 60168.91796875\n",
      "Epoch number: 3731 and loss 61118.421875\n",
      "Epoch number: 3741 and loss 58818.73046875\n",
      "Epoch number: 3751 and loss 57641.58203125\n",
      "Epoch number: 3761 and loss 59312.06640625\n",
      "Epoch number: 3771 and loss 57920.21484375\n",
      "Epoch number: 3781 and loss 56280.34765625\n",
      "Epoch number: 3791 and loss 56496.125\n",
      "Epoch number: 3801 and loss 57289.3046875\n",
      "Epoch number: 3811 and loss 55078.640625\n",
      "Epoch number: 3821 and loss 54758.8984375\n",
      "Epoch number: 3831 and loss 55457.4921875\n",
      "Epoch number: 3841 and loss 55001.265625\n",
      "Epoch number: 3851 and loss 55355.71875\n",
      "Epoch number: 3861 and loss 53918.22265625\n",
      "Epoch number: 3871 and loss 53620.51953125\n",
      "Epoch number: 3881 and loss 52114.34375\n",
      "Epoch number: 3891 and loss 51796.08203125\n",
      "Epoch number: 3901 and loss 52462.44140625\n",
      "Epoch number: 3911 and loss 51208.859375\n",
      "Epoch number: 3921 and loss 49906.48828125\n",
      "Epoch number: 3931 and loss 48859.32421875\n",
      "Epoch number: 3941 and loss 51266.07421875\n",
      "Epoch number: 3951 and loss 49034.8984375\n",
      "Epoch number: 3961 and loss 49075.02734375\n",
      "Epoch number: 3971 and loss 50737.40625\n",
      "Epoch number: 3981 and loss 49396.8828125\n",
      "Epoch number: 3991 and loss 48787.65625\n",
      "Epoch number: 4001 and loss 49597.18359375\n",
      "Epoch number: 4011 and loss 47774.74609375\n",
      "Epoch number: 4021 and loss 47931.58984375\n",
      "Epoch number: 4031 and loss 47188.00390625\n",
      "Epoch number: 4041 and loss 46162.21875\n",
      "Epoch number: 4051 and loss 45935.203125\n",
      "Epoch number: 4061 and loss 44610.8125\n",
      "Epoch number: 4071 and loss 48944.69140625\n",
      "Epoch number: 4081 and loss 46772.51953125\n",
      "Epoch number: 4091 and loss 43820.328125\n",
      "Epoch number: 4101 and loss 44329.69140625\n",
      "Epoch number: 4111 and loss 44301.390625\n",
      "Epoch number: 4121 and loss 43600.80859375\n",
      "Epoch number: 4131 and loss 43316.296875\n",
      "Epoch number: 4141 and loss 43948.859375\n",
      "Epoch number: 4151 and loss 43462.76171875\n",
      "Epoch number: 4161 and loss 44088.9765625\n",
      "Epoch number: 4171 and loss 42515.171875\n",
      "Epoch number: 4181 and loss 42863.12109375\n",
      "Epoch number: 4191 and loss 41855.0859375\n",
      "Epoch number: 4201 and loss 43032.4453125\n",
      "Epoch number: 4211 and loss 41808.62109375\n",
      "Epoch number: 4221 and loss 43073.05078125\n",
      "Epoch number: 4231 and loss 42264.02734375\n",
      "Epoch number: 4241 and loss 41568.78125\n",
      "Epoch number: 4251 and loss 41560.3984375\n",
      "Epoch number: 4261 and loss 41561.5859375\n",
      "Epoch number: 4271 and loss 41186.55078125\n",
      "Epoch number: 4281 and loss 40343.3984375\n",
      "Epoch number: 4291 and loss 42354.01953125\n",
      "Epoch number: 4301 and loss 41684.3125\n",
      "Epoch number: 4311 and loss 40443.33984375\n",
      "Epoch number: 4321 and loss 39587.91796875\n",
      "Epoch number: 4331 and loss 39111.59375\n",
      "Epoch number: 4341 and loss 41352.53125\n",
      "Epoch number: 4351 and loss 38195.0546875\n",
      "Epoch number: 4361 and loss 39790.546875\n",
      "Epoch number: 4371 and loss 39399.69921875\n",
      "Epoch number: 4381 and loss 40792.65625\n",
      "Epoch number: 4391 and loss 38218.64453125\n",
      "Epoch number: 4401 and loss 39485.44140625\n",
      "Epoch number: 4411 and loss 37974.28125\n",
      "Epoch number: 4421 and loss 38697.49609375\n",
      "Epoch number: 4431 and loss 38773.87890625\n",
      "Epoch number: 4441 and loss 37247.30078125\n",
      "Epoch number: 4451 and loss 38893.77734375\n",
      "Epoch number: 4461 and loss 37345.50390625\n",
      "Epoch number: 4471 and loss 38514.0234375\n",
      "Epoch number: 4481 and loss 37309.90234375\n",
      "Epoch number: 4491 and loss 39074.11328125\n",
      "Epoch number: 4501 and loss 35722.2421875\n",
      "Epoch number: 4511 and loss 36411.53125\n",
      "Epoch number: 4521 and loss 35884.8515625\n",
      "Epoch number: 4531 and loss 34896.15234375\n",
      "Epoch number: 4541 and loss 36185.2265625\n",
      "Epoch number: 4551 and loss 37331.1875\n",
      "Epoch number: 4561 and loss 37071.8984375\n",
      "Epoch number: 4571 and loss 37087.171875\n",
      "Epoch number: 4581 and loss 35563.74609375\n",
      "Epoch number: 4591 and loss 35632.36328125\n",
      "Epoch number: 4601 and loss 37102.41015625\n",
      "Epoch number: 4611 and loss 34328.40234375\n",
      "Epoch number: 4621 and loss 35325.33984375\n",
      "Epoch number: 4631 and loss 35314.80859375\n",
      "Epoch number: 4641 and loss 36555.953125\n",
      "Epoch number: 4651 and loss 39222.60546875\n",
      "Epoch number: 4661 and loss 38564.25390625\n",
      "Epoch number: 4671 and loss 36139.99609375\n",
      "Epoch number: 4681 and loss 36154.98046875\n",
      "Epoch number: 4691 and loss 37979.0234375\n",
      "Epoch number: 4701 and loss 36497.046875\n",
      "Epoch number: 4711 and loss 36677.8203125\n",
      "Epoch number: 4721 and loss 36240.2421875\n",
      "Epoch number: 4731 and loss 38380.75\n",
      "Epoch number: 4741 and loss 37560.75\n",
      "Epoch number: 4751 and loss 35164.703125\n",
      "Epoch number: 4761 and loss 35616.3203125\n",
      "Epoch number: 4771 and loss 36724.24609375\n",
      "Epoch number: 4781 and loss 36375.76171875\n",
      "Epoch number: 4791 and loss 35810.37109375\n",
      "Epoch number: 4801 and loss 35389.65625\n",
      "Epoch number: 4811 and loss 36049.7734375\n",
      "Epoch number: 4821 and loss 36005.9765625\n",
      "Epoch number: 4831 and loss 35090.56640625\n",
      "Epoch number: 4841 and loss 35336.640625\n",
      "Epoch number: 4851 and loss 35150.66015625\n",
      "Epoch number: 4861 and loss 36034.7734375\n",
      "Epoch number: 4871 and loss 34341.375\n",
      "Epoch number: 4881 and loss 34604.53515625\n",
      "Epoch number: 4891 and loss 35829.31640625\n",
      "Epoch number: 4901 and loss 34836.765625\n",
      "Epoch number: 4911 and loss 35916.70703125\n",
      "Epoch number: 4921 and loss 36660.71875\n",
      "Epoch number: 4931 and loss 36825.37890625\n",
      "Epoch number: 4941 and loss 35120.98828125\n",
      "Epoch number: 4951 and loss 35778.8984375\n",
      "Epoch number: 4961 and loss 34090.78515625\n",
      "Epoch number: 4971 and loss 35041.05859375\n",
      "Epoch number: 4981 and loss 37140.90625\n",
      "Epoch number: 4991 and loss 33525.328125\n"
     ]
    }
   ],
   "source": [
    "# training \n",
    "epochs=5000\n",
    "final_losses=[]\n",
    "for i in range(epochs):\n",
    "    y_pred=model(train_categorical,train_cont)\n",
    "    loss=torch.sqrt(loss_function(y_pred,ytrain)) ## RMSE\n",
    "    final_losses.append(loss.item())\n",
    "    if i%10==1:\n",
    "        print(f\"Epoch number: {i} and loss {loss.item()}\")\n",
    "    optimizer.zero_grad()\n",
    "    loss.backward()\n",
    "    optimizer.step()"
   ]
  },
  {
   "cell_type": "code",
   "execution_count": 35,
   "id": "6d400d1c",
   "metadata": {},
   "outputs": [
    {
     "data": {
      "image/png": "[encoded data removed]",
      "text/plain": [
       "<Figure size 640x480 with 1 Axes>"
      ]
     },
     "metadata": {},
     "output_type": "display_data"
    }
   ],
   "source": [
    "import matplotlib.pyplot as plt \n",
    "plt.plot(range(epochs),final_losses)\n",
    "plt.ylabel('RMSE loss')\n",
    "plt.xlabel('EPOCHS')\n",
    "plt.show()"
   ]
  },
  {
   "cell_type": "code",
   "execution_count": 36,
   "id": "abe482e6",
   "metadata": {},
   "outputs": [
    {
     "name": "stdout",
     "output_type": "stream",
     "text": [
      "RMSE: 48541.8828125\n"
     ]
    }
   ],
   "source": [
    "# validate the test data \n",
    "y_pred=\"\"\n",
    "with torch.no_grad():\n",
    "    y_pred=model(test_categorical,test_cont)\n",
    "    loss=torch.sqrt(loss_function(y_pred,y_test))\n",
    "print(f\"RMSE: {loss}\")"
   ]
  },
  {
   "cell_type": "code",
   "execution_count": 37,
   "id": "0e3d863e",
   "metadata": {},
   "outputs": [],
   "source": [
    "data_verify=pd.DataFrame(y_test.tolist(),columns=['Test'])\n",
    "data_predicted = pd.DataFrame(y_pred.tolist(),columns=['Prediction'])"
   ]
  },
  {
   "cell_type": "code",
   "execution_count": 38,
   "id": "f96714fe",
   "metadata": {},
   "outputs": [
    {
     "data": {
      "text/html": [
       "<div>\n",
       "<style scoped>\n",
       "    .dataframe tbody tr th:only-of-type {\n",
       "        vertical-align: middle;\n",
       "    }\n",
       "\n",
       "    .dataframe tbody tr th {\n",
       "        vertical-align: top;\n",
       "    }\n",
       "\n",
       "    .dataframe thead th {\n",
       "        text-align: right;\n",
       "    }\n",
       "</style>\n",
       "<table border=\"1\" class=\"dataframe\">\n",
       "  <thead>\n",
       "    <tr style=\"text-align: right;\">\n",
       "      <th></th>\n",
       "      <th>Test</th>\n",
       "      <th>Prediction</th>\n",
       "      <th>Difference</th>\n",
       "    </tr>\n",
       "  </thead>\n",
       "  <tbody>\n",
       "    <tr>\n",
       "      <th>0</th>\n",
       "      <td>130000.0</td>\n",
       "      <td>162262.515625</td>\n",
       "      <td>-32262.515625</td>\n",
       "    </tr>\n",
       "    <tr>\n",
       "      <th>1</th>\n",
       "      <td>138887.0</td>\n",
       "      <td>184557.781250</td>\n",
       "      <td>-45670.781250</td>\n",
       "    </tr>\n",
       "    <tr>\n",
       "      <th>2</th>\n",
       "      <td>175500.0</td>\n",
       "      <td>152551.687500</td>\n",
       "      <td>22948.312500</td>\n",
       "    </tr>\n",
       "    <tr>\n",
       "      <th>3</th>\n",
       "      <td>195000.0</td>\n",
       "      <td>267787.968750</td>\n",
       "      <td>-72787.968750</td>\n",
       "    </tr>\n",
       "    <tr>\n",
       "      <th>4</th>\n",
       "      <td>142500.0</td>\n",
       "      <td>187093.062500</td>\n",
       "      <td>-44593.062500</td>\n",
       "    </tr>\n",
       "  </tbody>\n",
       "</table>\n",
       "</div>"
      ],
      "text/plain": [
       "       Test     Prediction    Difference\n",
       "0  130000.0  162262.515625 -32262.515625\n",
       "1  138887.0  184557.781250 -45670.781250\n",
       "2  175500.0  152551.687500  22948.312500\n",
       "3  195000.0  267787.968750 -72787.968750\n",
       "4  142500.0  187093.062500 -44593.062500"
      ]
     },
     "execution_count": 38,
     "metadata": {},
     "output_type": "execute_result"
    }
   ],
   "source": [
    "final_output=pd.concat([data_verify,data_predicted],axis=1)\n",
    "final_output['Difference']=final_output['Test']-final_output['Prediction']\n",
    "final_output.head()"
   ]
  },
  {
   "cell_type": "markdown",
   "id": "15d9639d",
   "metadata": {},
   "source": [
    "## saving and loading the model"
   ]
  },
  {
   "cell_type": "code",
   "execution_count": 39,
   "id": "8fdf75e2",
   "metadata": {},
   "outputs": [
    {
     "data": {
      "text/plain": [
       "FeedForwardNN(\n",
       "  (embeds): ModuleList(\n",
       "    (0): Embedding(15, 8)\n",
       "    (1): Embedding(5, 3)\n",
       "    (2): Embedding(2, 1)\n",
       "    (3): Embedding(4, 2)\n",
       "  )\n",
       "  (emb_drop): Dropout(p=0.4, inplace=False)\n",
       "  (bn_cont): BatchNorm1d(5, eps=1e-05, momentum=0.1, affine=True, track_running_stats=True)\n",
       "  (layers): Sequential(\n",
       "    (0): Linear(in_features=19, out_features=100, bias=True)\n",
       "    (1): ReLU(inplace=True)\n",
       "    (2): BatchNorm1d(100, eps=1e-05, momentum=0.1, affine=True, track_running_stats=True)\n",
       "    (3): Dropout(p=0.4, inplace=False)\n",
       "    (4): Linear(in_features=100, out_features=50, bias=True)\n",
       "    (5): ReLU(inplace=True)\n",
       "    (6): BatchNorm1d(50, eps=1e-05, momentum=0.1, affine=True, track_running_stats=True)\n",
       "    (7): Dropout(p=0.4, inplace=False)\n",
       "    (8): Linear(in_features=50, out_features=1, bias=True)\n",
       "  )\n",
       ")"
      ]
     },
     "execution_count": 39,
     "metadata": {},
     "output_type": "execute_result"
    }
   ],
   "source": [
    "torch.save(model.state_dict(),'HouseWeights.pt')\n",
    "model.load_state_dict(torch.load('HouseWeights.pt'))\n",
    "model.eval()"
   ]
  },
  {
   "cell_type": "code",
   "execution_count": 40,
   "id": "003d1d07",
   "metadata": {},
   "outputs": [
    {
     "name": "stdout",
     "output_type": "stream",
     "text": [
      "RMSE: 31119.447265625\n"
     ]
    }
   ],
   "source": [
    "y_pred=\"\"\n",
    "with torch.no_grad():\n",
    "    y_pred=model(test_categorical,test_cont)\n",
    "    loss=torch.sqrt(loss_function(y_pred,y_test))\n",
    "print(f\"RMSE: {loss}\")"
   ]
  },
  {
   "cell_type": "code",
   "execution_count": null,
   "id": "4a671169",
   "metadata": {},
   "outputs": [],
   "source": []
  }
 ],
 "metadata": {
  "kernelspec": {
   "display_name": "pytorch",
   "language": "python",
   "name": "python3"
  },
  "language_info": {
   "codemirror_mode": {
    "name": "ipython",
    "version": 3
   },
   "file_extension": ".py",
   "mimetype": "text/x-python",
   "name": "python",
   "nbconvert_exporter": "python",
   "pygments_lexer": "ipython3",
   "version": "3.9.23"
  }
 },
 "nbformat": 4,
 "nbformat_minor": 5
}
