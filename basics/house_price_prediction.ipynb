{
 "cells": [
  {
   "cell_type": "markdown",
   "id": "d24f77da",
   "metadata": {},
   "source": [
    "# house price prediction"
   ]
  },
  {
   "cell_type": "code",
   "execution_count": 1,
   "id": "bb404d06",
   "metadata": {},
   "outputs": [],
   "source": [
    "import pandas as pd \n",
    "import torch \n",
    "import numpy as np "
   ]
  },
  {
   "cell_type": "code",
   "execution_count": 2,
   "id": "38bbb6ed",
   "metadata": {},
   "outputs": [
    {
     "data": {
      "text/html": [
       "<div>\n",
       "<style scoped>\n",
       "    .dataframe tbody tr th:only-of-type {\n",
       "        vertical-align: middle;\n",
       "    }\n",
       "\n",
       "    .dataframe tbody tr th {\n",
       "        vertical-align: top;\n",
       "    }\n",
       "\n",
       "    .dataframe thead th {\n",
       "        text-align: right;\n",
       "    }\n",
       "</style>\n",
       "<table border=\"1\" class=\"dataframe\">\n",
       "  <thead>\n",
       "    <tr style=\"text-align: right;\">\n",
       "      <th></th>\n",
       "      <th>MSSubClass</th>\n",
       "      <th>MSZoning</th>\n",
       "      <th>LotFrontage</th>\n",
       "      <th>LotArea</th>\n",
       "      <th>Street</th>\n",
       "      <th>LotShape</th>\n",
       "      <th>YearBuilt</th>\n",
       "      <th>1stFlrSF</th>\n",
       "      <th>2ndFlrSF</th>\n",
       "      <th>SalePrice</th>\n",
       "    </tr>\n",
       "  </thead>\n",
       "  <tbody>\n",
       "    <tr>\n",
       "      <th>0</th>\n",
       "      <td>60</td>\n",
       "      <td>RL</td>\n",
       "      <td>65.0</td>\n",
       "      <td>8450</td>\n",
       "      <td>Pave</td>\n",
       "      <td>Reg</td>\n",
       "      <td>2003</td>\n",
       "      <td>856</td>\n",
       "      <td>854</td>\n",
       "      <td>208500</td>\n",
       "    </tr>\n",
       "    <tr>\n",
       "      <th>1</th>\n",
       "      <td>20</td>\n",
       "      <td>RL</td>\n",
       "      <td>80.0</td>\n",
       "      <td>9600</td>\n",
       "      <td>Pave</td>\n",
       "      <td>Reg</td>\n",
       "      <td>1976</td>\n",
       "      <td>1262</td>\n",
       "      <td>0</td>\n",
       "      <td>181500</td>\n",
       "    </tr>\n",
       "    <tr>\n",
       "      <th>2</th>\n",
       "      <td>60</td>\n",
       "      <td>RL</td>\n",
       "      <td>68.0</td>\n",
       "      <td>11250</td>\n",
       "      <td>Pave</td>\n",
       "      <td>IR1</td>\n",
       "      <td>2001</td>\n",
       "      <td>920</td>\n",
       "      <td>866</td>\n",
       "      <td>223500</td>\n",
       "    </tr>\n",
       "    <tr>\n",
       "      <th>3</th>\n",
       "      <td>70</td>\n",
       "      <td>RL</td>\n",
       "      <td>60.0</td>\n",
       "      <td>9550</td>\n",
       "      <td>Pave</td>\n",
       "      <td>IR1</td>\n",
       "      <td>1915</td>\n",
       "      <td>961</td>\n",
       "      <td>756</td>\n",
       "      <td>140000</td>\n",
       "    </tr>\n",
       "    <tr>\n",
       "      <th>4</th>\n",
       "      <td>60</td>\n",
       "      <td>RL</td>\n",
       "      <td>84.0</td>\n",
       "      <td>14260</td>\n",
       "      <td>Pave</td>\n",
       "      <td>IR1</td>\n",
       "      <td>2000</td>\n",
       "      <td>1145</td>\n",
       "      <td>1053</td>\n",
       "      <td>250000</td>\n",
       "    </tr>\n",
       "  </tbody>\n",
       "</table>\n",
       "</div>"
      ],
      "text/plain": [
       "   MSSubClass MSZoning  LotFrontage  LotArea Street LotShape  YearBuilt  \\\n",
       "0          60       RL         65.0     8450   Pave      Reg       2003   \n",
       "1          20       RL         80.0     9600   Pave      Reg       1976   \n",
       "2          60       RL         68.0    11250   Pave      IR1       2001   \n",
       "3          70       RL         60.0     9550   Pave      IR1       1915   \n",
       "4          60       RL         84.0    14260   Pave      IR1       2000   \n",
       "\n",
       "   1stFlrSF  2ndFlrSF  SalePrice  \n",
       "0       856       854     208500  \n",
       "1      1262         0     181500  \n",
       "2       920       866     223500  \n",
       "3       961       756     140000  \n",
       "4      1145      1053     250000  "
      ]
     },
     "execution_count": 2,
     "metadata": {},
     "output_type": "execute_result"
    }
   ],
   "source": [
    "df=pd.read_csv('datasets/houseprice.csv',usecols=['SalePrice','MSSubClass','MSZoning','LotFrontage','LotArea','Street','YearBuilt','LotShape','1stFlrSF','2ndFlrSF']).dropna()\n",
    "df.head()"
   ]
  },
  {
   "cell_type": "code",
   "execution_count": 3,
   "id": "727f63ef",
   "metadata": {},
   "outputs": [
    {
     "data": {
      "text/plain": [
       "MSSubClass     0\n",
       "MSZoning       0\n",
       "LotFrontage    0\n",
       "LotArea        0\n",
       "Street         0\n",
       "LotShape       0\n",
       "YearBuilt      0\n",
       "1stFlrSF       0\n",
       "2ndFlrSF       0\n",
       "SalePrice      0\n",
       "dtype: int64"
      ]
     },
     "execution_count": 3,
     "metadata": {},
     "output_type": "execute_result"
    }
   ],
   "source": [
    "df.isna().sum()"
   ]
  },
  {
   "cell_type": "code",
   "execution_count": 4,
   "id": "7a2c6b44",
   "metadata": {},
   "outputs": [
    {
     "name": "stdout",
     "output_type": "stream",
     "text": [
      "<class 'pandas.core.frame.DataFrame'>\n",
      "Index: 1201 entries, 0 to 1459\n",
      "Data columns (total 10 columns):\n",
      " #   Column       Non-Null Count  Dtype  \n",
      "---  ------       --------------  -----  \n",
      " 0   MSSubClass   1201 non-null   int64  \n",
      " 1   MSZoning     1201 non-null   object \n",
      " 2   LotFrontage  1201 non-null   float64\n",
      " 3   LotArea      1201 non-null   int64  \n",
      " 4   Street       1201 non-null   object \n",
      " 5   LotShape     1201 non-null   object \n",
      " 6   YearBuilt    1201 non-null   int64  \n",
      " 7   1stFlrSF     1201 non-null   int64  \n",
      " 8   2ndFlrSF     1201 non-null   int64  \n",
      " 9   SalePrice    1201 non-null   int64  \n",
      "dtypes: float64(1), int64(6), object(3)\n",
      "memory usage: 103.2+ KB\n"
     ]
    }
   ],
   "source": [
    "df.info()"
   ]
  },
  {
   "cell_type": "code",
   "execution_count": 5,
   "id": "371dcaeb",
   "metadata": {},
   "outputs": [
    {
     "name": "stdout",
     "output_type": "stream",
     "text": [
      "column name MSSubClass are unique values are 15\n",
      "column name MSZoning are unique values are 5\n",
      "column name LotFrontage are unique values are 110\n",
      "column name LotArea are unique values are 869\n",
      "column name Street are unique values are 2\n",
      "column name LotShape are unique values are 4\n",
      "column name YearBuilt are unique values are 112\n",
      "column name 1stFlrSF are unique values are 678\n",
      "column name 2ndFlrSF are unique values are 368\n",
      "column name SalePrice are unique values are 597\n"
     ]
    }
   ],
   "source": [
    "# choose categorical features \n",
    "for i in df.columns:\n",
    "    print(f'column name {i} are unique values are {len(df[i].unique())}')"
   ]
  },
  {
   "cell_type": "code",
   "execution_count": 6,
   "id": "e5248976",
   "metadata": {},
   "outputs": [
    {
     "data": {
      "text/plain": [
       "2025"
      ]
     },
     "execution_count": 6,
     "metadata": {},
     "output_type": "execute_result"
    }
   ],
   "source": [
    "import datetime\n",
    "datetime.datetime.now().year"
   ]
  },
  {
   "cell_type": "code",
   "execution_count": 7,
   "id": "4857fa66",
   "metadata": {},
   "outputs": [
    {
     "data": {
      "text/html": [
       "<div>\n",
       "<style scoped>\n",
       "    .dataframe tbody tr th:only-of-type {\n",
       "        vertical-align: middle;\n",
       "    }\n",
       "\n",
       "    .dataframe tbody tr th {\n",
       "        vertical-align: top;\n",
       "    }\n",
       "\n",
       "    .dataframe thead th {\n",
       "        text-align: right;\n",
       "    }\n",
       "</style>\n",
       "<table border=\"1\" class=\"dataframe\">\n",
       "  <thead>\n",
       "    <tr style=\"text-align: right;\">\n",
       "      <th></th>\n",
       "      <th>MSSubClass</th>\n",
       "      <th>MSZoning</th>\n",
       "      <th>LotFrontage</th>\n",
       "      <th>LotArea</th>\n",
       "      <th>Street</th>\n",
       "      <th>LotShape</th>\n",
       "      <th>1stFlrSF</th>\n",
       "      <th>2ndFlrSF</th>\n",
       "      <th>SalePrice</th>\n",
       "      <th>today year</th>\n",
       "    </tr>\n",
       "  </thead>\n",
       "  <tbody>\n",
       "    <tr>\n",
       "      <th>0</th>\n",
       "      <td>60</td>\n",
       "      <td>RL</td>\n",
       "      <td>65.0</td>\n",
       "      <td>8450</td>\n",
       "      <td>Pave</td>\n",
       "      <td>Reg</td>\n",
       "      <td>856</td>\n",
       "      <td>854</td>\n",
       "      <td>208500</td>\n",
       "      <td>22</td>\n",
       "    </tr>\n",
       "    <tr>\n",
       "      <th>1</th>\n",
       "      <td>20</td>\n",
       "      <td>RL</td>\n",
       "      <td>80.0</td>\n",
       "      <td>9600</td>\n",
       "      <td>Pave</td>\n",
       "      <td>Reg</td>\n",
       "      <td>1262</td>\n",
       "      <td>0</td>\n",
       "      <td>181500</td>\n",
       "      <td>49</td>\n",
       "    </tr>\n",
       "    <tr>\n",
       "      <th>2</th>\n",
       "      <td>60</td>\n",
       "      <td>RL</td>\n",
       "      <td>68.0</td>\n",
       "      <td>11250</td>\n",
       "      <td>Pave</td>\n",
       "      <td>IR1</td>\n",
       "      <td>920</td>\n",
       "      <td>866</td>\n",
       "      <td>223500</td>\n",
       "      <td>24</td>\n",
       "    </tr>\n",
       "    <tr>\n",
       "      <th>3</th>\n",
       "      <td>70</td>\n",
       "      <td>RL</td>\n",
       "      <td>60.0</td>\n",
       "      <td>9550</td>\n",
       "      <td>Pave</td>\n",
       "      <td>IR1</td>\n",
       "      <td>961</td>\n",
       "      <td>756</td>\n",
       "      <td>140000</td>\n",
       "      <td>110</td>\n",
       "    </tr>\n",
       "    <tr>\n",
       "      <th>4</th>\n",
       "      <td>60</td>\n",
       "      <td>RL</td>\n",
       "      <td>84.0</td>\n",
       "      <td>14260</td>\n",
       "      <td>Pave</td>\n",
       "      <td>IR1</td>\n",
       "      <td>1145</td>\n",
       "      <td>1053</td>\n",
       "      <td>250000</td>\n",
       "      <td>25</td>\n",
       "    </tr>\n",
       "  </tbody>\n",
       "</table>\n",
       "</div>"
      ],
      "text/plain": [
       "   MSSubClass MSZoning  LotFrontage  LotArea Street LotShape  1stFlrSF  \\\n",
       "0          60       RL         65.0     8450   Pave      Reg       856   \n",
       "1          20       RL         80.0     9600   Pave      Reg      1262   \n",
       "2          60       RL         68.0    11250   Pave      IR1       920   \n",
       "3          70       RL         60.0     9550   Pave      IR1       961   \n",
       "4          60       RL         84.0    14260   Pave      IR1      1145   \n",
       "\n",
       "   2ndFlrSF  SalePrice  today year  \n",
       "0       854     208500          22  \n",
       "1         0     181500          49  \n",
       "2       866     223500          24  \n",
       "3       756     140000         110  \n",
       "4      1053     250000          25  "
      ]
     },
     "execution_count": 7,
     "metadata": {},
     "output_type": "execute_result"
    }
   ],
   "source": [
    "df['today year']=datetime.datetime.now().year-df['YearBuilt']\n",
    "df.drop('YearBuilt',axis=1,inplace=True)\n",
    "df.head()"
   ]
  },
  {
   "cell_type": "code",
   "execution_count": 8,
   "id": "daf98275",
   "metadata": {},
   "outputs": [],
   "source": [
    "# split between categorical and contineous features\n",
    "cat_features=['MSSubClass','MSZoning','Street','LotShape']\n",
    "out_feature='SalePrice' "
   ]
  },
  {
   "cell_type": "code",
   "execution_count": 9,
   "id": "98d93e19",
   "metadata": {},
   "outputs": [
    {
     "data": {
      "text/plain": [
       "array([ 60,  20,  70,  50, 190,  45,  90, 120,  30,  80, 160,  75, 180,\n",
       "        40,  85], dtype=int64)"
      ]
     },
     "execution_count": 9,
     "metadata": {},
     "output_type": "execute_result"
    }
   ],
   "source": [
    "df['MSSubClass'].unique()"
   ]
  },
  {
   "cell_type": "code",
   "execution_count": 10,
   "id": "176e0c9c",
   "metadata": {},
   "outputs": [
    {
     "data": {
      "text/plain": [
       "array([5, 0, 5, ..., 6, 0, 0], dtype=int64)"
      ]
     },
     "execution_count": 10,
     "metadata": {},
     "output_type": "execute_result"
    }
   ],
   "source": [
    "from sklearn.preprocessing import LabelEncoder\n",
    "lbl_encoders={}\n",
    "lbl_encoders['MSSubClass']=LabelEncoder()\n",
    "lbl_encoders['MSSubClass'].fit_transform(df['MSSubClass'])"
   ]
  },
  {
   "cell_type": "code",
   "execution_count": 11,
   "id": "f1b8a95e",
   "metadata": {},
   "outputs": [],
   "source": [
    "# create a fucction for label encoding \n",
    "for feature in cat_features:\n",
    "    lbl_encoders[feature]=LabelEncoder()\n",
    "    df[feature]=lbl_encoders[feature].fit_transform(df[feature])"
   ]
  },
  {
   "cell_type": "code",
   "execution_count": 12,
   "id": "8352f5f8",
   "metadata": {},
   "outputs": [
    {
     "data": {
      "text/html": [
       "<div>\n",
       "<style scoped>\n",
       "    .dataframe tbody tr th:only-of-type {\n",
       "        vertical-align: middle;\n",
       "    }\n",
       "\n",
       "    .dataframe tbody tr th {\n",
       "        vertical-align: top;\n",
       "    }\n",
       "\n",
       "    .dataframe thead th {\n",
       "        text-align: right;\n",
       "    }\n",
       "</style>\n",
       "<table border=\"1\" class=\"dataframe\">\n",
       "  <thead>\n",
       "    <tr style=\"text-align: right;\">\n",
       "      <th></th>\n",
       "      <th>MSSubClass</th>\n",
       "      <th>MSZoning</th>\n",
       "      <th>LotFrontage</th>\n",
       "      <th>LotArea</th>\n",
       "      <th>Street</th>\n",
       "      <th>LotShape</th>\n",
       "      <th>1stFlrSF</th>\n",
       "      <th>2ndFlrSF</th>\n",
       "      <th>SalePrice</th>\n",
       "      <th>today year</th>\n",
       "    </tr>\n",
       "  </thead>\n",
       "  <tbody>\n",
       "    <tr>\n",
       "      <th>0</th>\n",
       "      <td>5</td>\n",
       "      <td>3</td>\n",
       "      <td>65.0</td>\n",
       "      <td>8450</td>\n",
       "      <td>1</td>\n",
       "      <td>3</td>\n",
       "      <td>856</td>\n",
       "      <td>854</td>\n",
       "      <td>208500</td>\n",
       "      <td>22</td>\n",
       "    </tr>\n",
       "    <tr>\n",
       "      <th>1</th>\n",
       "      <td>0</td>\n",
       "      <td>3</td>\n",
       "      <td>80.0</td>\n",
       "      <td>9600</td>\n",
       "      <td>1</td>\n",
       "      <td>3</td>\n",
       "      <td>1262</td>\n",
       "      <td>0</td>\n",
       "      <td>181500</td>\n",
       "      <td>49</td>\n",
       "    </tr>\n",
       "    <tr>\n",
       "      <th>2</th>\n",
       "      <td>5</td>\n",
       "      <td>3</td>\n",
       "      <td>68.0</td>\n",
       "      <td>11250</td>\n",
       "      <td>1</td>\n",
       "      <td>0</td>\n",
       "      <td>920</td>\n",
       "      <td>866</td>\n",
       "      <td>223500</td>\n",
       "      <td>24</td>\n",
       "    </tr>\n",
       "    <tr>\n",
       "      <th>3</th>\n",
       "      <td>6</td>\n",
       "      <td>3</td>\n",
       "      <td>60.0</td>\n",
       "      <td>9550</td>\n",
       "      <td>1</td>\n",
       "      <td>0</td>\n",
       "      <td>961</td>\n",
       "      <td>756</td>\n",
       "      <td>140000</td>\n",
       "      <td>110</td>\n",
       "    </tr>\n",
       "    <tr>\n",
       "      <th>4</th>\n",
       "      <td>5</td>\n",
       "      <td>3</td>\n",
       "      <td>84.0</td>\n",
       "      <td>14260</td>\n",
       "      <td>1</td>\n",
       "      <td>0</td>\n",
       "      <td>1145</td>\n",
       "      <td>1053</td>\n",
       "      <td>250000</td>\n",
       "      <td>25</td>\n",
       "    </tr>\n",
       "  </tbody>\n",
       "</table>\n",
       "</div>"
      ],
      "text/plain": [
       "   MSSubClass  MSZoning  LotFrontage  LotArea  Street  LotShape  1stFlrSF  \\\n",
       "0           5         3         65.0     8450       1         3       856   \n",
       "1           0         3         80.0     9600       1         3      1262   \n",
       "2           5         3         68.0    11250       1         0       920   \n",
       "3           6         3         60.0     9550       1         0       961   \n",
       "4           5         3         84.0    14260       1         0      1145   \n",
       "\n",
       "   2ndFlrSF  SalePrice  today year  \n",
       "0       854     208500          22  \n",
       "1         0     181500          49  \n",
       "2       866     223500          24  \n",
       "3       756     140000         110  \n",
       "4      1053     250000          25  "
      ]
     },
     "execution_count": 12,
     "metadata": {},
     "output_type": "execute_result"
    }
   ],
   "source": [
    "df.head()"
   ]
  },
  {
   "cell_type": "code",
   "execution_count": 13,
   "id": "b528f010",
   "metadata": {},
   "outputs": [
    {
     "data": {
      "text/plain": [
       "array([[5, 3, 1, 3],\n",
       "       [0, 3, 1, 3],\n",
       "       [5, 3, 1, 0],\n",
       "       ...,\n",
       "       [6, 3, 1, 3],\n",
       "       [0, 3, 1, 3],\n",
       "       [0, 3, 1, 3]], dtype=int64)"
      ]
     },
     "execution_count": 13,
     "metadata": {},
     "output_type": "execute_result"
    }
   ],
   "source": [
    "# stackinh and coverting into tensors \n",
    "cat_features=np.stack([df['MSSubClass'],df['MSZoning'],df['Street'],df['LotShape']],1)\n",
    "cat_features"
   ]
  },
  {
   "cell_type": "code",
   "execution_count": 14,
   "id": "8be8d728",
   "metadata": {},
   "outputs": [
    {
     "data": {
      "text/plain": [
       "tensor([[5, 3, 1, 3],\n",
       "        [0, 3, 1, 3],\n",
       "        [5, 3, 1, 0],\n",
       "        ...,\n",
       "        [6, 3, 1, 3],\n",
       "        [0, 3, 1, 3],\n",
       "        [0, 3, 1, 3]])"
      ]
     },
     "execution_count": 14,
     "metadata": {},
     "output_type": "execute_result"
    }
   ],
   "source": [
    "# convert numpy to tensors \n",
    "import torch\n",
    "cat_features=torch.tensor(cat_features,dtype=torch.int64)\n",
    "cat_features"
   ]
  },
  {
   "cell_type": "code",
   "execution_count": 15,
   "id": "28b11b83",
   "metadata": {},
   "outputs": [
    {
     "data": {
      "text/plain": [
       "['LotFrontage', 'LotArea', '1stFlrSF', '2ndFlrSF', 'today year']"
      ]
     },
     "execution_count": 15,
     "metadata": {},
     "output_type": "execute_result"
    }
   ],
   "source": [
    "# continous variables \n",
    "cont_features=[]\n",
    "for i in df.columns:\n",
    "    if i in ['MSSubClass','MSZoning','Street','LotShape','SalePrice']:\n",
    "        pass \n",
    "    else:\n",
    "        cont_features.append(i)\n",
    "cont_features"
   ]
  },
  {
   "cell_type": "code",
   "execution_count": 16,
   "id": "0f5bc899",
   "metadata": {},
   "outputs": [
    {
     "data": {
      "text/plain": [
       "tensor([[   65.,  8450.,   856.,   854.,    22.],\n",
       "        [   80.,  9600.,  1262.,     0.,    49.],\n",
       "        [   68., 11250.,   920.,   866.,    24.],\n",
       "        ...,\n",
       "        [   66.,  9042.,  1188.,  1152.,    84.],\n",
       "        [   68.,  9717.,  1078.,     0.,    75.],\n",
       "        [   75.,  9937.,  1256.,     0.,    60.]])"
      ]
     },
     "execution_count": 16,
     "metadata": {},
     "output_type": "execute_result"
    }
   ],
   "source": [
    "# stacking continuous varaibles to a tensor \n",
    "cont_values=np.stack([df[i].values for i in cont_features],axis=1)\n",
    "cont_values=torch.tensor(cont_values,dtype=torch.float)\n",
    "cont_values"
   ]
  },
  {
   "cell_type": "code",
   "execution_count": 17,
   "id": "bff43ee0",
   "metadata": {},
   "outputs": [
    {
     "data": {
      "text/plain": [
       "tensor([[208500.],\n",
       "        [181500.],\n",
       "        [223500.],\n",
       "        ...,\n",
       "        [266500.],\n",
       "        [142125.],\n",
       "        [147500.]])"
      ]
     },
     "execution_count": 17,
     "metadata": {},
     "output_type": "execute_result"
    }
   ],
   "source": [
    "# dependent features \n",
    "y=torch.tensor(df['SalePrice'].values,dtype=torch.float).reshape(-1,1)\n",
    "y"
   ]
  },
  {
   "cell_type": "code",
   "execution_count": 18,
   "id": "8ffdc6b6",
   "metadata": {},
   "outputs": [
    {
     "data": {
      "text/plain": [
       "(torch.Size([1201, 4]), torch.Size([1201, 5]), torch.Size([1201, 1]))"
      ]
     },
     "execution_count": 18,
     "metadata": {},
     "output_type": "execute_result"
    }
   ],
   "source": [
    "cat_features.shape,cont_values.shape,y.shape"
   ]
  },
  {
   "cell_type": "markdown",
   "id": "c37292b2",
   "metadata": {},
   "source": [
    "# embeddings size for categorical columns "
   ]
  },
  {
   "cell_type": "code",
   "execution_count": 19,
   "id": "7cba4954",
   "metadata": {},
   "outputs": [
    {
     "data": {
      "text/plain": [
       "[15, 5, 2, 4]"
      ]
     },
     "execution_count": 19,
     "metadata": {},
     "output_type": "execute_result"
    }
   ],
   "source": [
    "# embeddings layers to decide output based on input \n",
    "cat_dim=[len(df[col].unique()) for col in ['MSSubClass','MSZoning','Street','LotShape']]\n",
    "cat_dim"
   ]
  },
  {
   "cell_type": "code",
   "execution_count": 20,
   "id": "0135abf7",
   "metadata": {},
   "outputs": [
    {
     "data": {
      "text/plain": [
       "[(15, 8), (5, 3), (2, 1), (4, 2)]"
      ]
     },
     "execution_count": 20,
     "metadata": {},
     "output_type": "execute_result"
    }
   ],
   "source": [
    "### thunb rule what dimension output shoud be set based on the input dimension \n",
    "embedding_dim=[(x,min(50,(x+1)//2)) for x in cat_dim]\n",
    "embedding_dim"
   ]
  },
  {
   "cell_type": "code",
   "execution_count": 21,
   "id": "1c0893db",
   "metadata": {},
   "outputs": [
    {
     "data": {
      "text/plain": [
       "ModuleList(\n",
       "  (0): Embedding(15, 8)\n",
       "  (1): Embedding(5, 3)\n",
       "  (2): Embedding(2, 1)\n",
       "  (3): Embedding(4, 2)\n",
       ")"
      ]
     },
     "execution_count": 21,
     "metadata": {},
     "output_type": "execute_result"
    }
   ],
   "source": [
    "# embedding layers to pytorch \n",
    "import torch \n",
    "import torch.nn as nn \n",
    "import torch.nn.functional as F \n",
    "\n",
    "embed_representation=nn.ModuleList([nn.Embedding(inp,out) for inp,out in embedding_dim])\n",
    "embed_representation"
   ]
  },
  {
   "cell_type": "code",
   "execution_count": 22,
   "id": "ef29fd36",
   "metadata": {},
   "outputs": [
    {
     "data": {
      "text/plain": [
       "tensor([[5, 3, 1, 3],\n",
       "        [0, 3, 1, 3],\n",
       "        [5, 3, 1, 0],\n",
       "        ...,\n",
       "        [6, 3, 1, 3],\n",
       "        [0, 3, 1, 3],\n",
       "        [0, 3, 1, 3]])"
      ]
     },
     "execution_count": 22,
     "metadata": {},
     "output_type": "execute_result"
    }
   ],
   "source": [
    "cat_features"
   ]
  },
  {
   "cell_type": "code",
   "execution_count": 23,
   "id": "d9e09b3a",
   "metadata": {},
   "outputs": [
    {
     "data": {
      "text/plain": [
       "[tensor([[ 0.7083, -0.4507,  0.8825,  ..., -0.8468,  1.0177, -0.4296],\n",
       "         [-1.2092, -1.3831, -0.0635,  ..., -0.5430, -1.3477, -0.8456],\n",
       "         [ 0.7083, -0.4507,  0.8825,  ..., -0.8468,  1.0177, -0.4296],\n",
       "         ...,\n",
       "         [-0.7929,  0.9918,  1.4041,  ..., -0.2628, -1.6985,  1.2523],\n",
       "         [-1.2092, -1.3831, -0.0635,  ..., -0.5430, -1.3477, -0.8456],\n",
       "         [-1.2092, -1.3831, -0.0635,  ..., -0.5430, -1.3477, -0.8456]],\n",
       "        grad_fn=<EmbeddingBackward0>),\n",
       " tensor([[-0.3586, -1.1876, -0.3165],\n",
       "         [-0.3586, -1.1876, -0.3165],\n",
       "         [-0.3586, -1.1876, -0.3165],\n",
       "         ...,\n",
       "         [-0.3586, -1.1876, -0.3165],\n",
       "         [-0.3586, -1.1876, -0.3165],\n",
       "         [-0.3586, -1.1876, -0.3165]], grad_fn=<EmbeddingBackward0>),\n",
       " tensor([[0.3990],\n",
       "         [0.3990],\n",
       "         [0.3990],\n",
       "         ...,\n",
       "         [0.3990],\n",
       "         [0.3990],\n",
       "         [0.3990]], grad_fn=<EmbeddingBackward0>),\n",
       " tensor([[-0.1301,  0.6004],\n",
       "         [-0.1301,  0.6004],\n",
       "         [ 0.2386,  1.8432],\n",
       "         ...,\n",
       "         [-0.1301,  0.6004],\n",
       "         [-0.1301,  0.6004],\n",
       "         [-0.1301,  0.6004]], grad_fn=<EmbeddingBackward0>)]"
      ]
     },
     "execution_count": 23,
     "metadata": {},
     "output_type": "execute_result"
    }
   ],
   "source": [
    "embedding_val=[]\n",
    "for i,e, in enumerate(embed_representation):\n",
    "    embedding_val.append(e(cat_features[:,i]))\n",
    "embedding_val"
   ]
  },
  {
   "cell_type": "code",
   "execution_count": 24,
   "id": "865f1e04",
   "metadata": {},
   "outputs": [
    {
     "data": {
      "text/plain": [
       "tensor([[ 0.7083, -0.4507,  0.8825,  ...,  0.3990, -0.1301,  0.6004],\n",
       "        [-1.2092, -1.3831, -0.0635,  ...,  0.3990, -0.1301,  0.6004],\n",
       "        [ 0.7083, -0.4507,  0.8825,  ...,  0.3990,  0.2386,  1.8432],\n",
       "        ...,\n",
       "        [-0.7929,  0.9918,  1.4041,  ...,  0.3990, -0.1301,  0.6004],\n",
       "        [-1.2092, -1.3831, -0.0635,  ...,  0.3990, -0.1301,  0.6004],\n",
       "        [-1.2092, -1.3831, -0.0635,  ...,  0.3990, -0.1301,  0.6004]],\n",
       "       grad_fn=<CatBackward0>)"
      ]
     },
     "execution_count": 24,
     "metadata": {},
     "output_type": "execute_result"
    }
   ],
   "source": [
    "z=torch.cat(embedding_val,1)\n",
    "z "
   ]
  },
  {
   "cell_type": "code",
   "execution_count": 25,
   "id": "a1c273f2",
   "metadata": {},
   "outputs": [
    {
     "data": {
      "text/plain": [
       "tensor([[ 0.0000, -0.7512,  0.0000,  ...,  0.6649, -0.0000,  1.0007],\n",
       "        [-0.0000, -0.0000, -0.1058,  ...,  0.6649, -0.0000,  1.0007],\n",
       "        [ 1.1806, -0.7512,  1.4708,  ...,  0.6649,  0.0000,  0.0000],\n",
       "        ...,\n",
       "        [-1.3216,  0.0000,  0.0000,  ...,  0.0000, -0.0000,  0.0000],\n",
       "        [-0.0000, -2.3052, -0.0000,  ...,  0.6649, -0.0000,  1.0007],\n",
       "        [-2.0153, -2.3052, -0.1058,  ...,  0.0000, -0.2169,  1.0007]],\n",
       "       grad_fn=<MulBackward0>)"
      ]
     },
     "execution_count": 25,
     "metadata": {},
     "output_type": "execute_result"
    }
   ],
   "source": [
    "# implement dropout \n",
    "dropout=nn.Dropout(0.4)\n",
    "final_embed=dropout(z)\n",
    "final_embed"
   ]
  },
  {
   "cell_type": "code",
   "execution_count": 26,
   "id": "ba3b1f64",
   "metadata": {},
   "outputs": [],
   "source": [
    "## create a neural network \n",
    "import torch\n",
    "import torch.nn as nn \n",
    "import torch.nn.functional as F \n",
    "\n",
    "class FeedForwardNN(nn.Module):\n",
    "\n",
    "    def __init__(self,embedding_dim,n_cont,out_sz,layers,p=0.5):\n",
    "        super().__init__()\n",
    "        self.embeds=nn.ModuleList([nn.Embedding(inp,out) for inp,out in embedding_dim])\n",
    "        self.emb_drop=nn.Dropout(p)\n",
    "        self.bn_cont=nn.BatchNorm1d(n_cont)\n",
    "\n",
    "        layerlist=[]\n",
    "        n_emb=sum((out for inp,out in embedding_dim))\n",
    "        n_in=n_emb+n_cont \n",
    "\n",
    "        for i in layers:\n",
    "            layerlist.append(nn.Linear(n_in,i))\n",
    "            layerlist.append(nn.ReLU(inplace=True))\n",
    "            layerlist.append(nn.BatchNorm1d(i))\n",
    "            layerlist.append(nn.Dropout(p))\n",
    "            n_in=i \n",
    "        layerlist.append(nn.Linear(layers[-1],out_sz))\n",
    "        self.layers=nn.Sequential(*layerlist)\n",
    "    \n",
    "    def forward(self,x_cat,x_cont):\n",
    "        embeddings=[]\n",
    "        for i,e in enumerate(self.embeds):\n",
    "            embeddings.append(e(x_cat[:,i]))\n",
    "        x=torch.cat(embeddings,1)\n",
    "        x=self.emb_drop(x)\n",
    "        x_cont=self.bn_cont(x_cont)\n",
    "        x=torch.cat([x,x_cont],1)\n",
    "        x=self.layers(x)\n",
    "        return x "
   ]
  },
  {
   "cell_type": "code",
   "execution_count": 27,
   "id": "97403977",
   "metadata": {},
   "outputs": [
    {
     "data": {
      "text/plain": [
       "5"
      ]
     },
     "execution_count": 27,
     "metadata": {},
     "output_type": "execute_result"
    }
   ],
   "source": [
    "len(cont_features)"
   ]
  },
  {
   "cell_type": "code",
   "execution_count": 28,
   "id": "7fdef704",
   "metadata": {},
   "outputs": [
    {
     "data": {
      "text/plain": [
       "FeedForwardNN(\n",
       "  (embeds): ModuleList(\n",
       "    (0): Embedding(15, 8)\n",
       "    (1): Embedding(5, 3)\n",
       "    (2): Embedding(2, 1)\n",
       "    (3): Embedding(4, 2)\n",
       "  )\n",
       "  (emb_drop): Dropout(p=0.4, inplace=False)\n",
       "  (bn_cont): BatchNorm1d(5, eps=1e-05, momentum=0.1, affine=True, track_running_stats=True)\n",
       "  (layers): Sequential(\n",
       "    (0): Linear(in_features=19, out_features=100, bias=True)\n",
       "    (1): ReLU(inplace=True)\n",
       "    (2): BatchNorm1d(100, eps=1e-05, momentum=0.1, affine=True, track_running_stats=True)\n",
       "    (3): Dropout(p=0.4, inplace=False)\n",
       "    (4): Linear(in_features=100, out_features=50, bias=True)\n",
       "    (5): ReLU(inplace=True)\n",
       "    (6): BatchNorm1d(50, eps=1e-05, momentum=0.1, affine=True, track_running_stats=True)\n",
       "    (7): Dropout(p=0.4, inplace=False)\n",
       "    (8): Linear(in_features=50, out_features=1, bias=True)\n",
       "  )\n",
       ")"
      ]
     },
     "execution_count": 28,
     "metadata": {},
     "output_type": "execute_result"
    }
   ],
   "source": [
    "torch.manual_seed(100)\n",
    "model=FeedForwardNN(embedding_dim,len(cont_features),1,[100,50],p=0.4)\n",
    "model"
   ]
  },
  {
   "cell_type": "code",
   "execution_count": 29,
   "id": "b40337d3",
   "metadata": {},
   "outputs": [],
   "source": [
    "# define loss and optimizer\n",
    "loss_function=nn.MSELoss()\n",
    "optimizer=torch.optim.Adam(model.parameters(),lr=0.01)"
   ]
  },
  {
   "cell_type": "code",
   "execution_count": 30,
   "id": "7b5f900c",
   "metadata": {},
   "outputs": [
    {
     "data": {
      "text/plain": [
       "(1201, 10)"
      ]
     },
     "execution_count": 30,
     "metadata": {},
     "output_type": "execute_result"
    }
   ],
   "source": [
    "df.shape"
   ]
  },
  {
   "cell_type": "code",
   "execution_count": 31,
   "id": "607a43e6",
   "metadata": {},
   "outputs": [
    {
     "data": {
      "text/plain": [
       "(tensor([[   65.,  8450.,   856.,   854.,    22.],\n",
       "         [   80.,  9600.,  1262.,     0.,    49.],\n",
       "         [   68., 11250.,   920.,   866.,    24.],\n",
       "         ...,\n",
       "         [   66.,  9042.,  1188.,  1152.,    84.],\n",
       "         [   68.,  9717.,  1078.,     0.,    75.],\n",
       "         [   75.,  9937.,  1256.,     0.,    60.]]),\n",
       " torch.Size([1201, 5]))"
      ]
     },
     "execution_count": 31,
     "metadata": {},
     "output_type": "execute_result"
    }
   ],
   "source": [
    "cont_values, cont_values.shape"
   ]
  },
  {
   "cell_type": "code",
   "execution_count": 32,
   "id": "127092aa",
   "metadata": {},
   "outputs": [],
   "source": [
    "# train test split \n",
    "batch_size=1200\n",
    "test_size=int(batch_size*0.15)\n",
    "train_categorical=cat_features[:batch_size-test_size]\n",
    "test_categorical=cat_features[batch_size-test_size:batch_size]\n",
    "train_cont=cont_values[:batch_size-test_size]\n",
    "test_cont=cont_values[batch_size-test_size:batch_size]\n",
    "ytrain=y[:batch_size-test_size]\n",
    "y_test=y[batch_size-test_size:batch_size]"
   ]
  },
  {
   "cell_type": "code",
   "execution_count": 33,
   "id": "d9330908",
   "metadata": {},
   "outputs": [
    {
     "data": {
      "text/plain": [
       "(1020, 180, 1020, 180, 1020, 180)"
      ]
     },
     "execution_count": 33,
     "metadata": {},
     "output_type": "execute_result"
    }
   ],
   "source": [
    "len(train_categorical),len(test_categorical),len(train_cont),len(test_cont),len(ytrain),len(y_test)"
   ]
  },
  {
   "cell_type": "code",
   "execution_count": 34,
   "id": "d8b5be95",
   "metadata": {},
   "outputs": [
    {
     "name": "stdout",
     "output_type": "stream",
     "text": [
      "Epoch number: 1 and loss 200496.375\n",
      "Epoch number: 11 and loss 200493.171875\n",
      "Epoch number: 21 and loss 200488.640625\n",
      "Epoch number: 31 and loss 200481.6875\n",
      "Epoch number: 41 and loss 200472.59375\n",
      "Epoch number: 51 and loss 200460.25\n",
      "Epoch number: 61 and loss 200445.0\n",
      "Epoch number: 71 and loss 200426.75\n",
      "Epoch number: 81 and loss 200406.453125\n",
      "Epoch number: 91 and loss 200379.34375\n",
      "Epoch number: 101 and loss 200351.796875\n",
      "Epoch number: 111 and loss 200319.15625\n",
      "Epoch number: 121 and loss 200286.609375\n",
      "Epoch number: 131 and loss 200244.5\n",
      "Epoch number: 141 and loss 200205.640625\n",
      "Epoch number: 151 and loss 200158.96875\n",
      "Epoch number: 161 and loss 200108.25\n",
      "Epoch number: 171 and loss 200058.359375\n",
      "Epoch number: 181 and loss 199998.5625\n",
      "Epoch number: 191 and loss 199938.578125\n",
      "Epoch number: 201 and loss 199871.71875\n",
      "Epoch number: 211 and loss 199806.125\n",
      "Epoch number: 221 and loss 199726.484375\n",
      "Epoch number: 231 and loss 199653.53125\n",
      "Epoch number: 241 and loss 199581.609375\n",
      "Epoch number: 251 and loss 199501.0625\n",
      "Epoch number: 261 and loss 199407.109375\n",
      "Epoch number: 271 and loss 199308.0\n",
      "Epoch number: 281 and loss 199216.8125\n",
      "Epoch number: 291 and loss 199123.96875\n",
      "Epoch number: 301 and loss 199027.75\n",
      "Epoch number: 311 and loss 198915.84375\n",
      "Epoch number: 321 and loss 198790.453125\n",
      "Epoch number: 331 and loss 198689.890625\n",
      "Epoch number: 341 and loss 198613.203125\n",
      "Epoch number: 351 and loss 198495.765625\n",
      "Epoch number: 361 and loss 198348.59375\n",
      "Epoch number: 371 and loss 198237.71875\n",
      "Epoch number: 381 and loss 198102.625\n",
      "Epoch number: 391 and loss 197968.265625\n",
      "Epoch number: 401 and loss 197847.078125\n",
      "Epoch number: 411 and loss 197701.71875\n",
      "Epoch number: 421 and loss 197585.0\n",
      "Epoch number: 431 and loss 197434.953125\n",
      "Epoch number: 441 and loss 197267.328125\n",
      "Epoch number: 451 and loss 197104.640625\n",
      "Epoch number: 461 and loss 196989.890625\n",
      "Epoch number: 471 and loss 196830.96875\n",
      "Epoch number: 481 and loss 196631.421875\n",
      "Epoch number: 491 and loss 196481.078125\n",
      "Epoch number: 501 and loss 196321.390625\n",
      "Epoch number: 511 and loss 196176.40625\n",
      "Epoch number: 521 and loss 195968.578125\n",
      "Epoch number: 531 and loss 195760.40625\n",
      "Epoch number: 541 and loss 195598.75\n",
      "Epoch number: 551 and loss 195448.359375\n",
      "Epoch number: 561 and loss 195306.671875\n",
      "Epoch number: 571 and loss 195061.203125\n",
      "Epoch number: 581 and loss 194835.71875\n",
      "Epoch number: 591 and loss 194629.5625\n",
      "Epoch number: 601 and loss 194518.546875\n",
      "Epoch number: 611 and loss 194289.6875\n",
      "Epoch number: 621 and loss 194104.53125\n",
      "Epoch number: 631 and loss 193897.53125\n",
      "Epoch number: 641 and loss 193748.65625\n",
      "Epoch number: 651 and loss 193363.9375\n",
      "Epoch number: 661 and loss 193266.90625\n",
      "Epoch number: 671 and loss 193051.96875\n",
      "Epoch number: 681 and loss 192824.765625\n",
      "Epoch number: 691 and loss 192664.203125\n",
      "Epoch number: 701 and loss 192338.609375\n",
      "Epoch number: 711 and loss 192243.59375\n",
      "Epoch number: 721 and loss 191933.9375\n",
      "Epoch number: 731 and loss 191794.703125\n",
      "Epoch number: 741 and loss 191381.859375\n",
      "Epoch number: 751 and loss 191283.921875\n",
      "Epoch number: 761 and loss 190975.390625\n",
      "Epoch number: 771 and loss 190656.140625\n",
      "Epoch number: 781 and loss 190390.953125\n",
      "Epoch number: 791 and loss 190211.015625\n",
      "Epoch number: 801 and loss 189864.71875\n",
      "Epoch number: 811 and loss 189718.828125\n",
      "Epoch number: 821 and loss 189520.5\n",
      "Epoch number: 831 and loss 189223.96875\n",
      "Epoch number: 841 and loss 188859.546875\n",
      "Epoch number: 851 and loss 188725.40625\n",
      "Epoch number: 861 and loss 188434.921875\n",
      "Epoch number: 871 and loss 188122.265625\n",
      "Epoch number: 881 and loss 187702.765625\n",
      "Epoch number: 891 and loss 187578.9375\n",
      "Epoch number: 901 and loss 187427.96875\n",
      "Epoch number: 911 and loss 187031.40625\n",
      "Epoch number: 921 and loss 186723.140625\n",
      "Epoch number: 931 and loss 186372.28125\n",
      "Epoch number: 941 and loss 186179.65625\n",
      "Epoch number: 951 and loss 185902.84375\n",
      "Epoch number: 961 and loss 185459.765625\n",
      "Epoch number: 971 and loss 185315.5\n",
      "Epoch number: 981 and loss 184870.078125\n",
      "Epoch number: 991 and loss 184524.59375\n",
      "Epoch number: 1001 and loss 184409.828125\n",
      "Epoch number: 1011 and loss 184240.171875\n",
      "Epoch number: 1021 and loss 183613.328125\n",
      "Epoch number: 1031 and loss 183346.515625\n",
      "Epoch number: 1041 and loss 183067.765625\n",
      "Epoch number: 1051 and loss 183003.859375\n",
      "Epoch number: 1061 and loss 182722.890625\n",
      "Epoch number: 1071 and loss 182447.734375\n",
      "Epoch number: 1081 and loss 181614.109375\n",
      "Epoch number: 1091 and loss 181671.671875\n",
      "Epoch number: 1101 and loss 181348.515625\n",
      "Epoch number: 1111 and loss 180744.4375\n",
      "Epoch number: 1121 and loss 180517.796875\n",
      "Epoch number: 1131 and loss 180146.0\n",
      "Epoch number: 1141 and loss 179781.71875\n",
      "Epoch number: 1151 and loss 179554.140625\n",
      "Epoch number: 1161 and loss 179319.65625\n",
      "Epoch number: 1171 and loss 179128.140625\n",
      "Epoch number: 1181 and loss 178539.84375\n",
      "Epoch number: 1191 and loss 178407.953125\n",
      "Epoch number: 1201 and loss 177493.921875\n",
      "Epoch number: 1211 and loss 177410.96875\n",
      "Epoch number: 1221 and loss 176970.453125\n",
      "Epoch number: 1231 and loss 176884.0625\n",
      "Epoch number: 1241 and loss 176093.046875\n",
      "Epoch number: 1251 and loss 176076.4375\n",
      "Epoch number: 1261 and loss 175545.78125\n",
      "Epoch number: 1271 and loss 175071.875\n",
      "Epoch number: 1281 and loss 174671.25\n",
      "Epoch number: 1291 and loss 174370.265625\n",
      "Epoch number: 1301 and loss 174341.1875\n",
      "Epoch number: 1311 and loss 173617.53125\n",
      "Epoch number: 1321 and loss 173489.640625\n",
      "Epoch number: 1331 and loss 172812.75\n",
      "Epoch number: 1341 and loss 172737.171875\n",
      "Epoch number: 1351 and loss 172564.609375\n",
      "Epoch number: 1361 and loss 172259.734375\n",
      "Epoch number: 1371 and loss 171585.734375\n",
      "Epoch number: 1381 and loss 171221.125\n",
      "Epoch number: 1391 and loss 171194.171875\n",
      "Epoch number: 1401 and loss 170061.21875\n",
      "Epoch number: 1411 and loss 169971.015625\n",
      "Epoch number: 1421 and loss 169711.9375\n",
      "Epoch number: 1431 and loss 169674.9375\n",
      "Epoch number: 1441 and loss 168930.796875\n",
      "Epoch number: 1451 and loss 168597.765625\n",
      "Epoch number: 1461 and loss 167847.9375\n",
      "Epoch number: 1471 and loss 167320.59375\n",
      "Epoch number: 1481 and loss 167351.21875\n",
      "Epoch number: 1491 and loss 166817.421875\n",
      "Epoch number: 1501 and loss 166251.34375\n",
      "Epoch number: 1511 and loss 166096.15625\n",
      "Epoch number: 1521 and loss 165455.3125\n",
      "Epoch number: 1531 and loss 165254.8125\n",
      "Epoch number: 1541 and loss 164822.109375\n",
      "Epoch number: 1551 and loss 164463.9375\n",
      "Epoch number: 1561 and loss 163745.5625\n",
      "Epoch number: 1571 and loss 163279.21875\n",
      "Epoch number: 1581 and loss 162953.484375\n",
      "Epoch number: 1591 and loss 162679.015625\n",
      "Epoch number: 1601 and loss 162021.390625\n",
      "Epoch number: 1611 and loss 161710.078125\n",
      "Epoch number: 1621 and loss 160945.59375\n",
      "Epoch number: 1631 and loss 160975.4375\n",
      "Epoch number: 1641 and loss 160648.3125\n",
      "Epoch number: 1651 and loss 160010.5625\n",
      "Epoch number: 1661 and loss 159091.546875\n",
      "Epoch number: 1671 and loss 159700.734375\n",
      "Epoch number: 1681 and loss 158841.9375\n",
      "Epoch number: 1691 and loss 158355.453125\n",
      "Epoch number: 1701 and loss 157889.765625\n",
      "Epoch number: 1711 and loss 157569.640625\n",
      "Epoch number: 1721 and loss 157389.875\n",
      "Epoch number: 1731 and loss 156466.28125\n",
      "Epoch number: 1741 and loss 156358.15625\n",
      "Epoch number: 1751 and loss 155969.734375\n",
      "Epoch number: 1761 and loss 154807.25\n",
      "Epoch number: 1771 and loss 154757.9375\n",
      "Epoch number: 1781 and loss 154028.34375\n",
      "Epoch number: 1791 and loss 152982.640625\n",
      "Epoch number: 1801 and loss 153602.46875\n",
      "Epoch number: 1811 and loss 153134.1875\n",
      "Epoch number: 1821 and loss 152296.859375\n",
      "Epoch number: 1831 and loss 152029.015625\n",
      "Epoch number: 1841 and loss 151239.25\n",
      "Epoch number: 1851 and loss 151347.375\n",
      "Epoch number: 1861 and loss 150566.484375\n",
      "Epoch number: 1871 and loss 149840.734375\n",
      "Epoch number: 1881 and loss 150150.234375\n",
      "Epoch number: 1891 and loss 149627.0625\n",
      "Epoch number: 1901 and loss 149020.890625\n",
      "Epoch number: 1911 and loss 147683.015625\n",
      "Epoch number: 1921 and loss 148196.640625\n",
      "Epoch number: 1931 and loss 147399.046875\n",
      "Epoch number: 1941 and loss 147179.296875\n",
      "Epoch number: 1951 and loss 146509.421875\n",
      "Epoch number: 1961 and loss 146743.6875\n",
      "Epoch number: 1971 and loss 145374.453125\n",
      "Epoch number: 1981 and loss 144650.265625\n",
      "Epoch number: 1991 and loss 144026.53125\n",
      "Epoch number: 2001 and loss 144178.09375\n",
      "Epoch number: 2011 and loss 143841.765625\n",
      "Epoch number: 2021 and loss 143194.3125\n",
      "Epoch number: 2031 and loss 143110.484375\n",
      "Epoch number: 2041 and loss 142002.0\n",
      "Epoch number: 2051 and loss 142239.703125\n",
      "Epoch number: 2061 and loss 141132.421875\n",
      "Epoch number: 2071 and loss 140542.796875\n",
      "Epoch number: 2081 and loss 140584.453125\n",
      "Epoch number: 2091 and loss 139317.875\n",
      "Epoch number: 2101 and loss 139110.46875\n",
      "Epoch number: 2111 and loss 138195.0625\n",
      "Epoch number: 2121 and loss 138312.890625\n",
      "Epoch number: 2131 and loss 138137.09375\n",
      "Epoch number: 2141 and loss 137266.828125\n",
      "Epoch number: 2151 and loss 137272.625\n",
      "Epoch number: 2161 and loss 136791.8125\n",
      "Epoch number: 2171 and loss 135552.40625\n",
      "Epoch number: 2181 and loss 135598.15625\n",
      "Epoch number: 2191 and loss 134400.3125\n",
      "Epoch number: 2201 and loss 133962.734375\n",
      "Epoch number: 2211 and loss 134149.625\n",
      "Epoch number: 2221 and loss 133516.828125\n",
      "Epoch number: 2231 and loss 132460.546875\n",
      "Epoch number: 2241 and loss 132715.578125\n",
      "Epoch number: 2251 and loss 132129.265625\n",
      "Epoch number: 2261 and loss 131729.59375\n",
      "Epoch number: 2271 and loss 131097.921875\n",
      "Epoch number: 2281 and loss 130018.0\n",
      "Epoch number: 2291 and loss 129855.6875\n",
      "Epoch number: 2301 and loss 128505.78125\n",
      "Epoch number: 2311 and loss 128874.6484375\n",
      "Epoch number: 2321 and loss 127604.1171875\n",
      "Epoch number: 2331 and loss 127645.9609375\n",
      "Epoch number: 2341 and loss 127310.625\n",
      "Epoch number: 2351 and loss 127668.78125\n",
      "Epoch number: 2361 and loss 126011.7421875\n",
      "Epoch number: 2371 and loss 125159.671875\n",
      "Epoch number: 2381 and loss 125235.5390625\n",
      "Epoch number: 2391 and loss 125049.0390625\n",
      "Epoch number: 2401 and loss 124096.046875\n",
      "Epoch number: 2411 and loss 123248.0546875\n",
      "Epoch number: 2421 and loss 123529.34375\n",
      "Epoch number: 2431 and loss 122619.8515625\n",
      "Epoch number: 2441 and loss 123285.09375\n",
      "Epoch number: 2451 and loss 121546.96875\n",
      "Epoch number: 2461 and loss 121145.3515625\n",
      "Epoch number: 2471 and loss 120195.5078125\n",
      "Epoch number: 2481 and loss 120886.7265625\n",
      "Epoch number: 2491 and loss 119757.1484375\n",
      "Epoch number: 2501 and loss 120026.328125\n",
      "Epoch number: 2511 and loss 118617.2265625\n",
      "Epoch number: 2521 and loss 118135.2421875\n",
      "Epoch number: 2531 and loss 117302.125\n",
      "Epoch number: 2541 and loss 117640.0390625\n",
      "Epoch number: 2551 and loss 116855.4375\n",
      "Epoch number: 2561 and loss 115705.3125\n",
      "Epoch number: 2571 and loss 115341.6171875\n",
      "Epoch number: 2581 and loss 114132.09375\n",
      "Epoch number: 2591 and loss 115336.578125\n",
      "Epoch number: 2601 and loss 114151.296875\n",
      "Epoch number: 2611 and loss 114396.875\n",
      "Epoch number: 2621 and loss 113883.96875\n",
      "Epoch number: 2631 and loss 113472.78125\n",
      "Epoch number: 2641 and loss 112370.71875\n",
      "Epoch number: 2651 and loss 112972.3984375\n",
      "Epoch number: 2661 and loss 111000.1875\n",
      "Epoch number: 2671 and loss 110491.0703125\n",
      "Epoch number: 2681 and loss 109678.3671875\n",
      "Epoch number: 2691 and loss 109905.7578125\n",
      "Epoch number: 2701 and loss 109918.515625\n",
      "Epoch number: 2711 and loss 108027.359375\n",
      "Epoch number: 2721 and loss 108207.1171875\n",
      "Epoch number: 2731 and loss 108273.671875\n",
      "Epoch number: 2741 and loss 106165.4375\n",
      "Epoch number: 2751 and loss 108116.1171875\n",
      "Epoch number: 2761 and loss 105795.3671875\n",
      "Epoch number: 2771 and loss 105650.3828125\n",
      "Epoch number: 2781 and loss 105050.546875\n",
      "Epoch number: 2791 and loss 104884.7890625\n",
      "Epoch number: 2801 and loss 104465.7265625\n",
      "Epoch number: 2811 and loss 103107.0\n",
      "Epoch number: 2821 and loss 103240.578125\n",
      "Epoch number: 2831 and loss 102826.8984375\n",
      "Epoch number: 2841 and loss 102344.8515625\n",
      "Epoch number: 2851 and loss 101357.890625\n",
      "Epoch number: 2861 and loss 101824.4453125\n",
      "Epoch number: 2871 and loss 100394.078125\n",
      "Epoch number: 2881 and loss 100608.5625\n",
      "Epoch number: 2891 and loss 100610.5625\n",
      "Epoch number: 2901 and loss 99573.125\n",
      "Epoch number: 2911 and loss 99258.7421875\n",
      "Epoch number: 2921 and loss 97475.359375\n",
      "Epoch number: 2931 and loss 97387.8125\n",
      "Epoch number: 2941 and loss 97357.4296875\n",
      "Epoch number: 2951 and loss 96573.09375\n",
      "Epoch number: 2961 and loss 95933.6328125\n",
      "Epoch number: 2971 and loss 95358.7578125\n",
      "Epoch number: 2981 and loss 95263.390625\n",
      "Epoch number: 2991 and loss 95408.8984375\n",
      "Epoch number: 3001 and loss 93154.734375\n",
      "Epoch number: 3011 and loss 93725.8984375\n",
      "Epoch number: 3021 and loss 92852.6171875\n",
      "Epoch number: 3031 and loss 93736.9609375\n",
      "Epoch number: 3041 and loss 92042.109375\n",
      "Epoch number: 3051 and loss 91332.515625\n",
      "Epoch number: 3061 and loss 91581.6796875\n",
      "Epoch number: 3071 and loss 90926.453125\n",
      "Epoch number: 3081 and loss 91665.5078125\n",
      "Epoch number: 3091 and loss 90462.125\n",
      "Epoch number: 3101 and loss 90037.71875\n",
      "Epoch number: 3111 and loss 88812.78125\n",
      "Epoch number: 3121 and loss 88813.5078125\n",
      "Epoch number: 3131 and loss 88589.65625\n",
      "Epoch number: 3141 and loss 87520.609375\n",
      "Epoch number: 3151 and loss 86112.3359375\n",
      "Epoch number: 3161 and loss 85810.4296875\n",
      "Epoch number: 3171 and loss 85260.703125\n",
      "Epoch number: 3181 and loss 85602.8203125\n",
      "Epoch number: 3191 and loss 85862.3359375\n",
      "Epoch number: 3201 and loss 85224.71875\n",
      "Epoch number: 3211 and loss 83800.4140625\n",
      "Epoch number: 3221 and loss 84328.53125\n",
      "Epoch number: 3231 and loss 83569.171875\n",
      "Epoch number: 3241 and loss 82811.4765625\n",
      "Epoch number: 3251 and loss 82877.1875\n",
      "Epoch number: 3261 and loss 81449.578125\n",
      "Epoch number: 3271 and loss 80630.9609375\n",
      "Epoch number: 3281 and loss 79979.5859375\n",
      "Epoch number: 3291 and loss 81105.9921875\n",
      "Epoch number: 3301 and loss 80394.6640625\n",
      "Epoch number: 3311 and loss 79042.8984375\n",
      "Epoch number: 3321 and loss 78231.703125\n",
      "Epoch number: 3331 and loss 78144.140625\n",
      "Epoch number: 3341 and loss 77565.0625\n",
      "Epoch number: 3351 and loss 77545.1875\n",
      "Epoch number: 3361 and loss 77139.3515625\n",
      "Epoch number: 3371 and loss 75232.109375\n",
      "Epoch number: 3381 and loss 76181.9140625\n",
      "Epoch number: 3391 and loss 74886.4765625\n",
      "Epoch number: 3401 and loss 73951.3359375\n",
      "Epoch number: 3411 and loss 75195.9140625\n",
      "Epoch number: 3421 and loss 73893.6875\n",
      "Epoch number: 3431 and loss 73316.03125\n",
      "Epoch number: 3441 and loss 71569.140625\n",
      "Epoch number: 3451 and loss 72255.578125\n",
      "Epoch number: 3461 and loss 72366.6328125\n",
      "Epoch number: 3471 and loss 71386.25\n",
      "Epoch number: 3481 and loss 70282.6015625\n",
      "Epoch number: 3491 and loss 70471.09375\n",
      "Epoch number: 3501 and loss 70263.359375\n",
      "Epoch number: 3511 and loss 69553.703125\n",
      "Epoch number: 3521 and loss 68880.203125\n",
      "Epoch number: 3531 and loss 68113.5390625\n",
      "Epoch number: 3541 and loss 68148.2734375\n",
      "Epoch number: 3551 and loss 66278.2734375\n",
      "Epoch number: 3561 and loss 67176.6875\n",
      "Epoch number: 3571 and loss 66651.265625\n",
      "Epoch number: 3581 and loss 66125.5546875\n",
      "Epoch number: 3591 and loss 65430.69140625\n",
      "Epoch number: 3601 and loss 65856.5390625\n",
      "Epoch number: 3611 and loss 63014.4609375\n",
      "Epoch number: 3621 and loss 64846.1015625\n",
      "Epoch number: 3631 and loss 63277.4296875\n",
      "Epoch number: 3641 and loss 62697.09375\n",
      "Epoch number: 3651 and loss 63110.54296875\n",
      "Epoch number: 3661 and loss 61771.65234375\n",
      "Epoch number: 3671 and loss 61508.796875\n",
      "Epoch number: 3681 and loss 61661.90625\n",
      "Epoch number: 3691 and loss 60779.73828125\n",
      "Epoch number: 3701 and loss 61336.90625\n",
      "Epoch number: 3711 and loss 61216.6875\n",
      "Epoch number: 3721 and loss 59300.93359375\n",
      "Epoch number: 3731 and loss 58714.6484375\n",
      "Epoch number: 3741 and loss 59197.88671875\n",
      "Epoch number: 3751 and loss 58188.37890625\n",
      "Epoch number: 3761 and loss 58624.3359375\n",
      "Epoch number: 3771 and loss 58129.078125\n",
      "Epoch number: 3781 and loss 57498.36328125\n",
      "Epoch number: 3791 and loss 57155.046875\n",
      "Epoch number: 3801 and loss 56307.3359375\n",
      "Epoch number: 3811 and loss 55158.1328125\n",
      "Epoch number: 3821 and loss 54081.703125\n",
      "Epoch number: 3831 and loss 55459.12890625\n",
      "Epoch number: 3841 and loss 54172.01953125\n",
      "Epoch number: 3851 and loss 53530.9140625\n",
      "Epoch number: 3861 and loss 54145.23046875\n",
      "Epoch number: 3871 and loss 53036.54296875\n",
      "Epoch number: 3881 and loss 52821.609375\n",
      "Epoch number: 3891 and loss 53353.45703125\n",
      "Epoch number: 3901 and loss 51045.55859375\n",
      "Epoch number: 3911 and loss 52705.2109375\n",
      "Epoch number: 3921 and loss 50827.66015625\n",
      "Epoch number: 3931 and loss 51338.44140625\n",
      "Epoch number: 3941 and loss 50991.22265625\n",
      "Epoch number: 3951 and loss 50467.0703125\n",
      "Epoch number: 3961 and loss 50692.8203125\n",
      "Epoch number: 3971 and loss 49950.9765625\n",
      "Epoch number: 3981 and loss 48548.4765625\n",
      "Epoch number: 3991 and loss 49067.890625\n",
      "Epoch number: 4001 and loss 46770.91015625\n",
      "Epoch number: 4011 and loss 47793.30078125\n",
      "Epoch number: 4021 and loss 48696.328125\n",
      "Epoch number: 4031 and loss 48100.99609375\n",
      "Epoch number: 4041 and loss 46794.75\n",
      "Epoch number: 4051 and loss 45826.8203125\n",
      "Epoch number: 4061 and loss 45023.359375\n",
      "Epoch number: 4071 and loss 46721.53515625\n",
      "Epoch number: 4081 and loss 44827.35546875\n",
      "Epoch number: 4091 and loss 46587.046875\n",
      "Epoch number: 4101 and loss 45574.4921875\n",
      "Epoch number: 4111 and loss 45094.05078125\n",
      "Epoch number: 4121 and loss 44779.59375\n",
      "Epoch number: 4131 and loss 43783.68359375\n",
      "Epoch number: 4141 and loss 43615.9453125\n",
      "Epoch number: 4151 and loss 43624.51953125\n",
      "Epoch number: 4161 and loss 43336.828125\n",
      "Epoch number: 4171 and loss 42071.10546875\n",
      "Epoch number: 4181 and loss 42352.1796875\n",
      "Epoch number: 4191 and loss 44355.984375\n",
      "Epoch number: 4201 and loss 43644.7578125\n",
      "Epoch number: 4211 and loss 40869.31640625\n",
      "Epoch number: 4221 and loss 41183.15234375\n",
      "Epoch number: 4231 and loss 42969.01953125\n",
      "Epoch number: 4241 and loss 41572.44921875\n",
      "Epoch number: 4251 and loss 40479.5703125\n",
      "Epoch number: 4261 and loss 41052.85546875\n",
      "Epoch number: 4271 and loss 40451.3203125\n",
      "Epoch number: 4281 and loss 39203.91015625\n",
      "Epoch number: 4291 and loss 39426.73046875\n",
      "Epoch number: 4301 and loss 39573.59375\n",
      "Epoch number: 4311 and loss 39147.08984375\n",
      "Epoch number: 4321 and loss 40517.9453125\n",
      "Epoch number: 4331 and loss 39826.05078125\n",
      "Epoch number: 4341 and loss 39296.05078125\n",
      "Epoch number: 4351 and loss 37941.296875\n",
      "Epoch number: 4361 and loss 37501.3515625\n",
      "Epoch number: 4371 and loss 37897.8671875\n",
      "Epoch number: 4381 and loss 38041.2734375\n",
      "Epoch number: 4391 and loss 38659.578125\n",
      "Epoch number: 4401 and loss 36856.05859375\n",
      "Epoch number: 4411 and loss 39554.2109375\n",
      "Epoch number: 4421 and loss 37489.4765625\n",
      "Epoch number: 4431 and loss 37784.4140625\n",
      "Epoch number: 4441 and loss 36847.015625\n",
      "Epoch number: 4451 and loss 37849.734375\n",
      "Epoch number: 4461 and loss 36669.61328125\n",
      "Epoch number: 4471 and loss 36874.86328125\n",
      "Epoch number: 4481 and loss 36123.046875\n",
      "Epoch number: 4491 and loss 37594.6328125\n",
      "Epoch number: 4501 and loss 37186.30078125\n",
      "Epoch number: 4511 and loss 35156.8671875\n",
      "Epoch number: 4521 and loss 37544.875\n",
      "Epoch number: 4531 and loss 38593.484375\n",
      "Epoch number: 4541 and loss 35012.2421875\n",
      "Epoch number: 4551 and loss 36631.1015625\n",
      "Epoch number: 4561 and loss 36250.17578125\n",
      "Epoch number: 4571 and loss 34486.25\n",
      "Epoch number: 4581 and loss 36755.94140625\n",
      "Epoch number: 4591 and loss 35085.74609375\n",
      "Epoch number: 4601 and loss 36559.01953125\n",
      "Epoch number: 4611 and loss 37575.96875\n",
      "Epoch number: 4621 and loss 37489.234375\n",
      "Epoch number: 4631 and loss 36819.55078125\n",
      "Epoch number: 4641 and loss 35757.6796875\n",
      "Epoch number: 4651 and loss 37148.87109375\n",
      "Epoch number: 4661 and loss 37702.65625\n",
      "Epoch number: 4671 and loss 35455.47265625\n",
      "Epoch number: 4681 and loss 35105.75390625\n",
      "Epoch number: 4691 and loss 35437.8984375\n",
      "Epoch number: 4701 and loss 36470.7265625\n",
      "Epoch number: 4711 and loss 35981.5859375\n",
      "Epoch number: 4721 and loss 36447.89453125\n",
      "Epoch number: 4731 and loss 34893.94921875\n",
      "Epoch number: 4741 and loss 36963.92578125\n",
      "Epoch number: 4751 and loss 35037.6328125\n",
      "Epoch number: 4761 and loss 36496.2890625\n",
      "Epoch number: 4771 and loss 35260.7109375\n",
      "Epoch number: 4781 and loss 35103.26953125\n",
      "Epoch number: 4791 and loss 35008.7734375\n",
      "Epoch number: 4801 and loss 36280.29296875\n",
      "Epoch number: 4811 and loss 37131.0859375\n",
      "Epoch number: 4821 and loss 36809.91015625\n",
      "Epoch number: 4831 and loss 36313.90625\n",
      "Epoch number: 4841 and loss 33557.96484375\n",
      "Epoch number: 4851 and loss 35407.21484375\n",
      "Epoch number: 4861 and loss 33510.375\n",
      "Epoch number: 4871 and loss 37141.55859375\n",
      "Epoch number: 4881 and loss 35109.3125\n",
      "Epoch number: 4891 and loss 33362.921875\n",
      "Epoch number: 4901 and loss 35244.7265625\n",
      "Epoch number: 4911 and loss 36462.8984375\n",
      "Epoch number: 4921 and loss 34886.19921875\n",
      "Epoch number: 4931 and loss 35379.53515625\n",
      "Epoch number: 4941 and loss 33162.57421875\n",
      "Epoch number: 4951 and loss 34588.55859375\n",
      "Epoch number: 4961 and loss 34963.24609375\n",
      "Epoch number: 4971 and loss 35595.96484375\n",
      "Epoch number: 4981 and loss 33360.05859375\n",
      "Epoch number: 4991 and loss 34114.30078125\n"
     ]
    }
   ],
   "source": [
    "# training \n",
    "epochs=5000\n",
    "final_losses=[]\n",
    "for i in range(epochs):\n",
    "    y_pred=model(train_categorical,train_cont)\n",
    "    loss=torch.sqrt(loss_function(y_pred,ytrain)) ## RMSE\n",
    "    final_losses.append(loss.item())\n",
    "    if i%10==1:\n",
    "        print(f\"Epoch number: {i} and loss {loss.item()}\")\n",
    "    optimizer.zero_grad()\n",
    "    loss.backward()\n",
    "    optimizer.step()"
   ]
  },
  {
   "cell_type": "code",
   "execution_count": 35,
   "id": "6d400d1c",
   "metadata": {},
   "outputs": [
    {
     "data": {
      "image/png": "[encoded data removed]",
      "text/plain": [
       "<Figure size 640x480 with 1 Axes>"
      ]
     },
     "metadata": {},
     "output_type": "display_data"
    }
   ],
   "source": [
    "import matplotlib.pyplot as plt \n",
    "plt.plot(range(epochs),final_losses)\n",
    "plt.ylabel('RMSE loss')\n",
    "plt.xlabel('EPOCHS')\n",
    "plt.show()"
   ]
  },
  {
   "cell_type": "code",
   "execution_count": 36,
   "id": "abe482e6",
   "metadata": {},
   "outputs": [
    {
     "name": "stdout",
     "output_type": "stream",
     "text": [
      "RMSE: 46648.1328125\n"
     ]
    }
   ],
   "source": [
    "# validate the test data \n",
    "y_pred=\"\"\n",
    "with torch.no_grad():\n",
    "    y_pred=model(test_categorical,test_cont)\n",
    "    loss=torch.sqrt(loss_function(y_pred,y_test))\n",
    "print(f\"RMSE: {loss}\")"
   ]
  },
  {
   "cell_type": "code",
   "execution_count": 41,
   "id": "0e3d863e",
   "metadata": {},
   "outputs": [],
   "source": [
    "data_verify=pd.DataFrame(y_test.tolist(),columns=['Test'])\n",
    "data_predicted = pd.DataFrame(y_pred.tolist(),columns=['Prediction'])"
   ]
  },
  {
   "cell_type": "code",
   "execution_count": 43,
   "id": "f96714fe",
   "metadata": {},
   "outputs": [
    {
     "data": {
      "text/html": [
       "<div>\n",
       "<style scoped>\n",
       "    .dataframe tbody tr th:only-of-type {\n",
       "        vertical-align: middle;\n",
       "    }\n",
       "\n",
       "    .dataframe tbody tr th {\n",
       "        vertical-align: top;\n",
       "    }\n",
       "\n",
       "    .dataframe thead th {\n",
       "        text-align: right;\n",
       "    }\n",
       "</style>\n",
       "<table border=\"1\" class=\"dataframe\">\n",
       "  <thead>\n",
       "    <tr style=\"text-align: right;\">\n",
       "      <th></th>\n",
       "      <th>Test</th>\n",
       "      <th>Prediction</th>\n",
       "      <th>Difference</th>\n",
       "    </tr>\n",
       "  </thead>\n",
       "  <tbody>\n",
       "    <tr>\n",
       "      <th>0</th>\n",
       "      <td>130000.0</td>\n",
       "      <td>158207.437500</td>\n",
       "      <td>-28207.437500</td>\n",
       "    </tr>\n",
       "    <tr>\n",
       "      <th>1</th>\n",
       "      <td>138887.0</td>\n",
       "      <td>147796.750000</td>\n",
       "      <td>-8909.750000</td>\n",
       "    </tr>\n",
       "    <tr>\n",
       "      <th>2</th>\n",
       "      <td>175500.0</td>\n",
       "      <td>149071.437500</td>\n",
       "      <td>26428.562500</td>\n",
       "    </tr>\n",
       "    <tr>\n",
       "      <th>3</th>\n",
       "      <td>195000.0</td>\n",
       "      <td>239346.234375</td>\n",
       "      <td>-44346.234375</td>\n",
       "    </tr>\n",
       "    <tr>\n",
       "      <th>4</th>\n",
       "      <td>142500.0</td>\n",
       "      <td>140027.312500</td>\n",
       "      <td>2472.687500</td>\n",
       "    </tr>\n",
       "  </tbody>\n",
       "</table>\n",
       "</div>"
      ],
      "text/plain": [
       "       Test     Prediction    Difference\n",
       "0  130000.0  158207.437500 -28207.437500\n",
       "1  138887.0  147796.750000  -8909.750000\n",
       "2  175500.0  149071.437500  26428.562500\n",
       "3  195000.0  239346.234375 -44346.234375\n",
       "4  142500.0  140027.312500   2472.687500"
      ]
     },
     "execution_count": 43,
     "metadata": {},
     "output_type": "execute_result"
    }
   ],
   "source": [
    "final_output=pd.concat([data_verify,data_predicted],axis=1)\n",
    "final_output['Difference']=final_output['Test']-final_output['Prediction']\n",
    "final_output.head()"
   ]
  },
  {
   "cell_type": "markdown",
   "id": "15d9639d",
   "metadata": {},
   "source": [
    "## saving and loading the model"
   ]
  },
  {
   "cell_type": "code",
   "execution_count": 46,
   "id": "8fdf75e2",
   "metadata": {},
   "outputs": [
    {
     "data": {
      "text/plain": [
       "FeedForwardNN(\n",
       "  (embeds): ModuleList(\n",
       "    (0): Embedding(15, 8)\n",
       "    (1): Embedding(5, 3)\n",
       "    (2): Embedding(2, 1)\n",
       "    (3): Embedding(4, 2)\n",
       "  )\n",
       "  (emb_drop): Dropout(p=0.4, inplace=False)\n",
       "  (bn_cont): BatchNorm1d(5, eps=1e-05, momentum=0.1, affine=True, track_running_stats=True)\n",
       "  (layers): Sequential(\n",
       "    (0): Linear(in_features=19, out_features=100, bias=True)\n",
       "    (1): ReLU(inplace=True)\n",
       "    (2): BatchNorm1d(100, eps=1e-05, momentum=0.1, affine=True, track_running_stats=True)\n",
       "    (3): Dropout(p=0.4, inplace=False)\n",
       "    (4): Linear(in_features=100, out_features=50, bias=True)\n",
       "    (5): ReLU(inplace=True)\n",
       "    (6): BatchNorm1d(50, eps=1e-05, momentum=0.1, affine=True, track_running_stats=True)\n",
       "    (7): Dropout(p=0.4, inplace=False)\n",
       "    (8): Linear(in_features=50, out_features=1, bias=True)\n",
       "  )\n",
       ")"
      ]
     },
     "execution_count": 46,
     "metadata": {},
     "output_type": "execute_result"
    }
   ],
   "source": [
    "torch.save(model.state_dict(),'HouseWeights.pt')\n",
    "model.load_state_dict(torch.load('HouseWeights.pt'))\n",
    "model.eval()"
   ]
  },
  {
   "cell_type": "code",
   "execution_count": 47,
   "id": "003d1d07",
   "metadata": {},
   "outputs": [
    {
     "name": "stdout",
     "output_type": "stream",
     "text": [
      "RMSE: 29434.916015625\n"
     ]
    }
   ],
   "source": [
    "y_pred=\"\"\n",
    "with torch.no_grad():\n",
    "    y_pred=model(test_categorical,test_cont)\n",
    "    loss=torch.sqrt(loss_function(y_pred,y_test))\n",
    "print(f\"RMSE: {loss}\")"
   ]
  },
  {
   "cell_type": "code",
   "execution_count": null,
   "id": "4a671169",
   "metadata": {},
   "outputs": [],
   "source": []
  }
 ],
 "metadata": {
  "kernelspec": {
   "display_name": "pytorch",
   "language": "python",
   "name": "python3"
  },
  "language_info": {
   "codemirror_mode": {
    "name": "ipython",
    "version": 3
   },
   "file_extension": ".py",
   "mimetype": "text/x-python",
   "name": "python",
   "nbconvert_exporter": "python",
   "pygments_lexer": "ipython3",
   "version": "3.9.23"
  }
 },
 "nbformat": 4,
 "nbformat_minor": 5
}
