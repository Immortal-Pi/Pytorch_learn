{
 "cells": [
  {
   "cell_type": "code",
   "execution_count": 1,
   "id": "d94d86e3",
   "metadata": {},
   "outputs": [],
   "source": [
    "import torch\n",
    "import torch.nn as nn \n",
    "from torch.utils import data \n",
    "import torch.nn.functional as F \n",
    "import random \n",
    "import math \n",
    "from torchviz import make_dot"
   ]
  },
  {
   "cell_type": "code",
   "execution_count": 2,
   "id": "970ac620",
   "metadata": {},
   "outputs": [],
   "source": [
    "class LinearRegression(nn.Module):\n",
    "    \"\"\" \n",
    "    A linear regression model that predicts a real-valued outputs\n",
    "    \"\"\"\n",
    "    def __init__(self, input_dim,output_dim):\n",
    "        super().__init__()\n",
    "        self.inplut_dim=input_dim\n",
    "        self.output_dim=output_dim \n",
    "        self.weights=nn.Parameter(torch.randn(self.output_dim,self.inplut_dim)/math.sqrt(self.inplut_dim))\n",
    "        self.biases=nn.Parameter(torch.zeros(1))\n",
    "\n",
    "    def forward(self,x):\n",
    "        return x @ self.weights.T + self.biases  "
   ]
  },
  {
   "cell_type": "code",
   "execution_count": 9,
   "id": "16d85fec",
   "metadata": {},
   "outputs": [
    {
     "data": {
      "text/plain": [
       "tensor([[ 0.2896],\n",
       "        [-0.0928],\n",
       "        [-0.4752]], grad_fn=<AddBackward0>)"
      ]
     },
     "execution_count": 9,
     "metadata": {},
     "output_type": "execute_result"
    }
   ],
   "source": [
    "x=torch.arange(6).view(3,2).float()\n",
    "input_dim=2\n",
    "output_dim=1 \n",
    "model=LinearRegression(input_dim,output_dim)\n",
    "output=model(x) # calling the forward function \n",
    "output"
   ]
  },
  {
   "cell_type": "code",
   "execution_count": 10,
   "id": "38124b38",
   "metadata": {},
   "outputs": [
    {
     "name": "stdout",
     "output_type": "stream",
     "text": [
      "input shape torch.Size([3, 2])\n",
      "output shape torch.Size([3, 1])\n"
     ]
    }
   ],
   "source": [
    "print(f\"input shape {x.shape}\")\n",
    "print(f'output shape {output.shape}')"
   ]
  },
  {
   "cell_type": "code",
   "execution_count": 16,
   "id": "3bd0a872",
   "metadata": {},
   "outputs": [
    {
     "data": {
      "text/plain": [
       "(Parameter containing:\n",
       " tensor([[-0.4808,  0.2896]], requires_grad=True),\n",
       " Parameter containing:\n",
       " tensor([0.], requires_grad=True))"
      ]
     },
     "execution_count": 16,
     "metadata": {},
     "output_type": "execute_result"
    }
   ],
   "source": [
    "model.weights, model.biases"
   ]
  },
  {
   "cell_type": "code",
   "execution_count": null,
   "id": "b501a2aa",
   "metadata": {},
   "outputs": [
    {
     "data": {
      "text/plain": [
       "[Parameter containing:\n",
       " tensor([[-0.4808,  0.2896]], requires_grad=True),\n",
       " Parameter containing:\n",
       " tensor([0.], requires_grad=True)]"
      ]
     },
     "execution_count": 14,
     "metadata": {},
     "output_type": "execute_result"
    }
   ],
   "source": [
    "# gives learnable parameters - updates using gradient descent\n",
    "list(model.parameters())"
   ]
  },
  {
   "cell_type": "code",
   "execution_count": null,
   "id": "f12d1b64",
   "metadata": {},
   "outputs": [
    {
     "data": {
      "text/plain": [
       "OrderedDict([('weights', tensor([[-0.4808,  0.2896]])),\n",
       "             ('biases', tensor([0.]))])"
      ]
     },
     "execution_count": 15,
     "metadata": {},
     "output_type": "execute_result"
    }
   ],
   "source": [
    "# gives all the parameters \n",
    "model.state_dict()"
   ]
  },
  {
   "cell_type": "markdown",
   "id": "5da6eaae",
   "metadata": {},
   "source": [
    "# Linear module"
   ]
  },
  {
   "cell_type": "code",
   "execution_count": null,
   "id": "c3164658",
   "metadata": {},
   "outputs": [],
   "source": [
    "class LinearRegression(nn.Module):\n",
    "    def __init__(self,input_dim,output_dim):\n",
    "        super().__init__()\n",
    "        self.input_dim=input_dim\n",
    "        self.output_dim=output_dim\n",
    "        self.linear_layer=nn.Linear(input_dim,output_dim)\n",
    "        # no weights or bias values - \n",
    "\n",
    "    def forward(self,x):\n",
    "        return self.linear_layer(x)"
   ]
  },
  {
   "cell_type": "code",
   "execution_count": 20,
   "id": "266451ee",
   "metadata": {},
   "outputs": [],
   "source": [
    "x=torch.arange(6).view(3,2).float()\n",
    "model=LinearRegression(2,1)\n",
    "output=model(x)\n",
    "mdoel=nn.Linear(2,1)\n",
    "output2=model(x)"
   ]
  },
  {
   "cell_type": "code",
   "execution_count": 21,
   "id": "7ba6619c",
   "metadata": {},
   "outputs": [
    {
     "data": {
      "text/plain": [
       "(tensor([[0.4345],\n",
       "         [2.3237],\n",
       "         [4.2130]], grad_fn=<AddmmBackward0>),\n",
       " tensor([[0.4345],\n",
       "         [2.3237],\n",
       "         [4.2130]], grad_fn=<AddmmBackward0>))"
      ]
     },
     "execution_count": 21,
     "metadata": {},
     "output_type": "execute_result"
    }
   ],
   "source": [
    "output, output2"
   ]
  },
  {
   "cell_type": "code",
   "execution_count": 23,
   "id": "e0cbe759",
   "metadata": {},
   "outputs": [
    {
     "name": "stdout",
     "output_type": "stream",
     "text": [
      "tensor(1.) tensor(1.) tensor(1.)\n"
     ]
    }
   ],
   "source": [
    "# method 1\n",
    "def mse_loss(ypred,y):\n",
    "    error=ypred-y\n",
    "    mean_square_error=torch.mean(error**2)\n",
    "    return mean_square_error\n",
    "# method 2 \n",
    "loss_nn=nn.MSELoss(reduction='mean')\n",
    "# method 3\n",
    "loss_function=F.mse_loss \n",
    "\n",
    "x=torch.tensor([0,1,2,3,4],dtype=torch.float32)\n",
    "y=torch.tensor([1,3,5,7,9],dtype=torch.float32)\n",
    "\n",
    "ypred=2*x\n",
    "\n",
    "loss_manual=mse_loss(ypred,y)\n",
    "loss_nn_module=loss_nn(y,ypred)\n",
    "loss_function=loss_function(y,ypred)\n",
    "print(loss_manual,loss_nn_module,loss_function)\n"
   ]
  },
  {
   "cell_type": "code",
   "execution_count": null,
   "id": "5d4fda62",
   "metadata": {},
   "outputs": [],
   "source": []
  }
 ],
 "metadata": {
  "kernelspec": {
   "display_name": "pytorch",
   "language": "python",
   "name": "python3"
  },
  "language_info": {
   "codemirror_mode": {
    "name": "ipython",
    "version": 3
   },
   "file_extension": ".py",
   "mimetype": "text/x-python",
   "name": "python",
   "nbconvert_exporter": "python",
   "pygments_lexer": "ipython3",
   "version": "3.9.23"
  }
 },
 "nbformat": 4,
 "nbformat_minor": 5
}
