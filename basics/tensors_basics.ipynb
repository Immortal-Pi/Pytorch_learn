{
 "cells": [
  {
   "cell_type": "code",
   "execution_count": 3,
   "id": "f79cc606",
   "metadata": {},
   "outputs": [],
   "source": [
    "import torch \n",
    "import numpy as np \n"
   ]
  },
  {
   "cell_type": "code",
   "execution_count": 4,
   "id": "fca5d447",
   "metadata": {},
   "outputs": [
    {
     "data": {
      "text/plain": [
       "dtype('int32')"
      ]
     },
     "execution_count": 4,
     "metadata": {},
     "output_type": "execute_result"
    }
   ],
   "source": [
    "lst=[3,4,5,6]\n",
    "arr=np.array(lst)\n",
    "arr.dtype"
   ]
  },
  {
   "cell_type": "markdown",
   "id": "2575911f",
   "metadata": {},
   "source": [
    "# convert numpy to pytorch tensors"
   ]
  },
  {
   "cell_type": "code",
   "execution_count": 5,
   "id": "c5a12895",
   "metadata": {},
   "outputs": [
    {
     "data": {
      "text/plain": [
       "tensor([3, 4, 5, 6], dtype=torch.int32)"
      ]
     },
     "execution_count": 5,
     "metadata": {},
     "output_type": "execute_result"
    }
   ],
   "source": [
    "tensors=torch.from_numpy(arr)\n",
    "tensors"
   ]
  },
  {
   "cell_type": "code",
   "execution_count": 6,
   "id": "19caa6c9",
   "metadata": {},
   "outputs": [
    {
     "name": "stdout",
     "output_type": "stream",
     "text": [
      "tensor([3, 4], dtype=torch.int32)\n"
     ]
    },
    {
     "data": {
      "text/plain": [
       "(tensor([ 3,  4, 10,  6], dtype=torch.int32), array([ 3,  4, 10,  6]))"
      ]
     },
     "execution_count": 6,
     "metadata": {},
     "output_type": "execute_result"
    }
   ],
   "source": [
    "# indexing similar to numpy \n",
    "print(tensors[:2])\n",
    "tensors[2]=10\n",
    "tensors,arr "
   ]
  },
  {
   "cell_type": "code",
   "execution_count": 7,
   "id": "44356d8e",
   "metadata": {},
   "outputs": [
    {
     "data": {
      "text/plain": [
       "(tensor([ 3,  4, 12,  6], dtype=torch.int32), array([ 3,  4, 10,  6]))"
      ]
     },
     "execution_count": 7,
     "metadata": {},
     "output_type": "execute_result"
    }
   ],
   "source": [
    "# copy of the array torch.tensor()\n",
    "tensors2=torch.tensor(arr)\n",
    "tensors2[2]=12\n",
    "tensors2,arr "
   ]
  },
  {
   "cell_type": "markdown",
   "id": "700d18dc",
   "metadata": {},
   "source": [
    "# in built functions in pytorch"
   ]
  },
  {
   "cell_type": "code",
   "execution_count": 8,
   "id": "780561f4",
   "metadata": {},
   "outputs": [
    {
     "data": {
      "text/plain": [
       "tensor([[0., 0., 0.],\n",
       "        [0., 0., 0.]], dtype=torch.float64)"
      ]
     },
     "execution_count": 8,
     "metadata": {},
     "output_type": "execute_result"
    }
   ],
   "source": [
    "# zeros \n",
    "torch.zeros(2,3,dtype=torch.float64)"
   ]
  },
  {
   "cell_type": "code",
   "execution_count": 9,
   "id": "81adb550",
   "metadata": {},
   "outputs": [
    {
     "data": {
      "text/plain": [
       "tensor([[1., 1., 1., 1.],\n",
       "        [1., 1., 1., 1.],\n",
       "        [1., 1., 1., 1.]], dtype=torch.float64)"
      ]
     },
     "execution_count": 9,
     "metadata": {},
     "output_type": "execute_result"
    }
   ],
   "source": [
    "torch.ones(3,4,dtype=torch.float64)"
   ]
  },
  {
   "cell_type": "markdown",
   "id": "4fc04af9",
   "metadata": {},
   "source": [
    "# Arithmetic operations"
   ]
  },
  {
   "cell_type": "code",
   "execution_count": 10,
   "id": "3e05132a",
   "metadata": {},
   "outputs": [
    {
     "name": "stdout",
     "output_type": "stream",
     "text": [
      "tensor([ 8., 10., 12.], dtype=torch.float64)\n"
     ]
    }
   ],
   "source": [
    "a=torch.tensor([3,4,5],dtype=torch.float32)\n",
    "b=torch.tensor([5,6,7],dtype=torch.float64)\n",
    "print(a+b)"
   ]
  },
  {
   "cell_type": "code",
   "execution_count": 11,
   "id": "a161764e",
   "metadata": {},
   "outputs": [
    {
     "name": "stdout",
     "output_type": "stream",
     "text": [
      "tensor([ 8., 10., 12.])\n"
     ]
    }
   ],
   "source": [
    "c=torch.zeros(3)\n",
    "c=torch.add(a,b,out=c)\n",
    "print(c)"
   ]
  },
  {
   "cell_type": "code",
   "execution_count": 12,
   "id": "6caf3b68",
   "metadata": {},
   "outputs": [
    {
     "data": {
      "text/plain": [
       "tensor(30.)"
      ]
     },
     "execution_count": 12,
     "metadata": {},
     "output_type": "execute_result"
    }
   ],
   "source": [
    "torch.add(a,b,out=c).sum() "
   ]
  },
  {
   "cell_type": "code",
   "execution_count": 13,
   "id": "ae269000",
   "metadata": {},
   "outputs": [],
   "source": [
    "a=torch.tensor(np.arange(0,15).reshape(5,3))\n",
    "b=torch.tensor(np.arange(15,30).reshape(5,3))"
   ]
  },
  {
   "cell_type": "code",
   "execution_count": 14,
   "id": "fd1a6140",
   "metadata": {},
   "outputs": [
    {
     "data": {
      "text/plain": [
       "tensor(435)"
      ]
     },
     "execution_count": 14,
     "metadata": {},
     "output_type": "execute_result"
    }
   ],
   "source": [
    "c=a+b \n",
    "c.sum()"
   ]
  },
  {
   "cell_type": "code",
   "execution_count": 15,
   "id": "3c2d1efc",
   "metadata": {},
   "outputs": [
    {
     "data": {
      "text/plain": [
       "tensor([33, 37], dtype=torch.int32)"
      ]
     },
     "execution_count": 15,
     "metadata": {},
     "output_type": "execute_result"
    }
   ],
   "source": [
    "c[3,[0,2]]"
   ]
  },
  {
   "cell_type": "markdown",
   "id": "48d15402",
   "metadata": {},
   "source": [
    "# dot product and multi operation"
   ]
  },
  {
   "cell_type": "code",
   "execution_count": 16,
   "id": "2d8496d2",
   "metadata": {},
   "outputs": [
    {
     "data": {
      "text/plain": [
       "tensor([21., 32., 45., 60.])"
      ]
     },
     "execution_count": 16,
     "metadata": {},
     "output_type": "execute_result"
    }
   ],
   "source": [
    "x=torch.tensor([3,4,5,6],dtype=torch.float32)\n",
    "y=torch.tensor([7,8,9,10],dtype=torch.float32)\n",
    "x.mul(y)"
   ]
  },
  {
   "cell_type": "code",
   "execution_count": 17,
   "id": "433ffb28",
   "metadata": {},
   "outputs": [
    {
     "data": {
      "text/plain": [
       "tensor(158.)"
      ]
     },
     "execution_count": 17,
     "metadata": {},
     "output_type": "execute_result"
    }
   ],
   "source": [
    "#3*7+4*8+5*9+6*10\n",
    "x.dot(y)"
   ]
  },
  {
   "cell_type": "code",
   "execution_count": 18,
   "id": "5d6f215c",
   "metadata": {},
   "outputs": [],
   "source": [
    "# matrix multiplocation \n",
    "x=torch.tensor([[1,4,2],[1,5,5]],dtype=torch.float64)\n",
    "y=torch.tensor([[5,7],[8,6],[9,11]],dtype=torch.float64)"
   ]
  },
  {
   "cell_type": "code",
   "execution_count": 19,
   "id": "21f95c63",
   "metadata": {},
   "outputs": [
    {
     "data": {
      "text/plain": [
       "tensor([[55., 53.],\n",
       "        [90., 92.]], dtype=torch.float64)"
      ]
     },
     "execution_count": 19,
     "metadata": {},
     "output_type": "execute_result"
    }
   ],
   "source": [
    "x.matmul(y)"
   ]
  },
  {
   "cell_type": "code",
   "execution_count": 20,
   "id": "2158004d",
   "metadata": {},
   "outputs": [
    {
     "data": {
      "text/plain": [
       "tensor([[55., 53.],\n",
       "        [90., 92.]], dtype=torch.float64)"
      ]
     },
     "execution_count": 20,
     "metadata": {},
     "output_type": "execute_result"
    }
   ],
   "source": [
    "torch.mm(x,y)"
   ]
  },
  {
   "cell_type": "code",
   "execution_count": 21,
   "id": "effd67f1",
   "metadata": {},
   "outputs": [
    {
     "data": {
      "text/plain": [
       "tensor([[55., 53.],\n",
       "        [90., 92.]], dtype=torch.float64)"
      ]
     },
     "execution_count": 21,
     "metadata": {},
     "output_type": "execute_result"
    }
   ],
   "source": [
    "x@y "
   ]
  },
  {
   "cell_type": "markdown",
   "id": "a6508a08",
   "metadata": {},
   "source": [
    "# to device"
   ]
  },
  {
   "cell_type": "code",
   "execution_count": 22,
   "id": "16c2cd68",
   "metadata": {},
   "outputs": [
    {
     "data": {
      "text/plain": [
       "True"
      ]
     },
     "execution_count": 22,
     "metadata": {},
     "output_type": "execute_result"
    }
   ],
   "source": [
    "# check if gpu is available \n",
    "torch.cuda.is_available()"
   ]
  },
  {
   "cell_type": "code",
   "execution_count": 23,
   "id": "03d2ca1c",
   "metadata": {},
   "outputs": [
    {
     "name": "stdout",
     "output_type": "stream",
     "text": [
      "cuda:0\n"
     ]
    }
   ],
   "source": [
    "device=torch.device(\"cuda:0\"  if torch.cuda.is_available() else \"cpu\")\n",
    "print(device)"
   ]
  },
  {
   "cell_type": "code",
   "execution_count": 24,
   "id": "b287a2cf",
   "metadata": {},
   "outputs": [
    {
     "data": {
      "text/plain": [
       "device(type='cpu')"
      ]
     },
     "execution_count": 24,
     "metadata": {},
     "output_type": "execute_result"
    }
   ],
   "source": [
    "x=torch.tensor([1,2,3,4])\n",
    "x.device"
   ]
  },
  {
   "cell_type": "code",
   "execution_count": 25,
   "id": "ad2ecf9c",
   "metadata": {},
   "outputs": [
    {
     "data": {
      "text/plain": [
       "device(type='cuda', index=0)"
      ]
     },
     "execution_count": 25,
     "metadata": {},
     "output_type": "execute_result"
    }
   ],
   "source": [
    "# move tensors to GPU \n",
    "x=x.to(device=0)\n",
    "x.device"
   ]
  },
  {
   "cell_type": "code",
   "execution_count": 26,
   "id": "14606dc5",
   "metadata": {},
   "outputs": [
    {
     "data": {
      "text/plain": [
       "device(type='cuda', index=0)"
      ]
     },
     "execution_count": 26,
     "metadata": {},
     "output_type": "execute_result"
    }
   ],
   "source": [
    "y=torch.tensor([1,2,3,4],device=device)\n",
    "y.device"
   ]
  },
  {
   "cell_type": "markdown",
   "id": "d476bfe5",
   "metadata": {},
   "source": [
    "# in place memory operation GPU"
   ]
  },
  {
   "cell_type": "code",
   "execution_count": 27,
   "id": "62c4e43f",
   "metadata": {},
   "outputs": [
    {
     "name": "stdout",
     "output_type": "stream",
     "text": [
      "cuda:0\n",
      "initial memory location of t1 2460147625712\n",
      "initial memory location of x 2460147625712\n",
      "tensor([[True, True, True,  ..., True, True, True],\n",
      "        [True, True, True,  ..., True, True, True],\n",
      "        [True, True, True,  ..., True, True, True],\n",
      "        ...,\n",
      "        [True, True, True,  ..., True, True, True],\n",
      "        [True, True, True,  ..., True, True, True],\n",
      "        [True, True, True,  ..., True, True, True]], device='cuda:0')\n",
      "final memory location of tensor t1 is :2460147625712\n",
      "final memory location of tensor x is :2460147625712\n",
      "382.00048828125\n"
     ]
    }
   ],
   "source": [
    "t1=torch.randn(10000,10000,device=\"cpu\")\n",
    "\n",
    "# move tensor to gpu \n",
    "t1=t1.to(device)\n",
    "print(t1.device)\n",
    "\n",
    "# id() function to get memory address of tensor\n",
    "print(f\"initial memory location of t1 {id(t1)}\")\n",
    "x=t1 \n",
    "print(f\"initial memory location of x {id(x)}\")\n",
    "\n",
    "torch.cuda.synchronize()\n",
    "\n",
    "# initial memory allocated\n",
    "start_memory=torch.cuda.memory_allocated()\n",
    "\n",
    "# inplace operation \n",
    "t1+=0.1 \n",
    "t1.add_(0.1)\n",
    "\n",
    "# inplace operation therefore the same \n",
    "print(x==t1)\n",
    "\n",
    "print(f\"final memory location of tensor t1 is :{id(t1)}\")\n",
    "print(f\"final memory location of tensor x is :{id(x)}\")\n",
    "\n",
    "# total memory allocated after function call \n",
    "end_memory=torch.cuda.memory_allocated()\n",
    "\n",
    "# memory allocated because of function call \n",
    "memory_allocated=end_memory=start_memory \n",
    "print(memory_allocated/1024**2)"
   ]
  },
  {
   "cell_type": "markdown",
   "id": "1bd3fce3",
   "metadata": {},
   "source": [
    "# memory out of place operation"
   ]
  },
  {
   "cell_type": "code",
   "execution_count": 28,
   "id": "4287a75f",
   "metadata": {},
   "outputs": [
    {
     "name": "stdout",
     "output_type": "stream",
     "text": [
      "cuda:0\n",
      "initial memory location of tensor t2 2460147662576\n",
      "final memory location of y is : 2460147662576\n",
      "tensor([[False, False, False,  ..., False, False, False],\n",
      "        [False, False, False,  ..., False, False, False],\n",
      "        [False, False, False,  ..., False, False, False],\n",
      "        ...,\n",
      "        [False, False, False,  ..., False, False, False],\n",
      "        [False, False, False,  ..., False, False, False],\n",
      "        [False, False, False,  ..., False, False, False]], device='cuda:0')\n",
      "final memory location of tensor t2 2459175237488\n",
      "final memory location of y is : 2460147662576\n",
      "382.0\n"
     ]
    }
   ],
   "source": [
    "# create tensor\n",
    "t2 = torch.randn(10000, 10000, device=\"cpu\")\n",
    "\n",
    "# move tensor to gpu\n",
    "t2 = t2.to(device)\n",
    "print(t2.device)\n",
    "\n",
    "# we can use id() function to get memory location of tensor\n",
    "print(f\"initial memory location of tensor t2 {id(t2)}\")\n",
    "\n",
    "y = t2\n",
    "print(f\"final memory location of y is : {id(y)}\")\n",
    "\n",
    "# Waits for everything to finish running\n",
    "torch.cuda.synchronize()\n",
    "\n",
    "# initial memory allocated\n",
    "start_memory = torch.cuda.memory_allocated()\n",
    "\n",
    "# out-place opertaions\n",
    "t2 = t2 + 0.1\n",
    "\n",
    "# since the operation was not inplace when we update t2 it will not update y\n",
    "print(y == t2)\n",
    "\n",
    "# we can use id() function to get memory location of tensor\n",
    "print(f\"final memory location of tensor t2 {id(t2)}\")\n",
    "print(f\"final memory location of y is : {id(y)}\")\n",
    "\n",
    "# totall memory allocated after function call\n",
    "end_memory = torch.cuda.memory_allocated()\n",
    "\n",
    "# memory allocated because of function call\n",
    "memory_allocated = end_memory - start_memory\n",
    "print(memory_allocated / 1024**2)"
   ]
  },
  {
   "cell_type": "markdown",
   "id": "07cf986e",
   "metadata": {},
   "source": [
    "# linear algebra\n",
    "- dot product "
   ]
  },
  {
   "cell_type": "code",
   "execution_count": 30,
   "id": "6b7adde5",
   "metadata": {},
   "outputs": [
    {
     "data": {
      "text/plain": [
       "tensor(2)"
      ]
     },
     "execution_count": 30,
     "metadata": {},
     "output_type": "execute_result"
    }
   ],
   "source": [
    "x=torch.tensor([0,1,1,1])\n",
    "y=torch.tensor([0,1,1,0])\n",
    "torch.dot(x,y)"
   ]
  },
  {
   "cell_type": "code",
   "execution_count": 31,
   "id": "c709b3ee",
   "metadata": {},
   "outputs": [
    {
     "data": {
      "text/plain": [
       "tensor(2)"
      ]
     },
     "execution_count": 31,
     "metadata": {},
     "output_type": "execute_result"
    }
   ],
   "source": [
    "torch.sum(x*y)"
   ]
  },
  {
   "cell_type": "code",
   "execution_count": 38,
   "id": "a5d00321",
   "metadata": {},
   "outputs": [],
   "source": [
    "import time \n",
    "n=1000000\n",
    "a=torch.arange(n)\n",
    "b=torch.arange(n)\n",
    "\n",
    "def pytorch_dot(x,y):\n",
    "    return x.dot(y)"
   ]
  },
  {
   "cell_type": "code",
   "execution_count": 39,
   "id": "d60d8c15",
   "metadata": {},
   "outputs": [
    {
     "name": "stdout",
     "output_type": "stream",
     "text": [
      "567 µs ± 16.6 µs per loop (mean ± std. dev. of 7 runs, 1,000 loops each)\n"
     ]
    }
   ],
   "source": [
    "%timeit pytorch_dot(a,b)"
   ]
  },
  {
   "cell_type": "code",
   "execution_count": 41,
   "id": "88c2ac8d",
   "metadata": {},
   "outputs": [],
   "source": [
    "a1=a.tolist()\n",
    "b1=b.tolist()\n",
    "def plain_python(x,y):\n",
    "    output=0\n",
    "    for i,j in zip(x,y):\n",
    "        output+=i*j \n",
    "    return output "
   ]
  },
  {
   "cell_type": "code",
   "execution_count": 42,
   "id": "00d37f5b",
   "metadata": {},
   "outputs": [
    {
     "name": "stdout",
     "output_type": "stream",
     "text": [
      "6.62 s ± 42.6 ms per loop (mean ± std. dev. of 7 runs, 1 loop each)\n"
     ]
    }
   ],
   "source": [
    "%timeit plain_python(a,b)"
   ]
  },
  {
   "cell_type": "markdown",
   "id": "b8d13722",
   "metadata": {},
   "source": [
    "# matrices operations"
   ]
  },
  {
   "cell_type": "code",
   "execution_count": 49,
   "id": "0f05e0b1",
   "metadata": {},
   "outputs": [
    {
     "name": "stdout",
     "output_type": "stream",
     "text": [
      "2460147998864 2461821726528\n"
     ]
    }
   ],
   "source": [
    "A=torch.arange(0,25).reshape(5,5)\n",
    "A \n",
    "B=A.clone()\n",
    "print(id(A),id(B))"
   ]
  },
  {
   "cell_type": "code",
   "execution_count": 50,
   "id": "b88de811",
   "metadata": {},
   "outputs": [
    {
     "data": {
      "text/plain": [
       "tensor([[ 0,  2,  4,  6,  8],\n",
       "        [10, 12, 14, 16, 18],\n",
       "        [20, 22, 24, 26, 28],\n",
       "        [30, 32, 34, 36, 38],\n",
       "        [40, 42, 44, 46, 48]])"
      ]
     },
     "execution_count": 50,
     "metadata": {},
     "output_type": "execute_result"
    }
   ],
   "source": [
    "A+B "
   ]
  },
  {
   "cell_type": "code",
   "execution_count": 51,
   "id": "33409b7c",
   "metadata": {},
   "outputs": [
    {
     "data": {
      "text/plain": [
       "tensor([[0, 0, 0, 0, 0],\n",
       "        [0, 0, 0, 0, 0],\n",
       "        [0, 0, 0, 0, 0],\n",
       "        [0, 0, 0, 0, 0],\n",
       "        [0, 0, 0, 0, 0]])"
      ]
     },
     "execution_count": 51,
     "metadata": {},
     "output_type": "execute_result"
    }
   ],
   "source": [
    "A-B"
   ]
  },
  {
   "cell_type": "code",
   "execution_count": 52,
   "id": "b94c7a40",
   "metadata": {},
   "outputs": [
    {
     "name": "stdout",
     "output_type": "stream",
     "text": [
      "tensor([[ 2,  3,  4,  5,  6],\n",
      "        [ 7,  8,  9, 10, 11],\n",
      "        [12, 13, 14, 15, 16],\n",
      "        [17, 18, 19, 20, 21],\n",
      "        [22, 23, 24, 25, 26]])\n",
      "\n",
      "tensor([[ 0,  2,  4,  6,  8],\n",
      "        [10, 12, 14, 16, 18],\n",
      "        [20, 22, 24, 26, 28],\n",
      "        [30, 32, 34, 36, 38],\n",
      "        [40, 42, 44, 46, 48]])\n"
     ]
    }
   ],
   "source": [
    "# multiplying matrices with scalars \n",
    "a=2\n",
    "print(a+A)\n",
    "print() \n",
    "print(a*A)"
   ]
  },
  {
   "cell_type": "code",
   "execution_count": 53,
   "id": "fd6874df",
   "metadata": {},
   "outputs": [
    {
     "data": {
      "text/plain": [
       "tensor([[ 0,  5, 10, 15, 20],\n",
       "        [ 1,  6, 11, 16, 21],\n",
       "        [ 2,  7, 12, 17, 22],\n",
       "        [ 3,  8, 13, 18, 23],\n",
       "        [ 4,  9, 14, 19, 24]])"
      ]
     },
     "execution_count": 53,
     "metadata": {},
     "output_type": "execute_result"
    }
   ],
   "source": [
    "# transpose a matrix \n",
    "A.T"
   ]
  },
  {
   "cell_type": "code",
   "execution_count": 54,
   "id": "e6edec01",
   "metadata": {},
   "outputs": [
    {
     "data": {
      "text/plain": [
       "tensor([[  0,   1,   4,   9,  16],\n",
       "        [ 25,  36,  49,  64,  81],\n",
       "        [100, 121, 144, 169, 196],\n",
       "        [225, 256, 289, 324, 361],\n",
       "        [400, 441, 484, 529, 576]])"
      ]
     },
     "execution_count": 54,
     "metadata": {},
     "output_type": "execute_result"
    }
   ],
   "source": [
    "# hadamard product \n",
    "A*B "
   ]
  },
  {
   "cell_type": "code",
   "execution_count": 59,
   "id": "6d5f3af7",
   "metadata": {},
   "outputs": [
    {
     "data": {
      "text/plain": [
       "tensor([[10., 10.],\n",
       "        [35., 35.]], dtype=torch.float64)"
      ]
     },
     "execution_count": 59,
     "metadata": {},
     "output_type": "execute_result"
    }
   ],
   "source": [
    "# matrix multiplication \n",
    "A=torch.arange(0,10,dtype=float).reshape(2,5)\n",
    "B=torch.ones(5,2,dtype=float)\n",
    "torch.mm(A,B)"
   ]
  },
  {
   "cell_type": "markdown",
   "id": "5007382a",
   "metadata": {},
   "source": [
    "# prediction on multiple training example via matrix multiplication "
   ]
  },
  {
   "cell_type": "code",
   "execution_count": 62,
   "id": "ee90d56f",
   "metadata": {},
   "outputs": [
    {
     "name": "stdout",
     "output_type": "stream",
     "text": [
      "torch.Size([5, 2]) torch.Size([2, 1]) torch.Size([1])\n"
     ]
    }
   ],
   "source": [
    "bias = torch.tensor([0.])\n",
    "theta=torch.tensor([0.2,9.3])\n",
    "theta=theta.view(-1,1)\n",
    "x=torch.tensor([\n",
    "    [1.8,9.2],\n",
    "    [0.2,3.3],\n",
    "    [5.2,3.4],\n",
    "    [3.4,4.5],\n",
    "    [6.1,7.1]\n",
    "])\n",
    "print(x.shape,theta.shape,bias.shape)"
   ]
  },
  {
   "cell_type": "code",
   "execution_count": 63,
   "id": "b1c7d32c",
   "metadata": {},
   "outputs": [
    {
     "data": {
      "text/plain": [
       "tensor([[85.9200],\n",
       "        [30.7300],\n",
       "        [32.6600],\n",
       "        [42.5300],\n",
       "        [67.2500]])"
      ]
     },
     "execution_count": 63,
     "metadata": {},
     "output_type": "execute_result"
    }
   ],
   "source": [
    "prediction=x.matmul(theta)+bias \n",
    "prediction"
   ]
  },
  {
   "cell_type": "markdown",
   "id": "8804a22e",
   "metadata": {},
   "source": [
    "# broadcasting\n",
    "- broadcasting describes how tensor has to be treated during arithematic operation. \n",
    "- if we have tensors of different sizes we can broadcast the smaller array across the larger one so that they can have compatible shapes "
   ]
  },
  {
   "cell_type": "code",
   "execution_count": 68,
   "id": "8a0c7cff",
   "metadata": {},
   "outputs": [],
   "source": [
    "t=torch.tensor([1,-2,4])\n"
   ]
  },
  {
   "cell_type": "code",
   "execution_count": 69,
   "id": "bf75560d",
   "metadata": {},
   "outputs": [
    {
     "data": {
      "text/plain": [
       "tensor([[24, 32, 28],\n",
       "        [26, 34, 26],\n",
       "        [28, 36, 24]])"
      ]
     },
     "execution_count": 69,
     "metadata": {},
     "output_type": "execute_result"
    }
   ],
   "source": [
    "t2=torch.tensor([[12,16,14],[13,17,13],[14,18,12]])\n",
    "t2*2 "
   ]
  },
  {
   "cell_type": "markdown",
   "id": "d1e1c0a8",
   "metadata": {},
   "source": [
    "# broadcasting a vector matrix"
   ]
  },
  {
   "cell_type": "code",
   "execution_count": 72,
   "id": "dab76525",
   "metadata": {},
   "outputs": [
    {
     "data": {
      "text/plain": [
       "tensor([[13, 18, 17],\n",
       "        [14, 19, 16],\n",
       "        [15, 20, 15]])"
      ]
     },
     "execution_count": 72,
     "metadata": {},
     "output_type": "execute_result"
    }
   ],
   "source": [
    "t2 = torch.tensor([[12, 16, 14], [13, 17, 13], [14, 18, 12]])\n",
    "t1 = torch.tensor([1, 2, 3])\n",
    "t1+t2"
   ]
  },
  {
   "cell_type": "code",
   "execution_count": 76,
   "id": "c8439c07",
   "metadata": {},
   "outputs": [
    {
     "data": {
      "text/plain": [
       " 1\n",
       " 2\n",
       " 3\n",
       "[torch.storage.TypedStorage(dtype=torch.int64, device=cpu) of size 3]"
      ]
     },
     "execution_count": 76,
     "metadata": {},
     "output_type": "execute_result"
    }
   ],
   "source": [
    "t1.storage()"
   ]
  },
  {
   "cell_type": "code",
   "execution_count": 77,
   "id": "a6384178",
   "metadata": {},
   "outputs": [
    {
     "data": {
      "text/plain": [
       "tensor([[1, 2, 3],\n",
       "        [1, 2, 3],\n",
       "        [1, 2, 3]])"
      ]
     },
     "execution_count": 77,
     "metadata": {},
     "output_type": "execute_result"
    }
   ],
   "source": [
    "t1_mod=t1.expand_as(t2)\n",
    "t1_mod"
   ]
  },
  {
   "cell_type": "code",
   "execution_count": 78,
   "id": "8ad3eb92",
   "metadata": {},
   "outputs": [
    {
     "data": {
      "text/plain": [
       " 1\n",
       " 2\n",
       " 3\n",
       "[torch.storage.TypedStorage(dtype=torch.int64, device=cpu) of size 3]"
      ]
     },
     "execution_count": 78,
     "metadata": {},
     "output_type": "execute_result"
    }
   ],
   "source": [
    "t1_mod.storage()"
   ]
  },
  {
   "cell_type": "code",
   "execution_count": 80,
   "id": "77c0f476",
   "metadata": {},
   "outputs": [
    {
     "name": "stdout",
     "output_type": "stream",
     "text": [
      "tensor([[13, 18, 17],\n",
      "        [14, 19, 16],\n",
      "        [15, 20, 15]])\n",
      "tensor([[13, 18, 17],\n",
      "        [14, 19, 16],\n",
      "        [15, 20, 15]])\n"
     ]
    }
   ],
   "source": [
    "print(t1_mod+t2)\n",
    "print(t1+t2)"
   ]
  },
  {
   "cell_type": "code",
   "execution_count": 84,
   "id": "8966e256",
   "metadata": {},
   "outputs": [
    {
     "data": {
      "text/plain": [
       "torch.Size([5, 8, 10, 1])"
      ]
     },
     "execution_count": 84,
     "metadata": {},
     "output_type": "execute_result"
    }
   ],
   "source": [
    "t1 = torch.empty(5, 8, 10, 1)\n",
    "t2 = torch.empty(  8, 1, 1,)\n",
    "(t1+t2).size()"
   ]
  },
  {
   "cell_type": "code",
   "execution_count": 95,
   "id": "9be80a28",
   "metadata": {},
   "outputs": [
    {
     "ename": "RuntimeError",
     "evalue": "The size of tensor a (10) must match the size of tensor b (5) at non-singleton dimension 2",
     "output_type": "error",
     "traceback": [
      "\u001b[1;31m---------------------------------------------------------------------------\u001b[0m",
      "\u001b[1;31mRuntimeError\u001b[0m                              Traceback (most recent call last)",
      "Cell \u001b[1;32mIn[95], line 4\u001b[0m\n\u001b[0;32m      2\u001b[0m t1 \u001b[38;5;241m=\u001b[39m torch\u001b[38;5;241m.\u001b[39mempty(\u001b[38;5;241m7\u001b[39m, \u001b[38;5;241m8\u001b[39m, \u001b[38;5;241m10\u001b[39m, \u001b[38;5;241m1\u001b[39m)\n\u001b[0;32m      3\u001b[0m t2 \u001b[38;5;241m=\u001b[39m torch\u001b[38;5;241m.\u001b[39mempty  ( \u001b[38;5;241m8\u001b[39m, \u001b[38;5;241m5\u001b[39m, \u001b[38;5;241m1\u001b[39m)\n\u001b[1;32m----> 4\u001b[0m (\u001b[43mt1\u001b[49m\u001b[43m \u001b[49m\u001b[38;5;241;43m+\u001b[39;49m\u001b[43m \u001b[49m\u001b[43mt2\u001b[49m)\u001b[38;5;241m.\u001b[39msize()\n",
      "\u001b[1;31mRuntimeError\u001b[0m: The size of tensor a (10) must match the size of tensor b (5) at non-singleton dimension 2"
     ]
    }
   ],
   "source": [
    "# Example where broadcasting is not possible\n",
    "t1 = torch.empty(7, 8, 10, 1)\n",
    "t2 = torch.empty  ( 8, 5, 1)\n",
    "(t1 + t2).size()"
   ]
  },
  {
   "cell_type": "code",
   "execution_count": null,
   "id": "d71d6776",
   "metadata": {},
   "outputs": [],
   "source": []
  }
 ],
 "metadata": {
  "kernelspec": {
   "display_name": "pytorch",
   "language": "python",
   "name": "python3"
  },
  "language_info": {
   "codemirror_mode": {
    "name": "ipython",
    "version": 3
   },
   "file_extension": ".py",
   "mimetype": "text/x-python",
   "name": "python",
   "nbconvert_exporter": "python",
   "pygments_lexer": "ipython3",
   "version": "3.9.23"
  }
 },
 "nbformat": 4,
 "nbformat_minor": 5
}
